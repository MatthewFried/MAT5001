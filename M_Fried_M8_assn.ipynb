{
  "nbformat": 4,
  "nbformat_minor": 0,
  "metadata": {
    "colab": {
      "name": "M_Fried_M8_assn.ipynb",
      "provenance": [],
      "authorship_tag": "ABX9TyOWmMDDRfKDyY63ju4zW6Bh",
      "include_colab_link": true
    },
    "kernelspec": {
      "name": "python3",
      "display_name": "Python 3"
    }
  },
  "cells": [
    {
      "cell_type": "markdown",
      "metadata": {
        "id": "view-in-github",
        "colab_type": "text"
      },
      "source": [
        "<a href=\"https://colab.research.google.com/github/MatthewFried/MAT5001/blob/main/M_Fried_M8_assn.ipynb\" target=\"_parent\"><img src=\"https://colab.research.google.com/assets/colab-badge.svg\" alt=\"Open In Colab\"/></a>"
      ]
    },
    {
      "cell_type": "markdown",
      "metadata": {
        "id": "G9iziiN8uGTP"
      },
      "source": [
        "# Diamonds\r\n",
        "\r\n",
        "The data set we will be using for this is a well-known set of attributes that describe both the physical characteristics and prices of nearly 54,000 diamonds. \r\n",
        "\r\n",
        "We have a data frame with 53940 rows and 10 variables:\r\n",
        "\r\n",
        "* price - price in US dollars (\\$326--\\$18,823)\r\n",
        "* carat - weight of the diamond (0.2--5.01)\r\n",
        "* cut - quality of the cut (Fair, Good, Very Good, Premium, Ideal)\r\n",
        "* color - diamond colour, from D (best) to J (worst)\r\n",
        "* clarity - a measurement of how clear the diamond is (I1 (worst), SI2, SI1, VS2, VS1, VVS2, VVS1, IF (best))\r\n",
        "* x - length in mm (0--10.74)\r\n",
        "* y - width in mm (0--58.9)\r\n",
        "* z - depth in mm (0--31.8)\r\n",
        "* depth - total depth percentage = z / mean(x, y) = 2 * z / (x + y) (43--79)\r\n",
        "* table - width of top of diamond relative to widest point (43--95)\r\n",
        "\r\n",
        "This data set has been widely used for purposes of demonstrating machine learning algorithms that predict the price of a diamond. \r\n",
        "\r\n",
        "##**Analysis of Various Features**##\r\n",
        "\r\n",
        "* Carat is a metric that is used to measure the weight of a diamond. One carat is equivalent to 200mg. Obviously, as a general rule diamond prices increase with diamond carat weight.\r\n",
        "\r\n",
        "* Clarity in diamonds is generated from sheer pressure and heat below the ground. This may be a mark or line pattern inside a diamond. Also, there will be a mark or line in the outer layer of a diamond, which is called blemishes. Based on the amount of inclusion and blemishes, the clarity of a diamond is categorized such as FL, IF, VSS1, VSS2, VS1, VS2, SI1, SI2, I1, I2, I3. The categories mentioned above are ordered in descending order by the amount of presence of inclusion and blemishes. See below for pictures.\r\n",
        "\r\n",
        "* Cut in diamonds measures three things:\r\n",
        "  1. Brilliance: The reflection of white lights inside and outside of a diamond.\r\n",
        "  2. Fire: The scattering of white light into all the colors of the rainbow.\r\n",
        "  3. Scintillation: The amount of sparkle produced and the pattern of light and dark areas caused by reflection within a diamond.\r\n",
        "\r\n",
        "The goal is to cut a diamond within an appropriate size shape, and angle such that the light entering the diamond should reflect and leave from the top surface. \r\n",
        "\r\n",
        "* Color in a diamond is categorized from D to Z letters and ordered in ascending by the amount of presence of color in a diamond. From the K onwards to till Z, we can see a yellowish color present.\r\n",
        "  1. D ,E,F - Colorless \r\n",
        "  2. G,H,I,J - Near colorlessness \r\n",
        "  3. K, L, M - Faint color \r\n",
        "  4. N-R: Very Light Color \r\n",
        "  5. S-Z: light color\r\n",
        "\r\n",
        "Below is a picture explaining what we mean by x, y, and z.\r\n",
        "![Data](https://drive.google.com/uc?export=view&id=1mewlCY7i4q1nPMNyUjcU7rW16_2Aw6pY)\r\n",
        "\r\n",
        "Below is a picture with more information on some of the features: ![Data](https://drive.google.com/uc?export=view&id=1KiXKOjRpRsg3Niy8jHVcCcl1y0B7kTy5)\r\n",
        "\r\n",
        "And, lastly, here is some background via [Wikipedia](https://en.wikipedia.org/wiki/Diamond):\r\n",
        "Diamond is a solid form of the element carbon with its atoms arranged in a crystal structure called diamond cubic. At room temperature and pressure, another solid form of carbon known as graphite is the chemically stable form, but diamond almost never converts to it. Diamond has the highest hardness and thermal conductivity of any natural material, properties that are utilized in major industrial applications such as cutting and polishing tools. They are also the reason that diamond anvil cells can subject materials to pressures found deep in the Earth.\r\n",
        "\r\n",
        "Because the arrangement of atoms in diamond is extremely rigid, few types of impurity can contaminate it (two exceptions being boron and nitrogen). Small numbers of defects or impurities (about one per million of lattice atoms) color diamond blue (boron), yellow (nitrogen), brown (defects), green (radiation exposure), purple, pink, orange or red. Diamond also has relatively high optical dispersion.\r\n",
        "\r\n",
        "Most natural diamonds have ages between 1 billion and 3.5 billion years. Most were formed at depths between 150 and 250 kilometres (93 and 155 mi) in the Earth's mantle, although a few have come from as deep as 800 kilometres (500 mi). Under high pressure and temperature, carbon-containing fluids dissolved various minerals and replaced them with diamonds. Much more recently (tens to hundreds of million years ago), they were carried to the surface in volcanic eruptions and deposited in igneous rocks known as kimberlites and lamproites.\r\n",
        "\r\n"
      ]
    },
    {
      "cell_type": "markdown",
      "metadata": {
        "id": "OfYjNMrG4-iZ"
      },
      "source": [
        "## Data Summary and EDA\r\n",
        "\r\n",
        "Although we explained the data above, below we write code to summarize the number of use cases, etc. We investigate the NaNs, we create charts to display value counts, we create histograms, and analyze our data (using matplotlib and seaborn)."
      ]
    },
    {
      "cell_type": "code",
      "metadata": {
        "colab": {
          "base_uri": "https://localhost:8080/"
        },
        "id": "TfA54ouduE2o",
        "outputId": "e14f14a2-92ba-4780-ef80-c7b600c27095"
      },
      "source": [
        "# load pandas and numpy libraries\r\n",
        "import pandas as pd \r\n",
        "import numpy as np\r\n",
        "import matplotlib.pyplot as plt\r\n",
        "import missingno as msno\r\n",
        "import seaborn as sns\r\n",
        "\r\n",
        "df = pd.read_csv(\"https://raw.githubusercontent.com/MatthewFried/MAT5001/main/diamonds.csv\")\r\n",
        "df.drop(df.columns[0],axis=1,inplace=True)\r\n",
        "print(df.shape)\r\n",
        "print(df.head())"
      ],
      "execution_count": null,
      "outputs": [
        {
          "output_type": "stream",
          "text": [
            "(53940, 10)\n",
            "   carat      cut color clarity  depth  table  price     x     y     z\n",
            "0   0.23    Ideal     E     SI2   61.5   55.0    326  3.95  3.98  2.43\n",
            "1   0.21  Premium     E     SI1   59.8   61.0    326  3.89  3.84  2.31\n",
            "2   0.23     Good     E     VS1   56.9   65.0    327  4.05  4.07  2.31\n",
            "3   0.29  Premium     I     VS2   62.4   58.0    334  4.20  4.23  2.63\n",
            "4   0.31     Good     J     SI2   63.3   58.0    335  4.34  4.35  2.75\n"
          ],
          "name": "stdout"
        }
      ]
    },
    {
      "cell_type": "code",
      "metadata": {
        "colab": {
          "base_uri": "https://localhost:8080/"
        },
        "id": "pyTFwkFpxHn4",
        "outputId": "bd66964a-1a69-4650-a8b4-42ebf1f3d3fb"
      },
      "source": [
        "#List number of unique values\r\n",
        "#We see this matches with the information that is given about the data\r\n",
        "df.nunique()"
      ],
      "execution_count": null,
      "outputs": [
        {
          "output_type": "execute_result",
          "data": {
            "text/plain": [
              "carat        273\n",
              "cut            5\n",
              "color          7\n",
              "clarity        8\n",
              "depth        184\n",
              "table        127\n",
              "price      11602\n",
              "x            554\n",
              "y            552\n",
              "z            375\n",
              "dtype: int64"
            ]
          },
          "metadata": {
            "tags": []
          },
          "execution_count": 154
        }
      ]
    },
    {
      "cell_type": "code",
      "metadata": {
        "colab": {
          "base_uri": "https://localhost:8080/"
        },
        "id": "Yj9lujcDxb6g",
        "outputId": "92209601-6f85-4851-bbb4-ebe2ec82080c"
      },
      "source": [
        "#here are the data types of each attribute\r\n",
        "#as above, here is a list of the categorical types: cut, color, clarity\r\n",
        "df.dtypes"
      ],
      "execution_count": null,
      "outputs": [
        {
          "output_type": "execute_result",
          "data": {
            "text/plain": [
              "carat      float64\n",
              "cut         object\n",
              "color       object\n",
              "clarity     object\n",
              "depth      float64\n",
              "table      float64\n",
              "price        int64\n",
              "x          float64\n",
              "y          float64\n",
              "z          float64\n",
              "dtype: object"
            ]
          },
          "metadata": {
            "tags": []
          },
          "execution_count": 155
        }
      ]
    },
    {
      "cell_type": "code",
      "metadata": {
        "colab": {
          "base_uri": "https://localhost:8080/"
        },
        "id": "ioPYgpUpxIIW",
        "outputId": "45b1ec11-5cdb-4ec5-c5b7-b780929626f7"
      },
      "source": [
        "#check for nulls\r\n",
        "df.isnull().sum()"
      ],
      "execution_count": null,
      "outputs": [
        {
          "output_type": "execute_result",
          "data": {
            "text/plain": [
              "carat      0\n",
              "cut        0\n",
              "color      0\n",
              "clarity    0\n",
              "depth      0\n",
              "table      0\n",
              "price      0\n",
              "x          0\n",
              "y          0\n",
              "z          0\n",
              "dtype: int64"
            ]
          },
          "metadata": {
            "tags": []
          },
          "execution_count": 156
        }
      ]
    },
    {
      "cell_type": "code",
      "metadata": {
        "colab": {
          "base_uri": "https://localhost:8080/"
        },
        "id": "YdWHJerhxMhU",
        "outputId": "85b45d72-308f-42f3-f73c-3c555418777d"
      },
      "source": [
        "#check each categorical value\r\n",
        "vals = df[['cut', 'color', 'clarity']].copy()\r\n",
        "for x in range(len(vals.columns)):\r\n",
        "    print(vals.columns[x] + \":\")\r\n",
        "    print(vals[vals.columns[x]].unique())\r\n",
        "    print(\"\")"
      ],
      "execution_count": null,
      "outputs": [
        {
          "output_type": "stream",
          "text": [
            "cut:\n",
            "['Ideal' 'Premium' 'Good' 'Very Good' 'Fair']\n",
            "\n",
            "color:\n",
            "['E' 'I' 'J' 'H' 'F' 'G' 'D']\n",
            "\n",
            "clarity:\n",
            "['SI2' 'SI1' 'VS1' 'VS2' 'VVS2' 'VVS1' 'I1' 'IF']\n",
            "\n"
          ],
          "name": "stdout"
        }
      ]
    },
    {
      "cell_type": "markdown",
      "metadata": {
        "id": "oO2GzvpJ4oeH"
      },
      "source": [
        "We do a value counts for our categorical data."
      ]
    },
    {
      "cell_type": "code",
      "metadata": {
        "colab": {
          "base_uri": "https://localhost:8080/",
          "height": 323
        },
        "id": "s5UWLqir0bU1",
        "outputId": "cee1ad48-95c0-4e02-92e9-e00d0a939601"
      },
      "source": [
        "%matplotlib inline\r\n",
        "\r\n",
        "bplt = df['cut'].value_counts().plot.bar(title = \"Freq Dist of Cut\")\r\n",
        "bplt;"
      ],
      "execution_count": null,
      "outputs": [
        {
          "output_type": "display_data",
          "data": {
            "image/png": "[encoded data removed]",
            "text/plain": [
              "<Figure size 432x288 with 1 Axes>"
            ]
          },
          "metadata": {
            "tags": [],
            "needs_background": "light"
          }
        }
      ]
    },
    {
      "cell_type": "code",
      "metadata": {
        "colab": {
          "base_uri": "https://localhost:8080/",
          "height": 279
        },
        "id": "4HHPxI5L1d0b",
        "outputId": "dd372b6b-75e1-49d0-97a6-322ecc9bfb06"
      },
      "source": [
        "bplt = df['color'].value_counts().plot.bar(title = \"Freq Dist of Color\")\r\n",
        "bplt;"
      ],
      "execution_count": null,
      "outputs": [
        {
          "output_type": "display_data",
          "data": {
            "image/png": "[encoded data removed]",
            "text/plain": [
              "<Figure size 432x288 with 1 Axes>"
            ]
          },
          "metadata": {
            "tags": [],
            "needs_background": "light"
          }
        }
      ]
    },
    {
      "cell_type": "code",
      "metadata": {
        "colab": {
          "base_uri": "https://localhost:8080/",
          "height": 298
        },
        "id": "Fq24A1wC1hln",
        "outputId": "5fb3ae1d-2a66-46b5-a361-5e4f7ea1e553"
      },
      "source": [
        "bplt = df['clarity'].value_counts().plot.bar(title = \"Freq Dist of Clarity\")\r\n",
        "bplt;"
      ],
      "execution_count": null,
      "outputs": [
        {
          "output_type": "display_data",
          "data": {
            "image/png": "[encoded data removed]",
            "text/plain": [
              "<Figure size 432x288 with 1 Axes>"
            ]
          },
          "metadata": {
            "tags": [],
            "needs_background": "light"
          }
        }
      ]
    },
    {
      "cell_type": "markdown",
      "metadata": {
        "id": "gKog2mm15rhV"
      },
      "source": [
        "Overall we see that we do not have as many examples of lower quality diamonds as higher quality diamonds."
      ]
    },
    {
      "cell_type": "code",
      "metadata": {
        "colab": {
          "base_uri": "https://localhost:8080/",
          "height": 295
        },
        "id": "vNXNqoJ6xM4Q",
        "outputId": "db548072-eb0d-4cc3-88b3-6b76db2e58b8"
      },
      "source": [
        "#get the statistics of numeric data\r\n",
        "df.describe()"
      ],
      "execution_count": null,
      "outputs": [
        {
          "output_type": "execute_result",
          "data": {
            "text/html": [
              "<div>\n",
              "<style scoped>\n",
              "    .dataframe tbody tr th:only-of-type {\n",
              "        vertical-align: middle;\n",
              "    }\n",
              "\n",
              "    .dataframe tbody tr th {\n",
              "        vertical-align: top;\n",
              "    }\n",
              "\n",
              "    .dataframe thead th {\n",
              "        text-align: right;\n",
              "    }\n",
              "</style>\n",
              "<table border=\"1\" class=\"dataframe\">\n",
              "  <thead>\n",
              "    <tr style=\"text-align: right;\">\n",
              "      <th></th>\n",
              "      <th>carat</th>\n",
              "      <th>depth</th>\n",
              "      <th>table</th>\n",
              "      <th>price</th>\n",
              "      <th>x</th>\n",
              "      <th>y</th>\n",
              "      <th>z</th>\n",
              "    </tr>\n",
              "  </thead>\n",
              "  <tbody>\n",
              "    <tr>\n",
              "      <th>count</th>\n",
              "      <td>53940.000000</td>\n",
              "      <td>53940.000000</td>\n",
              "      <td>53940.000000</td>\n",
              "      <td>53940.000000</td>\n",
              "      <td>53940.000000</td>\n",
              "      <td>53940.000000</td>\n",
              "      <td>53940.000000</td>\n",
              "    </tr>\n",
              "    <tr>\n",
              "      <th>mean</th>\n",
              "      <td>0.797940</td>\n",
              "      <td>61.749405</td>\n",
              "      <td>57.457184</td>\n",
              "      <td>3932.799722</td>\n",
              "      <td>5.731157</td>\n",
              "      <td>5.734526</td>\n",
              "      <td>3.538734</td>\n",
              "    </tr>\n",
              "    <tr>\n",
              "      <th>std</th>\n",
              "      <td>0.474011</td>\n",
              "      <td>1.432621</td>\n",
              "      <td>2.234491</td>\n",
              "      <td>3989.439738</td>\n",
              "      <td>1.121761</td>\n",
              "      <td>1.142135</td>\n",
              "      <td>0.705699</td>\n",
              "    </tr>\n",
              "    <tr>\n",
              "      <th>min</th>\n",
              "      <td>0.200000</td>\n",
              "      <td>43.000000</td>\n",
              "      <td>43.000000</td>\n",
              "      <td>326.000000</td>\n",
              "      <td>0.000000</td>\n",
              "      <td>0.000000</td>\n",
              "      <td>0.000000</td>\n",
              "    </tr>\n",
              "    <tr>\n",
              "      <th>25%</th>\n",
              "      <td>0.400000</td>\n",
              "      <td>61.000000</td>\n",
              "      <td>56.000000</td>\n",
              "      <td>950.000000</td>\n",
              "      <td>4.710000</td>\n",
              "      <td>4.720000</td>\n",
              "      <td>2.910000</td>\n",
              "    </tr>\n",
              "    <tr>\n",
              "      <th>50%</th>\n",
              "      <td>0.700000</td>\n",
              "      <td>61.800000</td>\n",
              "      <td>57.000000</td>\n",
              "      <td>2401.000000</td>\n",
              "      <td>5.700000</td>\n",
              "      <td>5.710000</td>\n",
              "      <td>3.530000</td>\n",
              "    </tr>\n",
              "    <tr>\n",
              "      <th>75%</th>\n",
              "      <td>1.040000</td>\n",
              "      <td>62.500000</td>\n",
              "      <td>59.000000</td>\n",
              "      <td>5324.250000</td>\n",
              "      <td>6.540000</td>\n",
              "      <td>6.540000</td>\n",
              "      <td>4.040000</td>\n",
              "    </tr>\n",
              "    <tr>\n",
              "      <th>max</th>\n",
              "      <td>5.010000</td>\n",
              "      <td>79.000000</td>\n",
              "      <td>95.000000</td>\n",
              "      <td>18823.000000</td>\n",
              "      <td>10.740000</td>\n",
              "      <td>58.900000</td>\n",
              "      <td>31.800000</td>\n",
              "    </tr>\n",
              "  </tbody>\n",
              "</table>\n",
              "</div>"
            ],
            "text/plain": [
              "              carat         depth  ...             y             z\n",
              "count  53940.000000  53940.000000  ...  53940.000000  53940.000000\n",
              "mean       0.797940     61.749405  ...      5.734526      3.538734\n",
              "std        0.474011      1.432621  ...      1.142135      0.705699\n",
              "min        0.200000     43.000000  ...      0.000000      0.000000\n",
              "25%        0.400000     61.000000  ...      4.720000      2.910000\n",
              "50%        0.700000     61.800000  ...      5.710000      3.530000\n",
              "75%        1.040000     62.500000  ...      6.540000      4.040000\n",
              "max        5.010000     79.000000  ...     58.900000     31.800000\n",
              "\n",
              "[8 rows x 7 columns]"
            ]
          },
          "metadata": {
            "tags": []
          },
          "execution_count": 161
        }
      ]
    },
    {
      "cell_type": "code",
      "metadata": {
        "colab": {
          "base_uri": "https://localhost:8080/",
          "height": 683
        },
        "id": "9TZwPm9FxRA2",
        "outputId": "ba756994-0a0a-4d0b-c947-90bc77ab5b21"
      },
      "source": [
        "#check if any of the data has zeros in it, which wouldn't make any sense\r\n",
        "#since the length, width, or height of a diamond cannot be 0\r\n",
        "print(\"The number of zeros:\", len(df[(df['x']==0) | (df['y']==0) | (df['z']==0)]))\r\n",
        "df.loc[(df['x']==0) | (df['y']==0) | (df['z']==0)]"
      ],
      "execution_count": null,
      "outputs": [
        {
          "output_type": "stream",
          "text": [
            "The number of zeros: 20\n"
          ],
          "name": "stdout"
        },
        {
          "output_type": "execute_result",
          "data": {
            "text/html": [
              "<div>\n",
              "<style scoped>\n",
              "    .dataframe tbody tr th:only-of-type {\n",
              "        vertical-align: middle;\n",
              "    }\n",
              "\n",
              "    .dataframe tbody tr th {\n",
              "        vertical-align: top;\n",
              "    }\n",
              "\n",
              "    .dataframe thead th {\n",
              "        text-align: right;\n",
              "    }\n",
              "</style>\n",
              "<table border=\"1\" class=\"dataframe\">\n",
              "  <thead>\n",
              "    <tr style=\"text-align: right;\">\n",
              "      <th></th>\n",
              "      <th>carat</th>\n",
              "      <th>cut</th>\n",
              "      <th>color</th>\n",
              "      <th>clarity</th>\n",
              "      <th>depth</th>\n",
              "      <th>table</th>\n",
              "      <th>price</th>\n",
              "      <th>x</th>\n",
              "      <th>y</th>\n",
              "      <th>z</th>\n",
              "    </tr>\n",
              "  </thead>\n",
              "  <tbody>\n",
              "    <tr>\n",
              "      <th>2207</th>\n",
              "      <td>1.00</td>\n",
              "      <td>Premium</td>\n",
              "      <td>G</td>\n",
              "      <td>SI2</td>\n",
              "      <td>59.1</td>\n",
              "      <td>59.0</td>\n",
              "      <td>3142</td>\n",
              "      <td>6.55</td>\n",
              "      <td>6.48</td>\n",
              "      <td>0.0</td>\n",
              "    </tr>\n",
              "    <tr>\n",
              "      <th>2314</th>\n",
              "      <td>1.01</td>\n",
              "      <td>Premium</td>\n",
              "      <td>H</td>\n",
              "      <td>I1</td>\n",
              "      <td>58.1</td>\n",
              "      <td>59.0</td>\n",
              "      <td>3167</td>\n",
              "      <td>6.66</td>\n",
              "      <td>6.60</td>\n",
              "      <td>0.0</td>\n",
              "    </tr>\n",
              "    <tr>\n",
              "      <th>4791</th>\n",
              "      <td>1.10</td>\n",
              "      <td>Premium</td>\n",
              "      <td>G</td>\n",
              "      <td>SI2</td>\n",
              "      <td>63.0</td>\n",
              "      <td>59.0</td>\n",
              "      <td>3696</td>\n",
              "      <td>6.50</td>\n",
              "      <td>6.47</td>\n",
              "      <td>0.0</td>\n",
              "    </tr>\n",
              "    <tr>\n",
              "      <th>5471</th>\n",
              "      <td>1.01</td>\n",
              "      <td>Premium</td>\n",
              "      <td>F</td>\n",
              "      <td>SI2</td>\n",
              "      <td>59.2</td>\n",
              "      <td>58.0</td>\n",
              "      <td>3837</td>\n",
              "      <td>6.50</td>\n",
              "      <td>6.47</td>\n",
              "      <td>0.0</td>\n",
              "    </tr>\n",
              "    <tr>\n",
              "      <th>10167</th>\n",
              "      <td>1.50</td>\n",
              "      <td>Good</td>\n",
              "      <td>G</td>\n",
              "      <td>I1</td>\n",
              "      <td>64.0</td>\n",
              "      <td>61.0</td>\n",
              "      <td>4731</td>\n",
              "      <td>7.15</td>\n",
              "      <td>7.04</td>\n",
              "      <td>0.0</td>\n",
              "    </tr>\n",
              "    <tr>\n",
              "      <th>11182</th>\n",
              "      <td>1.07</td>\n",
              "      <td>Ideal</td>\n",
              "      <td>F</td>\n",
              "      <td>SI2</td>\n",
              "      <td>61.6</td>\n",
              "      <td>56.0</td>\n",
              "      <td>4954</td>\n",
              "      <td>0.00</td>\n",
              "      <td>6.62</td>\n",
              "      <td>0.0</td>\n",
              "    </tr>\n",
              "    <tr>\n",
              "      <th>11963</th>\n",
              "      <td>1.00</td>\n",
              "      <td>Very Good</td>\n",
              "      <td>H</td>\n",
              "      <td>VS2</td>\n",
              "      <td>63.3</td>\n",
              "      <td>53.0</td>\n",
              "      <td>5139</td>\n",
              "      <td>0.00</td>\n",
              "      <td>0.00</td>\n",
              "      <td>0.0</td>\n",
              "    </tr>\n",
              "    <tr>\n",
              "      <th>13601</th>\n",
              "      <td>1.15</td>\n",
              "      <td>Ideal</td>\n",
              "      <td>G</td>\n",
              "      <td>VS2</td>\n",
              "      <td>59.2</td>\n",
              "      <td>56.0</td>\n",
              "      <td>5564</td>\n",
              "      <td>6.88</td>\n",
              "      <td>6.83</td>\n",
              "      <td>0.0</td>\n",
              "    </tr>\n",
              "    <tr>\n",
              "      <th>15951</th>\n",
              "      <td>1.14</td>\n",
              "      <td>Fair</td>\n",
              "      <td>G</td>\n",
              "      <td>VS1</td>\n",
              "      <td>57.5</td>\n",
              "      <td>67.0</td>\n",
              "      <td>6381</td>\n",
              "      <td>0.00</td>\n",
              "      <td>0.00</td>\n",
              "      <td>0.0</td>\n",
              "    </tr>\n",
              "    <tr>\n",
              "      <th>24394</th>\n",
              "      <td>2.18</td>\n",
              "      <td>Premium</td>\n",
              "      <td>H</td>\n",
              "      <td>SI2</td>\n",
              "      <td>59.4</td>\n",
              "      <td>61.0</td>\n",
              "      <td>12631</td>\n",
              "      <td>8.49</td>\n",
              "      <td>8.45</td>\n",
              "      <td>0.0</td>\n",
              "    </tr>\n",
              "    <tr>\n",
              "      <th>24520</th>\n",
              "      <td>1.56</td>\n",
              "      <td>Ideal</td>\n",
              "      <td>G</td>\n",
              "      <td>VS2</td>\n",
              "      <td>62.2</td>\n",
              "      <td>54.0</td>\n",
              "      <td>12800</td>\n",
              "      <td>0.00</td>\n",
              "      <td>0.00</td>\n",
              "      <td>0.0</td>\n",
              "    </tr>\n",
              "    <tr>\n",
              "      <th>26123</th>\n",
              "      <td>2.25</td>\n",
              "      <td>Premium</td>\n",
              "      <td>I</td>\n",
              "      <td>SI1</td>\n",
              "      <td>61.3</td>\n",
              "      <td>58.0</td>\n",
              "      <td>15397</td>\n",
              "      <td>8.52</td>\n",
              "      <td>8.42</td>\n",
              "      <td>0.0</td>\n",
              "    </tr>\n",
              "    <tr>\n",
              "      <th>26243</th>\n",
              "      <td>1.20</td>\n",
              "      <td>Premium</td>\n",
              "      <td>D</td>\n",
              "      <td>VVS1</td>\n",
              "      <td>62.1</td>\n",
              "      <td>59.0</td>\n",
              "      <td>15686</td>\n",
              "      <td>0.00</td>\n",
              "      <td>0.00</td>\n",
              "      <td>0.0</td>\n",
              "    </tr>\n",
              "    <tr>\n",
              "      <th>27112</th>\n",
              "      <td>2.20</td>\n",
              "      <td>Premium</td>\n",
              "      <td>H</td>\n",
              "      <td>SI1</td>\n",
              "      <td>61.2</td>\n",
              "      <td>59.0</td>\n",
              "      <td>17265</td>\n",
              "      <td>8.42</td>\n",
              "      <td>8.37</td>\n",
              "      <td>0.0</td>\n",
              "    </tr>\n",
              "    <tr>\n",
              "      <th>27429</th>\n",
              "      <td>2.25</td>\n",
              "      <td>Premium</td>\n",
              "      <td>H</td>\n",
              "      <td>SI2</td>\n",
              "      <td>62.8</td>\n",
              "      <td>59.0</td>\n",
              "      <td>18034</td>\n",
              "      <td>0.00</td>\n",
              "      <td>0.00</td>\n",
              "      <td>0.0</td>\n",
              "    </tr>\n",
              "    <tr>\n",
              "      <th>27503</th>\n",
              "      <td>2.02</td>\n",
              "      <td>Premium</td>\n",
              "      <td>H</td>\n",
              "      <td>VS2</td>\n",
              "      <td>62.7</td>\n",
              "      <td>53.0</td>\n",
              "      <td>18207</td>\n",
              "      <td>8.02</td>\n",
              "      <td>7.95</td>\n",
              "      <td>0.0</td>\n",
              "    </tr>\n",
              "    <tr>\n",
              "      <th>27739</th>\n",
              "      <td>2.80</td>\n",
              "      <td>Good</td>\n",
              "      <td>G</td>\n",
              "      <td>SI2</td>\n",
              "      <td>63.8</td>\n",
              "      <td>58.0</td>\n",
              "      <td>18788</td>\n",
              "      <td>8.90</td>\n",
              "      <td>8.85</td>\n",
              "      <td>0.0</td>\n",
              "    </tr>\n",
              "    <tr>\n",
              "      <th>49556</th>\n",
              "      <td>0.71</td>\n",
              "      <td>Good</td>\n",
              "      <td>F</td>\n",
              "      <td>SI2</td>\n",
              "      <td>64.1</td>\n",
              "      <td>60.0</td>\n",
              "      <td>2130</td>\n",
              "      <td>0.00</td>\n",
              "      <td>0.00</td>\n",
              "      <td>0.0</td>\n",
              "    </tr>\n",
              "    <tr>\n",
              "      <th>49557</th>\n",
              "      <td>0.71</td>\n",
              "      <td>Good</td>\n",
              "      <td>F</td>\n",
              "      <td>SI2</td>\n",
              "      <td>64.1</td>\n",
              "      <td>60.0</td>\n",
              "      <td>2130</td>\n",
              "      <td>0.00</td>\n",
              "      <td>0.00</td>\n",
              "      <td>0.0</td>\n",
              "    </tr>\n",
              "    <tr>\n",
              "      <th>51506</th>\n",
              "      <td>1.12</td>\n",
              "      <td>Premium</td>\n",
              "      <td>G</td>\n",
              "      <td>I1</td>\n",
              "      <td>60.4</td>\n",
              "      <td>59.0</td>\n",
              "      <td>2383</td>\n",
              "      <td>6.71</td>\n",
              "      <td>6.67</td>\n",
              "      <td>0.0</td>\n",
              "    </tr>\n",
              "  </tbody>\n",
              "</table>\n",
              "</div>"
            ],
            "text/plain": [
              "       carat        cut color clarity  depth  table  price     x     y    z\n",
              "2207    1.00    Premium     G     SI2   59.1   59.0   3142  6.55  6.48  0.0\n",
              "2314    1.01    Premium     H      I1   58.1   59.0   3167  6.66  6.60  0.0\n",
              "4791    1.10    Premium     G     SI2   63.0   59.0   3696  6.50  6.47  0.0\n",
              "5471    1.01    Premium     F     SI2   59.2   58.0   3837  6.50  6.47  0.0\n",
              "10167   1.50       Good     G      I1   64.0   61.0   4731  7.15  7.04  0.0\n",
              "11182   1.07      Ideal     F     SI2   61.6   56.0   4954  0.00  6.62  0.0\n",
              "11963   1.00  Very Good     H     VS2   63.3   53.0   5139  0.00  0.00  0.0\n",
              "13601   1.15      Ideal     G     VS2   59.2   56.0   5564  6.88  6.83  0.0\n",
              "15951   1.14       Fair     G     VS1   57.5   67.0   6381  0.00  0.00  0.0\n",
              "24394   2.18    Premium     H     SI2   59.4   61.0  12631  8.49  8.45  0.0\n",
              "24520   1.56      Ideal     G     VS2   62.2   54.0  12800  0.00  0.00  0.0\n",
              "26123   2.25    Premium     I     SI1   61.3   58.0  15397  8.52  8.42  0.0\n",
              "26243   1.20    Premium     D    VVS1   62.1   59.0  15686  0.00  0.00  0.0\n",
              "27112   2.20    Premium     H     SI1   61.2   59.0  17265  8.42  8.37  0.0\n",
              "27429   2.25    Premium     H     SI2   62.8   59.0  18034  0.00  0.00  0.0\n",
              "27503   2.02    Premium     H     VS2   62.7   53.0  18207  8.02  7.95  0.0\n",
              "27739   2.80       Good     G     SI2   63.8   58.0  18788  8.90  8.85  0.0\n",
              "49556   0.71       Good     F     SI2   64.1   60.0   2130  0.00  0.00  0.0\n",
              "49557   0.71       Good     F     SI2   64.1   60.0   2130  0.00  0.00  0.0\n",
              "51506   1.12    Premium     G      I1   60.4   59.0   2383  6.71  6.67  0.0"
            ]
          },
          "metadata": {
            "tags": []
          },
          "execution_count": 162
        }
      ]
    },
    {
      "cell_type": "markdown",
      "metadata": {
        "id": "i7EImrd714wu"
      },
      "source": [
        "###**Categorical View**###\r\n",
        "\r\n",
        "We now take a look at the categorical data in some different views. We check the number of items per category via numbers and via charts in order to determine whether or not there is an imbalance. We do see that our charts show that the Fair cut is much smaller than the other cuts. This is something we need to look into. We see the same thing about the clarity. We note the distribution and see if it matters in the future."
      ]
    },
    {
      "cell_type": "code",
      "metadata": {
        "colab": {
          "base_uri": "https://localhost:8080/"
        },
        "id": "wj5VBNzN14Cc",
        "outputId": "653be14d-7b8d-465a-c356-11c97f33ea2a"
      },
      "source": [
        "class color:\r\n",
        "   BOLD = '\\033[1m'\r\n",
        "   END = '\\033[0m'\r\n",
        "\r\n",
        "print(color.BOLD + \"Cut Data\\n\\n\" + color.END, df['cut'].value_counts())\r\n",
        "print(color.BOLD +\"\\n\\nColor Data\\n\\n\"+ color.END, df['color'].value_counts())\r\n",
        "print(color.BOLD +\"\\n\\nClarity Data\\n\\n\"+ color.END, df['clarity'].value_counts())"
      ],
      "execution_count": null,
      "outputs": [
        {
          "output_type": "stream",
          "text": [
            "\u001b[1mCut Data\n",
            "\n",
            "\u001b[0m Ideal        21551\n",
            "Premium      13791\n",
            "Very Good    12082\n",
            "Good          4906\n",
            "Fair          1610\n",
            "Name: cut, dtype: int64\n",
            "\u001b[1m\n",
            "\n",
            "Color Data\n",
            "\n",
            "\u001b[0m G    11292\n",
            "E     9797\n",
            "F     9542\n",
            "H     8304\n",
            "D     6775\n",
            "I     5422\n",
            "J     2808\n",
            "Name: color, dtype: int64\n",
            "\u001b[1m\n",
            "\n",
            "Clarity Data\n",
            "\n",
            "\u001b[0m SI1     13065\n",
            "VS2     12258\n",
            "SI2      9194\n",
            "VS1      8171\n",
            "VVS2     5066\n",
            "VVS1     3655\n",
            "IF       1790\n",
            "I1        741\n",
            "Name: clarity, dtype: int64\n"
          ],
          "name": "stdout"
        }
      ]
    },
    {
      "cell_type": "code",
      "metadata": {
        "colab": {
          "base_uri": "https://localhost:8080/",
          "height": 926
        },
        "id": "4bFgLCo92CMy",
        "outputId": "771db4cc-8698-44e7-aef2-4153181d07eb"
      },
      "source": [
        "#doing same charts as above using seaborn\r\n",
        "sns.factorplot(x='cut', data=df , kind='count',size = 3, aspect=1.1 )\r\n",
        "sns.factorplot(x='color', data=df , kind='count',size = 3,aspect=1.1 )\r\n",
        "sns.factorplot(x='clarity', data=df , kind='count',size = 3,aspect=1.1 )"
      ],
      "execution_count": null,
      "outputs": [
        {
          "output_type": "stream",
          "text": [
            "/usr/local/lib/python3.7/dist-packages/seaborn/categorical.py:3714: UserWarning: The `factorplot` function has been renamed to `catplot`. The original name will be removed in a future release. Please update your code. Note that the default `kind` in `factorplot` (`'point'`) has changed `'strip'` in `catplot`.\n",
            "  warnings.warn(msg)\n",
            "/usr/local/lib/python3.7/dist-packages/seaborn/categorical.py:3720: UserWarning: The `size` parameter has been renamed to `height`; please update your code.\n",
            "  warnings.warn(msg, UserWarning)\n",
            "/usr/local/lib/python3.7/dist-packages/seaborn/categorical.py:3714: UserWarning: The `factorplot` function has been renamed to `catplot`. The original name will be removed in a future release. Please update your code. Note that the default `kind` in `factorplot` (`'point'`) has changed `'strip'` in `catplot`.\n",
            "  warnings.warn(msg)\n",
            "/usr/local/lib/python3.7/dist-packages/seaborn/categorical.py:3720: UserWarning: The `size` parameter has been renamed to `height`; please update your code.\n",
            "  warnings.warn(msg, UserWarning)\n",
            "/usr/local/lib/python3.7/dist-packages/seaborn/categorical.py:3714: UserWarning: The `factorplot` function has been renamed to `catplot`. The original name will be removed in a future release. Please update your code. Note that the default `kind` in `factorplot` (`'point'`) has changed `'strip'` in `catplot`.\n",
            "  warnings.warn(msg)\n",
            "/usr/local/lib/python3.7/dist-packages/seaborn/categorical.py:3720: UserWarning: The `size` parameter has been renamed to `height`; please update your code.\n",
            "  warnings.warn(msg, UserWarning)\n"
          ],
          "name": "stderr"
        },
        {
          "output_type": "execute_result",
          "data": {
            "text/plain": [
              "<seaborn.axisgrid.FacetGrid at 0x7fb7f6e34f90>"
            ]
          },
          "metadata": {
            "tags": []
          },
          "execution_count": 164
        },
        {
          "output_type": "display_data",
          "data": {
            "image/png": "[encoded data removed]",
            "text/plain": [
              "<Figure size 237.6x216 with 1 Axes>"
            ]
          },
          "metadata": {
            "tags": [],
            "needs_background": "light"
          }
        },
        {
          "output_type": "display_data",
          "data": {
            "image/png": "[encoded data removed]",
            "text/plain": [
              "<Figure size 237.6x216 with 1 Axes>"
            ]
          },
          "metadata": {
            "tags": [],
            "needs_background": "light"
          }
        },
        {
          "output_type": "display_data",
          "data": {
            "image/png": "[encoded data removed]",
            "text/plain": [
              "<Figure size 237.6x216 with 1 Axes>"
            ]
          },
          "metadata": {
            "tags": [],
            "needs_background": "light"
          }
        }
      ]
    },
    {
      "cell_type": "markdown",
      "metadata": {
        "id": "gA_4aVGi4c2h"
      },
      "source": [
        "Below we do a histogram for each of the numeric varibles using matplotlib.  We note that all of these distributions are as expected."
      ]
    },
    {
      "cell_type": "code",
      "metadata": {
        "colab": {
          "base_uri": "https://localhost:8080/",
          "height": 607
        },
        "id": "YCgMAWfo24Rk",
        "outputId": "90819fdb-7efc-492d-cd06-99d52ebb0b0f"
      },
      "source": [
        "#histograms\r\n",
        "numericDataColumns = ['carat', 'depth', 'table','price','x','y','z']\r\n",
        "vals = df[numericDataColumns].copy()\r\n",
        "import matplotlib.pyplot as plt\r\n",
        "vals.hist(bins=50, figsize=(15,10))\r\n",
        "plt.show()"
      ],
      "execution_count": null,
      "outputs": [
        {
          "output_type": "display_data",
          "data": {
            "image/png": "[encoded data removed]",
            "text/plain": [
              "<Figure size 1080x720 with 9 Axes>"
            ]
          },
          "metadata": {
            "tags": [],
            "needs_background": "light"
          }
        }
      ]
    },
    {
      "cell_type": "markdown",
      "metadata": {
        "id": "Ka7zhfeA4QmS"
      },
      "source": [
        "Below we do a histogram for each of the numeric variables using seaborn."
      ]
    },
    {
      "cell_type": "code",
      "metadata": {
        "colab": {
          "base_uri": "https://localhost:8080/",
          "height": 296
        },
        "id": "wxjbkwb83CdQ",
        "outputId": "275654fd-ae9e-4e50-bf7d-b2dca951910a"
      },
      "source": [
        "sns.histplot(df['carat'])"
      ],
      "execution_count": null,
      "outputs": [
        {
          "output_type": "execute_result",
          "data": {
            "text/plain": [
              "<matplotlib.axes._subplots.AxesSubplot at 0x7fb7f6797ad0>"
            ]
          },
          "metadata": {
            "tags": []
          },
          "execution_count": 166
        },
        {
          "output_type": "display_data",
          "data": {
            "image/png": "[encoded data removed]",
            "text/plain": [
              "<Figure size 432x288 with 1 Axes>"
            ]
          },
          "metadata": {
            "tags": [],
            "needs_background": "light"
          }
        }
      ]
    },
    {
      "cell_type": "code",
      "metadata": {
        "colab": {
          "base_uri": "https://localhost:8080/",
          "height": 296
        },
        "id": "8r_WTmUH4GMg",
        "outputId": "55943efe-bf13-41d1-fea0-cc3785c54b81"
      },
      "source": [
        "sns.histplot(df['depth'])"
      ],
      "execution_count": null,
      "outputs": [
        {
          "output_type": "execute_result",
          "data": {
            "text/plain": [
              "<matplotlib.axes._subplots.AxesSubplot at 0x7fb7f656ca50>"
            ]
          },
          "metadata": {
            "tags": []
          },
          "execution_count": 167
        },
        {
          "output_type": "display_data",
          "data": {
            "image/png": "[encoded data removed]",
            "text/plain": [
              "<Figure size 432x288 with 1 Axes>"
            ]
          },
          "metadata": {
            "tags": [],
            "needs_background": "light"
          }
        }
      ]
    },
    {
      "cell_type": "code",
      "metadata": {
        "colab": {
          "base_uri": "https://localhost:8080/",
          "height": 296
        },
        "id": "RtVrmTn_4IwX",
        "outputId": "2eab9944-1d11-4a71-fca4-cb1df2bf6839"
      },
      "source": [
        "sns.histplot(df['table'])"
      ],
      "execution_count": null,
      "outputs": [
        {
          "output_type": "execute_result",
          "data": {
            "text/plain": [
              "<matplotlib.axes._subplots.AxesSubplot at 0x7fb7bc7d0550>"
            ]
          },
          "metadata": {
            "tags": []
          },
          "execution_count": 168
        },
        {
          "output_type": "display_data",
          "data": {
            "image/png": "[encoded data removed]",
            "text/plain": [
              "<Figure size 432x288 with 1 Axes>"
            ]
          },
          "metadata": {
            "tags": [],
            "needs_background": "light"
          }
        }
      ]
    },
    {
      "cell_type": "code",
      "metadata": {
        "colab": {
          "base_uri": "https://localhost:8080/",
          "height": 296
        },
        "id": "HP6T6EXx4LDh",
        "outputId": "90dbbeb8-4e51-41f8-e455-99a42edebfa4"
      },
      "source": [
        "sns.histplot(df['price'])"
      ],
      "execution_count": null,
      "outputs": [
        {
          "output_type": "execute_result",
          "data": {
            "text/plain": [
              "<matplotlib.axes._subplots.AxesSubplot at 0x7fb7f5d23710>"
            ]
          },
          "metadata": {
            "tags": []
          },
          "execution_count": 169
        },
        {
          "output_type": "display_data",
          "data": {
            "image/png": "[encoded data removed]",
            "text/plain": [
              "<Figure size 432x288 with 1 Axes>"
            ]
          },
          "metadata": {
            "tags": [],
            "needs_background": "light"
          }
        }
      ]
    },
    {
      "cell_type": "code",
      "metadata": {
        "colab": {
          "base_uri": "https://localhost:8080/",
          "height": 296
        },
        "id": "XpeUk_LF4M0T",
        "outputId": "fd1c3dac-3d1a-4ba7-ff2b-e51488196be4"
      },
      "source": [
        "sns.histplot(df['x'])"
      ],
      "execution_count": null,
      "outputs": [
        {
          "output_type": "execute_result",
          "data": {
            "text/plain": [
              "<matplotlib.axes._subplots.AxesSubplot at 0x7fb7f5e180d0>"
            ]
          },
          "metadata": {
            "tags": []
          },
          "execution_count": 170
        },
        {
          "output_type": "display_data",
          "data": {
            "image/png": "[encoded data removed]",
            "text/plain": [
              "<Figure size 432x288 with 1 Axes>"
            ]
          },
          "metadata": {
            "tags": [],
            "needs_background": "light"
          }
        }
      ]
    },
    {
      "cell_type": "code",
      "metadata": {
        "colab": {
          "base_uri": "https://localhost:8080/",
          "height": 296
        },
        "id": "ER4z_tQk4O6p",
        "outputId": "c9edd2bf-43c2-4ec2-d66c-17a76b3e4eec"
      },
      "source": [
        "sns.histplot(df['y'])"
      ],
      "execution_count": null,
      "outputs": [
        {
          "output_type": "execute_result",
          "data": {
            "text/plain": [
              "<matplotlib.axes._subplots.AxesSubplot at 0x7fb7f6ff7f90>"
            ]
          },
          "metadata": {
            "tags": []
          },
          "execution_count": 171
        },
        {
          "output_type": "display_data",
          "data": {
            "image/png": "[encoded data removed]",
            "text/plain": [
              "<Figure size 432x288 with 1 Axes>"
            ]
          },
          "metadata": {
            "tags": [],
            "needs_background": "light"
          }
        }
      ]
    },
    {
      "cell_type": "code",
      "metadata": {
        "colab": {
          "base_uri": "https://localhost:8080/",
          "height": 296
        },
        "id": "rU5E1bez4Re5",
        "outputId": "dc9dce34-fbb4-4bd6-a2a0-7e33d077f2fd"
      },
      "source": [
        "sns.histplot(df['z'])"
      ],
      "execution_count": null,
      "outputs": [
        {
          "output_type": "execute_result",
          "data": {
            "text/plain": [
              "<matplotlib.axes._subplots.AxesSubplot at 0x7fb7f4e59210>"
            ]
          },
          "metadata": {
            "tags": []
          },
          "execution_count": 172
        },
        {
          "output_type": "display_data",
          "data": {
            "image/png": "[encoded data removed]",
            "text/plain": [
              "<Figure size 432x288 with 1 Axes>"
            ]
          },
          "metadata": {
            "tags": [],
            "needs_background": "light"
          }
        }
      ]
    },
    {
      "cell_type": "markdown",
      "metadata": {
        "id": "ucMPLfRU6EcY"
      },
      "source": [
        "Here we do boxplots"
      ]
    },
    {
      "cell_type": "code",
      "metadata": {
        "colab": {
          "base_uri": "https://localhost:8080/",
          "height": 282
        },
        "id": "Vj_OxPg56GcA",
        "outputId": "b1a99e01-2b42-478d-afbc-6f5057d831c2"
      },
      "source": [
        "#since price is very far outside the range of the others, we scale and then do boxplots\r\n",
        "\r\n",
        "numericDataColumns = ['carat', 'depth', 'table','price','x','y','z']\r\n",
        "vals = df[numericDataColumns].copy()\r\n",
        "\r\n",
        "from sklearn.preprocessing import StandardScaler\r\n",
        "\r\n",
        "scaler = StandardScaler()\r\n",
        "vals_scaled = scaler.fit_transform(vals)\r\n",
        "vals_scaled = pd.DataFrame(vals_scaled, columns=numericDataColumns)\r\n",
        "\r\n",
        "vals_scaled.plot.box(grid='True')"
      ],
      "execution_count": null,
      "outputs": [
        {
          "output_type": "execute_result",
          "data": {
            "text/plain": [
              "<matplotlib.axes._subplots.AxesSubplot at 0x7fb7f47b7e90>"
            ]
          },
          "metadata": {
            "tags": []
          },
          "execution_count": 173
        },
        {
          "output_type": "display_data",
          "data": {
            "image/png": "[encoded data removed]",
            "text/plain": [
              "<Figure size 432x288 with 1 Axes>"
            ]
          },
          "metadata": {
            "tags": [],
            "needs_background": "light"
          }
        }
      ]
    },
    {
      "cell_type": "markdown",
      "metadata": {
        "id": "5IQa1H_L7hHW"
      },
      "source": [
        "From the above scaled boxplot, we see that we have a large amount of outliers, which is more likely a characteristic of diamond data, than something needed to be fixed."
      ]
    },
    {
      "cell_type": "code",
      "metadata": {
        "colab": {
          "base_uri": "https://localhost:8080/",
          "height": 286
        },
        "id": "Z3rzwSqJ4y_D",
        "outputId": "ba845fde-774a-40b6-ec63-c00d0b781316"
      },
      "source": [
        "# Correlation Map of our NON-CATEGORICAL DATA\r\n",
        "corr = df.corr()\r\n",
        "sns.heatmap(data=corr, square=True , annot=True, cbar=True)"
      ],
      "execution_count": null,
      "outputs": [
        {
          "output_type": "execute_result",
          "data": {
            "text/plain": [
              "<matplotlib.axes._subplots.AxesSubplot at 0x7fb7bc874fd0>"
            ]
          },
          "metadata": {
            "tags": []
          },
          "execution_count": 174
        },
        {
          "output_type": "display_data",
          "data": {
            "image/png": "[encoded data removed]",
            "text/plain": [
              "<Figure size 432x288 with 2 Axes>"
            ]
          },
          "metadata": {
            "tags": [],
            "needs_background": "light"
          }
        }
      ]
    },
    {
      "cell_type": "markdown",
      "metadata": {
        "id": "t6upenBZ5XM9"
      },
      "source": [
        "### EDA Summary\r\n",
        "\r\n",
        "Although we have some anomalies, as pointed out above (such as the length, width, or depth of a diamond being zero), we have not changed our data, so that we can do the inference section better.  \r\n",
        "\r\n",
        "Overall, our data has outliers (especially price), but with diamonds, it is somewhat expected."
      ]
    },
    {
      "cell_type": "markdown",
      "metadata": {
        "id": "nDDC7dV475vq"
      },
      "source": [
        "##Inference Section"
      ]
    },
    {
      "cell_type": "code",
      "metadata": {
        "colab": {
          "base_uri": "https://localhost:8080/"
        },
        "id": "N-QXNJ_s78Ow",
        "outputId": "4d2e17d0-bdaf-453a-c5ab-9a96f73063c4"
      },
      "source": [
        "#What proportion of diamonds are between .30 and 1.08 carats?\r\n",
        "#as a safety the output was verified in Excel (=COUNTIFS(carat,\">=.3\",carat,\"<=1.08\")\r\n",
        "#to answer all the following question in python, we used python tools\r\n",
        "#they should be self-evident\r\n",
        "#I would only note that sometimes using logical operators is easier in numpy, so we switched the data using to_nmupy()\r\n",
        "\r\n",
        "x = df['carat'].to_numpy()\r\n",
        "possibility_1 = sum(i > .3 and i < 1.08 for i in x)\r\n",
        "possibility_2 = sum(i >= .3 and i <= 1.08 for i in x)\r\n",
        "\r\n",
        "print(\"Between and not including bounds: \", possibility_1/df.shape[0])\r\n",
        "print(\"Between and including bounds: \", possibility_2/df.shape[0])"
      ],
      "execution_count": null,
      "outputs": [
        {
          "output_type": "stream",
          "text": [
            "Between and not including bounds:  0.6939933259176864\n",
            "Between and including bounds:  0.7468298109010011\n"
          ],
          "name": "stdout"
        }
      ]
    },
    {
      "cell_type": "code",
      "metadata": {
        "colab": {
          "base_uri": "https://localhost:8080/"
        },
        "id": "lT_MZhY0_eSB",
        "outputId": "91e3129b-147b-4f87-84ba-9b7c9253c289"
      },
      "source": [
        "#How many of the diamonds have equal x and y dimensions?\r\n",
        "#verified in Excel =SUMPRODUCT(--(x=y))\r\n",
        "\r\n",
        "x = df['x'].to_numpy()\r\n",
        "y = df['y'].to_numpy()\r\n",
        "\r\n",
        "(x == y).sum()"
      ],
      "execution_count": null,
      "outputs": [
        {
          "output_type": "execute_result",
          "data": {
            "text/plain": [
              "17"
            ]
          },
          "metadata": {
            "tags": []
          },
          "execution_count": 176
        }
      ]
    },
    {
      "cell_type": "code",
      "metadata": {
        "colab": {
          "base_uri": "https://localhost:8080/"
        },
        "id": "oWTwMJ2nIpmB",
        "outputId": "78ee91c1-311d-400d-f604-e06d5b944599"
      },
      "source": [
        "#How many of the diamonds have a carat value that is less than the mean carat value?\r\n",
        "\r\n",
        "mean_carat = x.mean()\r\n",
        "(x < mean_carat).sum()"
      ],
      "execution_count": null,
      "outputs": [
        {
          "output_type": "execute_result",
          "data": {
            "text/plain": [
              "27966"
            ]
          },
          "metadata": {
            "tags": []
          },
          "execution_count": 177
        }
      ]
    },
    {
      "cell_type": "code",
      "metadata": {
        "colab": {
          "base_uri": "https://localhost:8080/"
        },
        "id": "zPz4orCGI261",
        "outputId": "39d89eb4-0d22-46de-ee5a-a6d9f64e3326"
      },
      "source": [
        "#How many diamonds have a Premium cut or better? (Premium or Ideal)\r\n",
        "#verified in Excel (=COUNTIF(cut,\"Premium\")+COUNTIF(cut,\"Ideal\"))\r\n",
        "\r\n",
        "cut = df['cut'].to_numpy()\r\n",
        "\r\n",
        "Premium = (cut == 'Premium').sum()\r\n",
        "Ideal = (cut == 'Ideal').sum()\r\n",
        "\r\n",
        "print(\"The number of premium or better is \", Premium + Ideal)"
      ],
      "execution_count": null,
      "outputs": [
        {
          "output_type": "stream",
          "text": [
            "The number of premium or better is  35342\n"
          ],
          "name": "stdout"
        }
      ]
    },
    {
      "cell_type": "code",
      "metadata": {
        "colab": {
          "base_uri": "https://localhost:8080/"
        },
        "id": "0t-ym5lzLT-a",
        "outputId": "c670046b-9c51-4b66-b03f-a8151619e661"
      },
      "source": [
        "#Which diamond has the highest price per carat? What is its value?\r\n",
        "\r\n",
        "ppc = df[['carat','price']].copy()\r\n",
        "ppc['price per'] = df['price']/df['carat']\r\n",
        "sorted_ppc =ppc.sort_values(by ='price per',ascending=False)\r\n",
        "print(sorted_ppc.head())"
      ],
      "execution_count": null,
      "outputs": [
        {
          "output_type": "stream",
          "text": [
            "       carat  price     price per\n",
            "27635   1.04  18542  17828.846154\n",
            "27530   1.07  18279  17083.177570\n",
            "27226   1.03  17590  17077.669903\n",
            "27457   1.07  18114  16928.971963\n",
            "26998   1.02  17100  16764.705882\n"
          ],
          "name": "stdout"
        }
      ]
    },
    {
      "cell_type": "markdown",
      "metadata": {
        "id": "xyBuLqo6MsCn"
      },
      "source": [
        "According to our analysis, the 27,635 diamond has the highest price per carat with a price of 18542."
      ]
    },
    {
      "cell_type": "code",
      "metadata": {
        "colab": {
          "base_uri": "https://localhost:8080/",
          "height": 372
        },
        "id": "9AsSFAjTNJib",
        "outputId": "6bef4c46-003a-447f-b07a-ded88ae28b85"
      },
      "source": [
        "#Using both Matplolib and Seaborn, make boxplots of the diamond price for each distinct cut value and\r\n",
        "#discuss any conclusions you can draw from the appearance of the boxplots.\r\n",
        "\r\n",
        "df.boxplot(column=\"price\", by= \"cut\")"
      ],
      "execution_count": null,
      "outputs": [
        {
          "output_type": "stream",
          "text": [
            "/usr/local/lib/python3.7/dist-packages/numpy/core/_asarray.py:83: VisibleDeprecationWarning: Creating an ndarray from ragged nested sequences (which is a list-or-tuple of lists-or-tuples-or ndarrays with different lengths or shapes) is deprecated. If you meant to do this, you must specify 'dtype=object' when creating the ndarray\n",
            "  return array(a, dtype, copy=False, order=order)\n"
          ],
          "name": "stderr"
        },
        {
          "output_type": "execute_result",
          "data": {
            "text/plain": [
              "<matplotlib.axes._subplots.AxesSubplot at 0x7fb7f44d57d0>"
            ]
          },
          "metadata": {
            "tags": []
          },
          "execution_count": 180
        },
        {
          "output_type": "display_data",
          "data": {
            "image/png": "[encoded data removed]",
            "text/plain": [
              "<Figure size 432x288 with 1 Axes>"
            ]
          },
          "metadata": {
            "tags": [],
            "needs_background": "light"
          }
        }
      ]
    },
    {
      "cell_type": "code",
      "metadata": {
        "colab": {
          "base_uri": "https://localhost:8080/",
          "height": 296
        },
        "id": "BD-VgfmxPUkP",
        "outputId": "aaad504b-50bb-4cca-e5f0-20dfc90331e3"
      },
      "source": [
        "#doing the same as above in seaborn\r\n",
        "sns.boxplot(y ='price', x ='cut',data = df )"
      ],
      "execution_count": null,
      "outputs": [
        {
          "output_type": "execute_result",
          "data": {
            "text/plain": [
              "<matplotlib.axes._subplots.AxesSubplot at 0x7fb7f45aaad0>"
            ]
          },
          "metadata": {
            "tags": []
          },
          "execution_count": 181
        },
        {
          "output_type": "display_data",
          "data": {
            "image/png": "[encoded data removed]",
            "text/plain": [
              "<Figure size 432x288 with 1 Axes>"
            ]
          },
          "metadata": {
            "tags": [],
            "needs_background": "light"
          }
        }
      ]
    },
    {
      "cell_type": "markdown",
      "metadata": {
        "id": "q9vyinhkTnFH"
      },
      "source": [
        "We note that our boxplots show that there are a lot of outliers. As mentioned, that may be a feature of diamonds, and not anything surprising.  We also note that the price is within a strangely similar range for all the different cuts."
      ]
    },
    {
      "cell_type": "code",
      "metadata": {
        "colab": {
          "base_uri": "https://localhost:8080/",
          "height": 296
        },
        "id": "JIm_lLH2T54z",
        "outputId": "cb83616b-cbeb-4e5e-c5a7-5124f734cecd"
      },
      "source": [
        "#Using both Matplolib and Seaborn, make a scatter plot of price vs. carat. What can we say about the\r\n",
        "#relationship between those two attributes?\r\n",
        "\r\n",
        "sns.scatterplot(x = 'price', y ='carat',data =df)"
      ],
      "execution_count": null,
      "outputs": [
        {
          "output_type": "execute_result",
          "data": {
            "text/plain": [
              "<matplotlib.axes._subplots.AxesSubplot at 0x7fb7f42d8a10>"
            ]
          },
          "metadata": {
            "tags": []
          },
          "execution_count": 184
        },
        {
          "output_type": "display_data",
          "data": {
            "image/png": "[encoded data removed]",
            "text/plain": [
              "<Figure size 432x288 with 1 Axes>"
            ]
          },
          "metadata": {
            "tags": [],
            "needs_background": "light"
          }
        }
      ]
    },
    {
      "cell_type": "code",
      "metadata": {
        "colab": {
          "base_uri": "https://localhost:8080/",
          "height": 296
        },
        "id": "3GFLO2qHUZBc",
        "outputId": "f728b416-8a21-448d-8c58-1a30df072258"
      },
      "source": [
        "df.plot(kind=\"scatter\", x=\"price\",  y=\"carat\")"
      ],
      "execution_count": null,
      "outputs": [
        {
          "output_type": "execute_result",
          "data": {
            "text/plain": [
              "<matplotlib.axes._subplots.AxesSubplot at 0x7fb7f399c610>"
            ]
          },
          "metadata": {
            "tags": []
          },
          "execution_count": 186
        },
        {
          "output_type": "display_data",
          "data": {
            "image/png": "[encoded data removed]",
            "text/plain": [
              "<Figure size 432x288 with 1 Axes>"
            ]
          },
          "metadata": {
            "tags": [],
            "needs_background": "light"
          }
        }
      ]
    },
    {
      "cell_type": "markdown",
      "metadata": {
        "id": "92WugvIFUmzP"
      },
      "source": [
        "We see that there seems to be a log-linear relationship between these two variables."
      ]
    },
    {
      "cell_type": "markdown",
      "metadata": {
        "id": "dlSVqGE_VGQQ"
      },
      "source": [
        "#Conclusion\r\n",
        "\r\n",
        "In conclusion, we did explored the data set, checking for NaNs and other tentative analysis issues. We did many charts explaining the relationship between variables, using boxplots for numeric data and bar charts for categorical data.  \r\n",
        "\r\n",
        "We did an EDA, looking at each category and searching for relevant exposition.  We did not find anything surprising, except for the number of outliers, as noted."
      ]
    },
    {
      "cell_type": "markdown",
      "metadata": {
        "id": "FW6IjEyRVorM"
      },
      "source": [
        " ###References\r\n",
        "\r\n",
        " I referenced my own [work](https://colab.research.google.com/drive/1ukkElEWtvr7E8ZjuLqgQAA4d-1_dCOHn#scrollTo=IFulUXOIWjhv) from the summer Data Science course, which allowed me to quickly draw in the general exposition and some of the EDA work.  "
      ]
    }
  ]
}