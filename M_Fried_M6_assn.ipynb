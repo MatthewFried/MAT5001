{
  "nbformat": 4,
  "nbformat_minor": 0,
  "metadata": {
    "colab": {
      "name": "M_Fried_M6_assn.ipynb",
      "provenance": [],
      "authorship_tag": "ABX9TyPd7RjRoa0QSq9sQpXKySJH",
      "include_colab_link": true
    },
    "kernelspec": {
      "name": "python3",
      "display_name": "Python 3"
    }
  },
  "cells": [
    {
      "cell_type": "markdown",
      "metadata": {
        "id": "view-in-github",
        "colab_type": "text"
      },
      "source": [
        "<a href=\"https://colab.research.google.com/github/MatthewFried/MAT5001/blob/main/M_Fried_M6_assn.ipynb\" target=\"_parent\"><img src=\"https://colab.research.google.com/assets/colab-badge.svg\" alt=\"Open In Colab\"/></a>"
      ]
    },
    {
      "cell_type": "markdown",
      "metadata": {
        "id": "DfU9yczHi_hr"
      },
      "source": [
        "Task 1"
      ]
    },
    {
      "cell_type": "code",
      "metadata": {
        "colab": {
          "base_uri": "https://localhost:8080/"
        },
        "id": "l-hkro3YhgJg",
        "outputId": "0186ecff-b32d-4ed6-dfd8-c898ac83a76e"
      },
      "source": [
        "import numpy as np\r\n",
        "\r\n",
        "#Write a code block that finds the distinct/unique common items between these two arrays:\r\n",
        "\r\n",
        "a = np.array([1, 2, 3, 2, 3, 4, 3, 4, 5, 6])\r\n",
        "b = np.array([7, 2, 10, 2, 7, 4, 9, 4, 9, 8])\r\n",
        "\r\n",
        "output = np.intersect1d(a, b)\r\n",
        "print(output)"
      ],
      "execution_count": null,
      "outputs": [
        {
          "output_type": "stream",
          "text": [
            "[2 4]\n"
          ],
          "name": "stdout"
        }
      ]
    },
    {
      "cell_type": "markdown",
      "metadata": {
        "id": "kMdKqM_xjBtf"
      },
      "source": [
        "Task 2"
      ]
    },
    {
      "cell_type": "code",
      "metadata": {
        "colab": {
          "base_uri": "https://localhost:8080/"
        },
        "id": "OeutUK8tjC1x",
        "outputId": "cf5e5fe0-87c1-4f3e-9146-877e7dbaf24c"
      },
      "source": [
        "#Create a 5x3 array (1,15) so that you do not need to explicitly key in every integer value.\r\n",
        "vals = np.arange(1,16).reshape(3,5).T\r\n",
        "print(vals)"
      ],
      "execution_count": null,
      "outputs": [
        {
          "output_type": "stream",
          "text": [
            "[[ 1  6 11]\n",
            " [ 2  7 12]\n",
            " [ 3  8 13]\n",
            " [ 4  9 14]\n",
            " [ 5 10 15]]\n"
          ],
          "name": "stdout"
        }
      ]
    },
    {
      "cell_type": "markdown",
      "metadata": {
        "id": "jG3PvEhijXsP"
      },
      "source": [
        "Task 3"
      ]
    },
    {
      "cell_type": "code",
      "metadata": {
        "colab": {
          "base_uri": "https://localhost:8080/"
        },
        "id": "e7t68cGnjY7K",
        "outputId": "e5dc246b-76c8-4d9d-fef3-77f88158609e"
      },
      "source": [
        "#Flatten the above array \r\n",
        "flat = vals.T.flatten()\r\n",
        "print(flat)"
      ],
      "execution_count": null,
      "outputs": [
        {
          "output_type": "stream",
          "text": [
            "[ 1  2  3  4  5  6  7  8  9 10 11 12 13 14 15]\n"
          ],
          "name": "stdout"
        }
      ]
    },
    {
      "cell_type": "markdown",
      "metadata": {
        "id": "llEEX1oJjyXZ"
      },
      "source": [
        "Task 4"
      ]
    },
    {
      "cell_type": "code",
      "metadata": {
        "colab": {
          "base_uri": "https://localhost:8080/"
        },
        "id": "dGQWOhIjjzdm",
        "outputId": "90e89552-e11c-4a1a-8c21-656b988be8e8"
      },
      "source": [
        "'''\r\n",
        "Problem: Transform the 2-D array shown in Problem 2 into a 3 dimensional array such that the first column\r\n",
        "becomes the first dimension of the 3-D array, the second column becomes the second dimension of the 3-D array, and\r\n",
        "the third column becomes the third dimension of the 3-D array.\r\n",
        "\r\n",
        "Solution: I am trying to use numpy functions to do this, as requested.  Here's one approach, not sure if you meant this, so did it simpler below.  \r\n",
        "The general approach is to use array so that we can convert the data using reshape\r\n",
        "'''\r\n",
        "\r\n",
        "data = vals.T\r\n",
        "data = np.array(data)\r\n",
        "data = data.reshape((data.shape[0], data.shape[1], 1))\r\n",
        "\r\n",
        "print(data.shape)\r\n",
        "print(data)"
      ],
      "execution_count": null,
      "outputs": [
        {
          "output_type": "stream",
          "text": [
            "(3, 5, 1)\n",
            "[[[ 1]\n",
            "  [ 2]\n",
            "  [ 3]\n",
            "  [ 4]\n",
            "  [ 5]]\n",
            "\n",
            " [[ 6]\n",
            "  [ 7]\n",
            "  [ 8]\n",
            "  [ 9]\n",
            "  [10]]\n",
            "\n",
            " [[11]\n",
            "  [12]\n",
            "  [13]\n",
            "  [14]\n",
            "  [15]]]\n"
          ],
          "name": "stdout"
        }
      ]
    },
    {
      "cell_type": "code",
      "metadata": {
        "colab": {
          "base_uri": "https://localhost:8080/"
        },
        "id": "B2ldOpp2AXZh",
        "outputId": "bfd3331a-514b-433e-9ad3-b558372eeae1"
      },
      "source": [
        "#not sure if you meant this though\r\n",
        "\r\n",
        "x = np.reshape(vals.T, (-1,3,5))\r\n",
        "print(x.shape)\r\n",
        "print(x)"
      ],
      "execution_count": null,
      "outputs": [
        {
          "output_type": "stream",
          "text": [
            "(1, 3, 5)\n",
            "[[[ 1  2  3  4  5]\n",
            "  [ 6  7  8  9 10]\n",
            "  [11 12 13 14 15]]]\n"
          ],
          "name": "stdout"
        }
      ]
    },
    {
      "cell_type": "markdown",
      "metadata": {
        "id": "o177lebalerJ"
      },
      "source": [
        "Task 5"
      ]
    },
    {
      "cell_type": "code",
      "metadata": {
        "colab": {
          "base_uri": "https://localhost:8080/"
        },
        "id": "7JMGV3QDlhkZ",
        "outputId": "03098bfc-f354-4281-89cd-6267a63c44b7"
      },
      "source": [
        "#Transform the 3-D array you created in Problem 4 back to the 2-dimensional format shown in Problem 2.\r\n",
        "#solution from https://stackoverflow.com/a/51159213\r\n",
        "#I'm pretty sure this is what you mean. \r\n",
        "#All we are doing is collapsing the dimensions with a reshape\r\n",
        "\r\n",
        "new_img = x.reshape((x.shape[0]*x.shape[1]), x.shape[2])\r\n",
        "print(new_img.T)"
      ],
      "execution_count": null,
      "outputs": [
        {
          "output_type": "stream",
          "text": [
            "[[ 1  6 11]\n",
            " [ 2  7 12]\n",
            " [ 3  8 13]\n",
            " [ 4  9 14]\n",
            " [ 5 10 15]]\n"
          ],
          "name": "stdout"
        }
      ]
    },
    {
      "cell_type": "markdown",
      "metadata": {
        "id": "PKLOqmzaCgsd"
      },
      "source": [
        "Task 6"
      ]
    },
    {
      "cell_type": "code",
      "metadata": {
        "colab": {
          "base_uri": "https://localhost:8080/"
        },
        "id": "K3Jc0uTlCgRk",
        "outputId": "d08f33d9-0c1e-4c35-ea93-55dce45fdcb3"
      },
      "source": [
        "#Write a Python/Numpy code block that removes from array a any items that are also present in array b.\r\n",
        "\r\n",
        "a = np.array([12, 5, 7, 15, 3, 1, 8])\r\n",
        "b = np.array([14, 6, 3, 11, 19, 12, 5])\r\n",
        "\r\n",
        "#not really using numpy, but simplest I think\r\n",
        "#https://stackoverflow.com/a/52417992\r\n",
        "c = set(a.flat) - set(b.flat)\r\n",
        "print(c)"
      ],
      "execution_count": null,
      "outputs": [
        {
          "output_type": "stream",
          "text": [
            "{8, 1, 15, 7}\n"
          ],
          "name": "stdout"
        }
      ]
    },
    {
      "cell_type": "code",
      "metadata": {
        "colab": {
          "base_uri": "https://localhost:8080/"
        },
        "id": "MZhsg84-Df_9",
        "outputId": "4f7298c2-3691-4866-bac3-922621ed06e9"
      },
      "source": [
        "#another approach from same stackoverflow using numpy\r\n",
        "\r\n",
        "#step 1: sort b and return the positions where each value was\r\n",
        "#I've never seen any useful reason for argsort, so this is pretty neat\r\n",
        "sidx = b.argsort()\r\n",
        "\r\n",
        "#step 2: find the positions were if a were inserted into b they would belong via sidx found in the last step\r\n",
        "idx = np.searchsorted(b,a,sorter=sidx)\r\n",
        "\r\n",
        "#step 3: removes from a any items also present in b\r\n",
        "out = a[b[sidx[idx]] != a]\r\n",
        "print(out)"
      ],
      "execution_count": null,
      "outputs": [
        {
          "output_type": "stream",
          "text": [
            "[ 7 15  1  8]\n"
          ],
          "name": "stdout"
        }
      ]
    },
    {
      "cell_type": "markdown",
      "metadata": {
        "id": "2q6STKNJGH8c"
      },
      "source": [
        "Task 7"
      ]
    },
    {
      "cell_type": "code",
      "metadata": {
        "colab": {
          "base_uri": "https://localhost:8080/"
        },
        "id": "TfulNyM3GJDx",
        "outputId": "dae95ae2-d0e6-42e6-95ca-b4db9f206681"
      },
      "source": [
        "import pandas\r\n",
        "import numpy as np\r\n",
        "\r\n",
        "# supress scientific notation\r\n",
        "np.set_printoptions(suppress = True)\r\n",
        "\r\n",
        "nyc_water = pandas.read_csv('https://raw.githubusercontent.com/MatthewFried/MAT5001/main/Module6_Data.csv').to_numpy()\r\n",
        "\r\n",
        "type(nyc_water)"
      ],
      "execution_count": null,
      "outputs": [
        {
          "output_type": "execute_result",
          "data": {
            "text/plain": [
              "numpy.ndarray"
            ]
          },
          "metadata": {
            "tags": []
          },
          "execution_count": 71
        }
      ]
    },
    {
      "cell_type": "code",
      "metadata": {
        "colab": {
          "base_uri": "https://localhost:8080/"
        },
        "id": "Qi3VqrqwG3Fh",
        "outputId": "58ee3e74-c0de-4b47-cafa-62f9ba3b3487"
      },
      "source": [
        "#get max NYC consumption of water \r\n",
        "#to solve, we find the max, using the max function on the columns\r\n",
        "\r\n",
        "max = nyc_water.max(axis=0, keepdims=True)\r\n",
        "print(max[:,2])"
      ],
      "execution_count": null,
      "outputs": [
        {
          "output_type": "stream",
          "text": [
            "[1512.]\n"
          ],
          "name": "stdout"
        }
      ]
    },
    {
      "cell_type": "code",
      "metadata": {
        "colab": {
          "base_uri": "https://localhost:8080/"
        },
        "id": "GncixPIpHK_A",
        "outputId": "5771956e-7b40-416f-cf3b-cf663fa078be"
      },
      "source": [
        "#how many calender years are represented in this data\r\n",
        "#to solve, we follow directions and use the shape function\r\n",
        "nyc_water.shape\r\n",
        "\r\n",
        "#from here we see there are 39 calendar years "
      ],
      "execution_count": null,
      "outputs": [
        {
          "output_type": "execute_result",
          "data": {
            "text/plain": [
              "(39, 4)"
            ]
          },
          "metadata": {
            "tags": []
          },
          "execution_count": 75
        }
      ]
    },
    {
      "cell_type": "code",
      "metadata": {
        "colab": {
          "base_uri": "https://localhost:8080/"
        },
        "id": "65yLgRGQHXHY",
        "outputId": "b0e6b2cd-61aa-413c-c4bb-472c32f056c4"
      },
      "source": [
        "#What is the mean and the standard deviation of the per capita daily water consumption?\r\n",
        "#To solve, we use the mean and std functions\r\n",
        "\r\n",
        "the_mean = nyc_water.mean(axis=0, keepdims=True)\r\n",
        "the_std = nyc_water.std(axis=0, keepdims=True)\r\n",
        "\r\n",
        "print('Mean: ',the_mean[:,3], '\\nStdev: ', the_std[:,3])"
      ],
      "execution_count": null,
      "outputs": [
        {
          "output_type": "stream",
          "text": [
            "Mean:  [160.30769231] \n",
            "Stdev:  [31.5189433]\n"
          ],
          "name": "stdout"
        }
      ]
    },
    {
      "cell_type": "code",
      "metadata": {
        "colab": {
          "base_uri": "https://localhost:8080/"
        },
        "id": "bQFAiVNTIG0q",
        "outputId": "5b159ef1-a790-49b0-a1f5-87154a0c3178"
      },
      "source": [
        "#What is the increase or decrease in population from year to year? Use NumPy's `diff` function to create an array\r\n",
        "#of differences and save that to a variable called \"pop_diff\", then print that variable to the screen\r\n",
        "#To solve, we follow the directions and use diff, indicating we are looking for the columns\r\n",
        "\r\n",
        "pop_diff = np.diff(nyc_water, axis = 0)\r\n",
        "\r\n",
        "print(pop_diff[:,1])"
      ],
      "execution_count": null,
      "outputs": [
        {
          "output_type": "stream",
          "text": [
            "[-30461.   17602.   19864.   72119.   53290.   39540.   45192.   23230.\n",
            "  11243.   -9544.   -8525.   38851.   54443.   77222.   64292.   62582.\n",
            "  64772.   75631.   84816.   89401.   60618.   16685.5  16685.5  16685.5\n",
            "  16685.5  16685.5  16685.5  16685.5  16685.5  16685.5  16685.5 108965.\n",
            "  77081.   61281.   49530.   44512.   21171.   85025. ]\n"
          ],
          "name": "stdout"
        }
      ]
    }
  ]
}