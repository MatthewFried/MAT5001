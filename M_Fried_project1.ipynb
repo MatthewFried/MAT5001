{
  "nbformat": 4,
  "nbformat_minor": 0,
  "metadata": {
    "colab": {
      "name": "M_Fried_project1.ipynb",
      "provenance": [],
      "authorship_tag": "ABX9TyNHMhspQlaSLRXbfcxJxdG8",
      "include_colab_link": true
    },
    "kernelspec": {
      "name": "python3",
      "display_name": "Python 3"
    }
  },
  "cells": [
    {
      "cell_type": "markdown",
      "metadata": {
        "id": "view-in-github",
        "colab_type": "text"
      },
      "source": [
        "<a href=\"https://colab.research.google.com/github/MatthewFried/MAT5001/blob/main/M_Fried_project1.ipynb\" target=\"_parent\"><img src=\"https://colab.research.google.com/assets/colab-badge.svg\" alt=\"Open In Colab\"/></a>"
      ]
    },
    {
      "cell_type": "markdown",
      "metadata": {
        "id": "5H0DRuX0NQ6C"
      },
      "source": [
        "#Project 1\r\n"
      ]
    },
    {
      "cell_type": "markdown",
      "metadata": {
        "id": "zCp8zXeqNVyz"
      },
      "source": [
        "##Part 1: Regular Expressions\r\n",
        "\r\n",
        "by Matthew Fried (no group)"
      ]
    },
    {
      "cell_type": "code",
      "metadata": {
        "id": "rD6Rs0E_NGAF"
      },
      "source": [
        "#Here is the data we will use for part 1\r\n",
        "\r\n",
        "r_info = \"555-1239Dr. Anthony Fauci(636) 555-0113Hollingdorp, Donnatella555-6542Fitzgerald, F. Sco\\\r\n",
        "tt555 8904Rev. Martin Luther King636-555-3226Snodgrass, Theodore5553642Carlamina Scarfoni\""
      ],
      "execution_count": null,
      "outputs": []
    },
    {
      "cell_type": "markdown",
      "metadata": {
        "id": "q0fp_IQFD335"
      },
      "source": [
        "###Question 0"
      ]
    },
    {
      "cell_type": "markdown",
      "metadata": {
        "id": "fROW3MwMeM8F"
      },
      "source": [
        "We know that we didn't have to do this, but I wasn't paying attention when we read question one, and instead of extracting the text, we extracted the numbers. Since we spent a while doing this, we am including it.\r\n",
        "\r\n",
        "The approach was to get rid of all the non-numeric data, then group it so that if there were more than 3 spaces it became a comma, and then split it into a list based on a comma delimiter."
      ]
    },
    {
      "cell_type": "code",
      "metadata": {
        "colab": {
          "base_uri": "https://localhost:8080/"
        },
        "id": "c4mE5WbvZZpr",
        "outputId": "adbb40ea-0c4f-42e4-9962-fbbd3674df39"
      },
      "source": [
        "import re\r\n",
        "\r\n",
        "def extractPhoneNumbers(info): \r\n",
        "  out = re.sub('\\D',' ', info)\r\n",
        "  out_1 = re.sub(r'\\s\\s\\s+',',', out)\r\n",
        "  li = list(out_1.split(\",\")) \r\n",
        "  del li[-1]\r\n",
        "  return li \r\n",
        "  \r\n",
        "print(extractPhoneNumbers(r_info)) "
      ],
      "execution_count": null,
      "outputs": [
        {
          "output_type": "stream",
          "text": [
            "['555 1239', '636  555 0113', '555 6542', '555 8904', '636 555 3226', '5553642']\n"
          ],
          "name": "stdout"
        }
      ]
    },
    {
      "cell_type": "markdown",
      "metadata": {
        "id": "pAtMRI2yD6Ii"
      },
      "source": [
        "###Question 1\r\n",
        "\r\n",
        "\r\n",
        "Extract the names of each individual from the unformatted text string shown above and store them in a vector of some sort.  The general procedure follows from above, but we also used the noted link to remove whitespace."
      ]
    },
    {
      "cell_type": "code",
      "metadata": {
        "colab": {
          "base_uri": "https://localhost:8080/"
        },
        "id": "NdEAyTHffYzw",
        "outputId": "78b88c61-9193-4ca6-b3d9-d8210fed643d"
      },
      "source": [
        "import re\r\n",
        "\r\n",
        "def extractNames(info): \r\n",
        "  out = re.sub('[^A-Za-z,. ]+', '!', info)\r\n",
        "  li = list(out.split(\"!\")) \r\n",
        "\r\n",
        "  #to remove any whitespace spots in list via https://stackoverflow.com/a/38759529\r\n",
        "  li = [x.strip() for x in li if x.strip()]\r\n",
        "  return li \r\n",
        "  \r\n",
        "next_val = extractNames(r_info)\r\n",
        "print(next_val)"
      ],
      "execution_count": null,
      "outputs": [
        {
          "output_type": "stream",
          "text": [
            "['Dr. Anthony Fauci', 'Hollingdorp, Donnatella', 'Fitzgerald, F. Scott', 'Rev. Martin Luther King', 'Snodgrass, Theodore', 'Carlamina Scarfoni']\n"
          ],
          "name": "stdout"
        }
      ]
    },
    {
      "cell_type": "markdown",
      "metadata": {
        "id": "33goD8SkD9N3"
      },
      "source": [
        "###Question 2\r\n",
        "\r\n",
        "**Task**: \r\n",
        "1. Use your regex skills to rearrange the vector so that all elements conform to the standard\r\n",
        "“firstname lastname”, preserving any titles (e.g., “Rev.”, “Dr.”, etc) or middle/second names.\r\n",
        "2. Using your regex skills, construct a logical vector indicating whether a character has a title (i.e.,\r\n",
        "Rev. and Dr.).\r\n",
        "3. Using your regex skills, construct a logical vector indicating whether a character has a middle/second name.\r\n",
        "\r\n",
        "**Solution**:\r\n",
        "We use a reordering of the information, block by block to address the issues above.  We create a function and loop through the vector previously created.\r\n",
        "\r\n"
      ]
    },
    {
      "cell_type": "code",
      "metadata": {
        "colab": {
          "base_uri": "https://localhost:8080/"
        },
        "id": "WSGCwiHJCSMK",
        "outputId": "2f9972c5-431e-4936-b4e7-f0de2eacf857"
      },
      "source": [
        "def resetNameOrder(val):\r\n",
        "  p = re.compile(r'(\\w+)(\\s*),(\\s*)(\\w+)')\r\n",
        "  test_str = val\r\n",
        "  subst = r\"\\4\\2\\3\\1\"\r\n",
        "  result = re.sub(p, subst, test_str)\r\n",
        "  string = re.sub('\\.(?!$)', '', result)\r\n",
        "  return string\r\n",
        "\r\n",
        "for i in range(len(next_val)):\r\n",
        "  next_val[i] = resetNameOrder(next_val[i])\r\n",
        "  print(next_val[i])"
      ],
      "execution_count": null,
      "outputs": [
        {
          "output_type": "stream",
          "text": [
            "Dr Anthony Fauci\n",
            "Donnatella Hollingdorp\n",
            "F Fitzgerald Scott\n",
            "Rev Martin Luther King\n",
            "Theodore Snodgrass\n",
            "Carlamina Scarfoni\n"
          ],
          "name": "stdout"
        }
      ]
    },
    {
      "cell_type": "markdown",
      "metadata": {
        "id": "9OHQOF_o9Uvr"
      },
      "source": [
        "Here we match any of the necessary titles and print out True of False next to the name."
      ]
    },
    {
      "cell_type": "code",
      "metadata": {
        "colab": {
          "base_uri": "https://localhost:8080/"
        },
        "id": "09h3gv4TNKRS",
        "outputId": "e01923c8-1f53-4863-856b-31a3dd02aa91"
      },
      "source": [
        "\r\n",
        "def testForTitle(val):\r\n",
        "  if re.match('(Dr|Rev|Mrs|Miss|Mr)+',val):\r\n",
        "    print(True, \"\\t\", val)\r\n",
        "  else: \r\n",
        "    print(False, \"\\t\", val)\r\n",
        "\r\n",
        "for i in range(len(next_val)):\r\n",
        "  testForTitle(next_val[i])"
      ],
      "execution_count": null,
      "outputs": [
        {
          "output_type": "stream",
          "text": [
            "True \t Dr Anthony Fauci\n",
            "False \t Donnatella Hollingdorp\n",
            "False \t F Fitzgerald Scott\n",
            "True \t Rev Martin Luther King\n",
            "False \t Theodore Snodgrass\n",
            "False \t Carlamina Scarfoni\n"
          ],
          "name": "stdout"
        }
      ]
    },
    {
      "cell_type": "markdown",
      "metadata": {
        "id": "XiFMIgPk9cd2"
      },
      "source": [
        "Here we use logic to address whether or not the question is satisfied (as stated above)."
      ]
    },
    {
      "cell_type": "code",
      "metadata": {
        "colab": {
          "base_uri": "https://localhost:8080/"
        },
        "id": "JT4SsrxnZnYR",
        "outputId": "2b6aa4ed-7d1f-4503-e854-fb983a392c4d"
      },
      "source": [
        "def middleName(val):\r\n",
        " res = re.split('\\s+', val)\r\n",
        " if (((len(res)==3) and not((res[0] == 'Dr') or (res[0] == 'Rev'))) or (len(res)>3)):\r\n",
        "  print(True, '\\t', val)\r\n",
        " else:\r\n",
        "  print(False, '\\t', val)\r\n",
        "\r\n",
        "for i in range(len(next_val)):\r\n",
        "  middleName(next_val[i])"
      ],
      "execution_count": null,
      "outputs": [
        {
          "output_type": "stream",
          "text": [
            "False \t Dr Anthony Fauci\n",
            "False \t Donnatella Hollingdorp\n",
            "True \t F Fitzgerald Scott\n",
            "True \t Rev Martin Luther King\n",
            "False \t Theodore Snodgrass\n",
            "False \t Carlamina Scarfoni\n"
          ],
          "name": "stdout"
        }
      ]
    },
    {
      "cell_type": "markdown",
      "metadata": {
        "id": "5uUyczGVCld2"
      },
      "source": [
        "###Question 3\r\n",
        "\r\n",
        "We can't use <.+> for just the first title because it is greedy. As it says in the python docs:\r\n",
        "\r\n",
        "```\r\n",
        "The '*', '+', and '?' qualifiers are all greedy; they match as much text as possible.\r\n",
        "Sometimes this behaviour isn’t desired; \r\n",
        "if the RE <.*> is matched against '<a> b <c>', \r\n",
        "it will match the entire string, and not just '<a>'.\r\n",
        "Adding ? after the qualifier makes it perform the match \r\n",
        "in non-greedy or minimal fashion; as few characters \r\n",
        "as possible will be matched. Using the RE <.*?> will match only '<a>'.\r\n",
        "```\r\n",
        "\r\n",
        "As such, we just add a ? so that it is no longer 'greedy'."
      ]
    },
    {
      "cell_type": "code",
      "metadata": {
        "colab": {
          "base_uri": "https://localhost:8080/"
        },
        "id": "hZKLMNha_zT0",
        "outputId": "75e0e627-adc3-4d85-e941-d3a99409de78"
      },
      "source": [
        "html_string = '<title>+++BREAKING NEWS+++<title>'\r\n",
        "m = re.search('<.+?>', html_string)\r\n",
        "if m:\r\n",
        "  print(m)"
      ],
      "execution_count": null,
      "outputs": [
        {
          "output_type": "stream",
          "text": [
            "<_sre.SRE_Match object; span=(0, 7), match='<title>'>\n"
          ],
          "name": "stdout"
        }
      ]
    },
    {
      "cell_type": "markdown",
      "metadata": {
        "id": "7mTw6zHwDu0i"
      },
      "source": [
        "###Question 4\r\n",
        "\r\n",
        "The issue here is that we want to reference the characters for an equation and not use their special meaning.  For instance, using carat already has a meaning in regex, therefore we must use backslash-carat to identify the character and not its meaning.  It is the same for all of the equation.  We then also need to make sure that we do not change the grouping and ordering of the equation based on parenthesis, etc. \r\n",
        "\r\n",
        "Below are attempts at the problem, I am not sure exactly what you meant, so I put two options (based on https://stackoverflow.com/a/51721894 and https://stackoverflow.com/a/22731086) . I wasn't otherwise sure how to get it to work as it should."
      ]
    },
    {
      "cell_type": "code",
      "metadata": {
        "colab": {
          "base_uri": "https://localhost:8080/"
        },
        "id": "MTExsryVpkwR",
        "outputId": "9cd8dfad-d402-43e5-b18c-3f951efbb99b"
      },
      "source": [
        "q = '(5-3)^2=5^2-2*5*3+3^2'\r\n",
        "regexparse = r'\\d+|[+/*-]'\r\n",
        "elem = re.findall(regexparse, q)\r\n",
        "print(elem)"
      ],
      "execution_count": null,
      "outputs": [
        {
          "output_type": "stream",
          "text": [
            "['5', '-', '3', '2', '5', '2', '-', '2', '*', '5', '*', '3', '+', '3', '2']\n"
          ],
          "name": "stdout"
        }
      ]
    },
    {
      "cell_type": "code",
      "metadata": {
        "colab": {
          "base_uri": "https://localhost:8080/"
        },
        "id": "UgzACTdcq3iX",
        "outputId": "00f174c9-e032-4634-a193-710c2cd51311"
      },
      "source": [
        "text = '(5-3)^2=5^2-2*5*3+3^2'\r\n",
        "pattern = r'([\\=\\+\\-\\%\\*])'\r\n",
        "result = re.split(pattern, text)\r\n",
        "print(result)"
      ],
      "execution_count": null,
      "outputs": [
        {
          "output_type": "stream",
          "text": [
            "['(5', '-', '3)^2', '=', '5^2', '-', '2', '*', '5', '*', '3', '+', '3^2']\n"
          ],
          "name": "stdout"
        }
      ]
    },
    {
      "cell_type": "markdown",
      "metadata": {
        "id": "eRHZUbyJsQqW"
      },
      "source": [
        "##Part 2: Analyzing Chess Tournament Results\r\n",
        "\r\n"
      ]
    },
    {
      "cell_type": "markdown",
      "metadata": {
        "id": "GlgQ16kC9uiE"
      },
      "source": [
        "We initially uploaded our data to github, so that we have access on any system, and then place it in a dataframe.  The general approach is to use string manipulation as well as the 'extract' function from pd.Series to attack our problems and use regex. \r\n",
        "\r\n",
        "Details are explained below."
      ]
    },
    {
      "cell_type": "code",
      "metadata": {
        "colab": {
          "base_uri": "https://localhost:8080/",
          "height": 355
        },
        "id": "tyXvzwKDsaAo",
        "outputId": "9321eba3-9a31-4e15-8d51-1861ab5f5560"
      },
      "source": [
        "import pandas as pd \r\n",
        "import numpy as np\r\n",
        "\r\n",
        "df = pd.read_csv(\"https://raw.githubusercontent.com/MatthewFried/MAT5001/main/Project1.txt\", delimiter = \"\\t\")\r\n",
        "\r\n",
        "#show the beginning of the data\r\n",
        "df.head(10)"
      ],
      "execution_count": null,
      "outputs": [
        {
          "output_type": "execute_result",
          "data": {
            "text/html": [
              "<div>\n",
              "<style scoped>\n",
              "    .dataframe tbody tr th:only-of-type {\n",
              "        vertical-align: middle;\n",
              "    }\n",
              "\n",
              "    .dataframe tbody tr th {\n",
              "        vertical-align: top;\n",
              "    }\n",
              "\n",
              "    .dataframe thead th {\n",
              "        text-align: right;\n",
              "    }\n",
              "</style>\n",
              "<table border=\"1\" class=\"dataframe\">\n",
              "  <thead>\n",
              "    <tr style=\"text-align: right;\">\n",
              "      <th></th>\n",
              "      <th>-----------------------------------------------------------------------------------------</th>\n",
              "    </tr>\n",
              "  </thead>\n",
              "  <tbody>\n",
              "    <tr>\n",
              "      <th>0</th>\n",
              "      <td>Pair | Player Name                     |Total...</td>\n",
              "    </tr>\n",
              "    <tr>\n",
              "      <th>1</th>\n",
              "      <td>Num  | USCF ID / Rtg (Pre-&gt;Post)       | Pts ...</td>\n",
              "    </tr>\n",
              "    <tr>\n",
              "      <th>2</th>\n",
              "      <td>----------------------------------------------...</td>\n",
              "    </tr>\n",
              "    <tr>\n",
              "      <th>3</th>\n",
              "      <td>1 | GARY HUA                        |6.0  ...</td>\n",
              "    </tr>\n",
              "    <tr>\n",
              "      <th>4</th>\n",
              "      <td>ON | 15445895 / R: 1794   -&gt;1817     |N:2  ...</td>\n",
              "    </tr>\n",
              "    <tr>\n",
              "      <th>5</th>\n",
              "      <td>----------------------------------------------...</td>\n",
              "    </tr>\n",
              "    <tr>\n",
              "      <th>6</th>\n",
              "      <td>2 | DAKSHESH DARURI                 |6.0  ...</td>\n",
              "    </tr>\n",
              "    <tr>\n",
              "      <th>7</th>\n",
              "      <td>MI | 14598900 / R: 1553   -&gt;1663     |N:2  ...</td>\n",
              "    </tr>\n",
              "    <tr>\n",
              "      <th>8</th>\n",
              "      <td>----------------------------------------------...</td>\n",
              "    </tr>\n",
              "    <tr>\n",
              "      <th>9</th>\n",
              "      <td>3 | ADITYA BAJAJ                    |6.0  ...</td>\n",
              "    </tr>\n",
              "  </tbody>\n",
              "</table>\n",
              "</div>"
            ],
            "text/plain": [
              "  -----------------------------------------------------------------------------------------\n",
              "0   Pair | Player Name                     |Total...                                       \n",
              "1   Num  | USCF ID / Rtg (Pre->Post)       | Pts ...                                       \n",
              "2  ----------------------------------------------...                                       \n",
              "3      1 | GARY HUA                        |6.0  ...                                       \n",
              "4     ON | 15445895 / R: 1794   ->1817     |N:2  ...                                       \n",
              "5  ----------------------------------------------...                                       \n",
              "6      2 | DAKSHESH DARURI                 |6.0  ...                                       \n",
              "7     MI | 14598900 / R: 1553   ->1663     |N:2  ...                                       \n",
              "8  ----------------------------------------------...                                       \n",
              "9      3 | ADITYA BAJAJ                    |6.0  ...                                       "
            ]
          },
          "metadata": {
            "tags": []
          },
          "execution_count": 192
        }
      ]
    },
    {
      "cell_type": "markdown",
      "metadata": {
        "id": "rhBgv3Mw5daX"
      },
      "source": [
        "###Task 1\r\n",
        "\r\n",
        "We separate our data so that we can cover each task with what is needed.  The first task is to create a DataFrame with the player name and total points.  All the steps are set out below."
      ]
    },
    {
      "cell_type": "code",
      "metadata": {
        "id": "m_ElSr1stqOp"
      },
      "source": [
        "#The first three rows do now have any data that is relevant to me - so we drop them\r\n",
        "a = df.iloc[3:]\r\n",
        "\r\n",
        "#We now reset the index so that we are starting from 0 again\r\n",
        "a = a.reset_index(drop=True)\r\n",
        "\r\n",
        "#We set a dataframe for all the players and total points \r\n",
        "#Which is one of the initial questions we are tasked to address\r\n",
        "names = a.iloc[::3, :]\r\n",
        "names = names.reset_index(drop=True)\r\n",
        "\r\n",
        "#We rename the data frame to names\r\n",
        "names.columns = ['names']\r\n",
        "\r\n",
        "#We set a dataframe for all the state and pretournament ratings\r\n",
        "midstep = a.iloc[1:]\r\n",
        "midestep = midstep.reset_index(drop=True)\r\n",
        "state_and_rating = midstep.iloc[::3, :]"
      ],
      "execution_count": null,
      "outputs": []
    },
    {
      "cell_type": "code",
      "metadata": {
        "colab": {
          "base_uri": "https://localhost:8080/"
        },
        "id": "AnYqSw5rz2ep",
        "outputId": "b858513f-16db-4a2c-b4ac-42d1d72de68d"
      },
      "source": [
        "#We convert the dataframe into a series because we can then use the 'extract' function for regex\r\n",
        "the_series = names.T.squeeze()\r\n",
        "the_series"
      ],
      "execution_count": null,
      "outputs": [
        {
          "output_type": "execute_result",
          "data": {
            "text/plain": [
              "0         1 | GARY HUA                        |6.0  ...\n",
              "1         2 | DAKSHESH DARURI                 |6.0  ...\n",
              "2         3 | ADITYA BAJAJ                    |6.0  ...\n",
              "3         4 | PATRICK H SCHILLING             |5.5  ...\n",
              "4         5 | HANSHI ZUO                      |5.5  ...\n",
              "                            ...                        \n",
              "59       60 | JULIA SHEN                      |1.5  ...\n",
              "60       61 | JEZZEL FARKAS                   |1.5  ...\n",
              "61       62 | ASHWIN BALAJI                   |1.0  ...\n",
              "62       63 | THOMAS JOSEPH HOSMER            |1.0  ...\n",
              "63       64 | BEN LI                          |1.0  ...\n",
              "Name: names, Length: 64, dtype: object"
            ]
          },
          "metadata": {
            "tags": []
          },
          "execution_count": 194
        }
      ]
    },
    {
      "cell_type": "code",
      "metadata": {
        "colab": {
          "base_uri": "https://localhost:8080/",
          "height": 355
        },
        "id": "uB6hqy_4x49_",
        "outputId": "19fe5536-ab8a-40e7-9c1e-076695a3abf9"
      },
      "source": [
        "#We first extract the full name from the new Series\r\n",
        "name_1 = the_series.str.extract(r'([A-Z]+\\s[A-Z]+)')\r\n",
        "\r\n",
        "#We then pull put the points for each person by finding where it is in the column\r\n",
        "mid = the_series.str[41:44]\r\n",
        "\r\n",
        "#We create a dataframe of the two columns that now represent my data\r\n",
        "name_and_points = pd.DataFrame(name_1)\r\n",
        "name_and_points.columns = ['Names']\r\n",
        "name_and_points['Total Points'] = mid\r\n",
        "name_and_points.head(10)"
      ],
      "execution_count": null,
      "outputs": [
        {
          "output_type": "execute_result",
          "data": {
            "text/html": [
              "<div>\n",
              "<style scoped>\n",
              "    .dataframe tbody tr th:only-of-type {\n",
              "        vertical-align: middle;\n",
              "    }\n",
              "\n",
              "    .dataframe tbody tr th {\n",
              "        vertical-align: top;\n",
              "    }\n",
              "\n",
              "    .dataframe thead th {\n",
              "        text-align: right;\n",
              "    }\n",
              "</style>\n",
              "<table border=\"1\" class=\"dataframe\">\n",
              "  <thead>\n",
              "    <tr style=\"text-align: right;\">\n",
              "      <th></th>\n",
              "      <th>Names</th>\n",
              "      <th>Total Points</th>\n",
              "    </tr>\n",
              "  </thead>\n",
              "  <tbody>\n",
              "    <tr>\n",
              "      <th>0</th>\n",
              "      <td>GARY HUA</td>\n",
              "      <td>6.0</td>\n",
              "    </tr>\n",
              "    <tr>\n",
              "      <th>1</th>\n",
              "      <td>DAKSHESH DARURI</td>\n",
              "      <td>6.0</td>\n",
              "    </tr>\n",
              "    <tr>\n",
              "      <th>2</th>\n",
              "      <td>ADITYA BAJAJ</td>\n",
              "      <td>6.0</td>\n",
              "    </tr>\n",
              "    <tr>\n",
              "      <th>3</th>\n",
              "      <td>PATRICK H</td>\n",
              "      <td>5.5</td>\n",
              "    </tr>\n",
              "    <tr>\n",
              "      <th>4</th>\n",
              "      <td>HANSHI ZUO</td>\n",
              "      <td>5.5</td>\n",
              "    </tr>\n",
              "    <tr>\n",
              "      <th>5</th>\n",
              "      <td>HANSEN SONG</td>\n",
              "      <td>5.0</td>\n",
              "    </tr>\n",
              "    <tr>\n",
              "      <th>6</th>\n",
              "      <td>GARY DEE</td>\n",
              "      <td>5.0</td>\n",
              "    </tr>\n",
              "    <tr>\n",
              "      <th>7</th>\n",
              "      <td>EZEKIEL HOUGHTON</td>\n",
              "      <td>5.0</td>\n",
              "    </tr>\n",
              "    <tr>\n",
              "      <th>8</th>\n",
              "      <td>STEFANO LEE</td>\n",
              "      <td>5.0</td>\n",
              "    </tr>\n",
              "    <tr>\n",
              "      <th>9</th>\n",
              "      <td>ANVIT RAO</td>\n",
              "      <td>5.0</td>\n",
              "    </tr>\n",
              "  </tbody>\n",
              "</table>\n",
              "</div>"
            ],
            "text/plain": [
              "              Names Total Points\n",
              "0          GARY HUA          6.0\n",
              "1   DAKSHESH DARURI          6.0\n",
              "2      ADITYA BAJAJ          6.0\n",
              "3         PATRICK H          5.5\n",
              "4        HANSHI ZUO          5.5\n",
              "5       HANSEN SONG          5.0\n",
              "6          GARY DEE          5.0\n",
              "7  EZEKIEL HOUGHTON          5.0\n",
              "8       STEFANO LEE          5.0\n",
              "9         ANVIT RAO          5.0"
            ]
          },
          "metadata": {
            "tags": []
          },
          "execution_count": 195
        }
      ]
    },
    {
      "cell_type": "markdown",
      "metadata": {
        "id": "khP-4k4b5VwN"
      },
      "source": [
        "###Task 2\r\n",
        "\r\n",
        "We know process the state and pre-tournament rating from the information we have already set up.  Below we "
      ]
    },
    {
      "cell_type": "code",
      "metadata": {
        "colab": {
          "base_uri": "https://localhost:8080/",
          "height": 355
        },
        "id": "Ad3CEF045LQy",
        "outputId": "3259f51e-19ef-4c8b-ad6a-6aef8c39452d"
      },
      "source": [
        "#We now \r\n",
        "#We convert the dataframe into a series because we can then use the 'extract' function for regex\r\n",
        "die_Serie = state_and_rating.T.squeeze()\r\n",
        "\r\n",
        "#We first extract the state from the new Series\r\n",
        "state = die_Serie.str.extract(r'([A-Z]+)')\r\n",
        "\r\n",
        "#We then pull put the pre-tournament rating for each person by finding where it is in the column\r\n",
        "mid = die_Serie.str[31:35]\r\n",
        "\r\n",
        "#We create a dataframe of the two columns that now represent my data\r\n",
        "state_and_pretournament = pd.DataFrame(state)\r\n",
        "state_and_pretournament.columns = ['State']\r\n",
        "state_and_pretournament['Pre-Tournament'] = mid\r\n",
        "state_and_pretournament.head(10)"
      ],
      "execution_count": null,
      "outputs": [
        {
          "output_type": "execute_result",
          "data": {
            "text/html": [
              "<div>\n",
              "<style scoped>\n",
              "    .dataframe tbody tr th:only-of-type {\n",
              "        vertical-align: middle;\n",
              "    }\n",
              "\n",
              "    .dataframe tbody tr th {\n",
              "        vertical-align: top;\n",
              "    }\n",
              "\n",
              "    .dataframe thead th {\n",
              "        text-align: right;\n",
              "    }\n",
              "</style>\n",
              "<table border=\"1\" class=\"dataframe\">\n",
              "  <thead>\n",
              "    <tr style=\"text-align: right;\">\n",
              "      <th></th>\n",
              "      <th>State</th>\n",
              "      <th>Pre-Tournament</th>\n",
              "    </tr>\n",
              "  </thead>\n",
              "  <tbody>\n",
              "    <tr>\n",
              "      <th>1</th>\n",
              "      <td>ON</td>\n",
              "      <td>1817</td>\n",
              "    </tr>\n",
              "    <tr>\n",
              "      <th>4</th>\n",
              "      <td>MI</td>\n",
              "      <td>1663</td>\n",
              "    </tr>\n",
              "    <tr>\n",
              "      <th>7</th>\n",
              "      <td>MI</td>\n",
              "      <td>1640</td>\n",
              "    </tr>\n",
              "    <tr>\n",
              "      <th>10</th>\n",
              "      <td>MI</td>\n",
              "      <td>1744</td>\n",
              "    </tr>\n",
              "    <tr>\n",
              "      <th>13</th>\n",
              "      <td>MI</td>\n",
              "      <td>1690</td>\n",
              "    </tr>\n",
              "    <tr>\n",
              "      <th>16</th>\n",
              "      <td>OH</td>\n",
              "      <td>1687</td>\n",
              "    </tr>\n",
              "    <tr>\n",
              "      <th>19</th>\n",
              "      <td>MI</td>\n",
              "      <td>1673</td>\n",
              "    </tr>\n",
              "    <tr>\n",
              "      <th>22</th>\n",
              "      <td>MI</td>\n",
              "      <td>1657</td>\n",
              "    </tr>\n",
              "    <tr>\n",
              "      <th>25</th>\n",
              "      <td>ON</td>\n",
              "      <td>1564</td>\n",
              "    </tr>\n",
              "    <tr>\n",
              "      <th>28</th>\n",
              "      <td>MI</td>\n",
              "      <td>1544</td>\n",
              "    </tr>\n",
              "  </tbody>\n",
              "</table>\n",
              "</div>"
            ],
            "text/plain": [
              "   State Pre-Tournament\n",
              "1     ON           1817\n",
              "4     MI           1663\n",
              "7     MI           1640\n",
              "10    MI           1744\n",
              "13    MI           1690\n",
              "16    OH           1687\n",
              "19    MI           1673\n",
              "22    MI           1657\n",
              "25    ON           1564\n",
              "28    MI           1544"
            ]
          },
          "metadata": {
            "tags": []
          },
          "execution_count": 196
        }
      ]
    },
    {
      "cell_type": "markdown",
      "metadata": {
        "id": "ZCso4IXR8R-s"
      },
      "source": [
        "###Task 3\r\n",
        "\r\n",
        "Currently, out of my league."
      ]
    },
    {
      "cell_type": "markdown",
      "metadata": {
        "id": "W9e_0MDZ-EJ6"
      },
      "source": [
        "##Summary\r\n",
        "\r\n",
        "We think we were able to address everything but the last task. Overall, this assignment was *much* harder than previous assignments, and *much* harder than expected.  We are very uncomfortable with using regex."
      ]
    }
  ]
}