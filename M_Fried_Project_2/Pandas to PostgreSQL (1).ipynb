{
 "cells": [
  {
   "cell_type": "markdown",
   "metadata": {},
   "source": [
    "# Loading Data\n",
    "\n",
    "It seems like our job is to take data that is in a dataframe and load it into PostgreSQL and then bring it back into our Jupyter Notebook.  Since I have many conflicts when I do the conda install I am not able to run this. I am modeling the code anyway, which should be close.  I tried without the conda install, but was not able to run it either.  Perhaps in the future I can find a work around."
   ]
  },
  {
   "cell_type": "code",
   "execution_count": 5,
   "metadata": {},
   "outputs": [],
   "source": [
    "import pandas as pd\n",
    "import psycopg2\n",
    "import sqlalchemy\n",
    "import matplotlib as plt"
   ]
  },
  {
   "cell_type": "code",
   "execution_count": null,
   "metadata": {},
   "outputs": [],
   "source": [
    "conn = psycopg2.connect(\n",
    "    host=\"localhost\",\n",
    "    database=\"postgres\",\n",
    "    user=\"postgres\",\n",
    "    password=\"postgres\")"
   ]
  },
  {
   "cell_type": "code",
   "execution_count": null,
   "metadata": {},
   "outputs": [],
   "source": [
    "#If we wanted to create a table in Python to use in PostgreSQL we would do the below\n",
    "#It seems the intention of the directions was to create it in PostgreSQL and fill it from Python though\n",
    "\n",
    "cur = conn.cursor()\n",
    "cur.execute(\"\"\"CREATE TABLE Person (user_id serial PRIMARY KEY, male varchar(50) not null, age varchar(50) not null, BMI varchar(50) not null, totChol varchar(50) not null);\n",
    "\"\"\")\n",
    "conn.commit()\n"
   ]
  },
  {
   "cell_type": "markdown",
   "metadata": {},
   "source": [
    "I used [this](https://www.dataquest.io/blog/loading-data-into-postgres/) to find the code for the below, tailored to our specifications."
   ]
  },
  {
   "cell_type": "code",
   "execution_count": null,
   "metadata": {},
   "outputs": [],
   "source": [
    "#This would fill the table \n",
    "#We would need to use the INSERT command\n",
    "import csv \n",
    "\n",
    "with open('heartdata.csv', 'r') as f:\n",
    "    reader = csv.reader(f)\n",
    "    next(reader) # Skip the header row.\n",
    "    for row in reader:\n",
    "        cur.execute(\n",
    "        \"INSERT INTO users VALUES (%s, %s, %s, %s, %s, %s, %s, %s, %s, %s, %s, %s,  %s, %s)\",\n",
    "        row\n",
    "    )\n",
    "conn.commit()"
   ]
  },
  {
   "cell_type": "code",
   "execution_count": null,
   "metadata": {},
   "outputs": [],
   "source": [
    "#to read from PostgreSQL\n",
    "\n",
    "table1 = pds.read_sql(\"select * from \\\"person\\\"\", dbConnection);\n",
    "table2 = pds.read_sql(\"select * from \\\"heart\\\"\", dbConnection);\n",
    "table3 = pds.read_sql(\"select * from \\\"outside\\\"\", dbConnection);"
   ]
  }
 ],
 "metadata": {
  "kernelspec": {
   "display_name": "Python 3",
   "language": "python",
   "name": "python3"
  },
  "language_info": {
   "codemirror_mode": {
    "name": "ipython",
    "version": 3
   },
   "file_extension": ".py",
   "mimetype": "text/x-python",
   "name": "python",
   "nbconvert_exporter": "python",
   "pygments_lexer": "ipython3",
   "version": "3.8.3"
  }
 },
 "nbformat": 4,
 "nbformat_minor": 4
}
