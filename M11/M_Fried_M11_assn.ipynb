{
  "nbformat": 4,
  "nbformat_minor": 0,
  "metadata": {
    "colab": {
      "name": "M_Fried_M11_assn.ipynb",
      "provenance": []
    },
    "kernelspec": {
      "name": "python3",
      "display_name": "Python 3"
    },
    "language_info": {
      "name": "python"
    }
  },
  "cells": [
    {
      "cell_type": "markdown",
      "metadata": {
        "id": "LI0CD951ZDZ9"
      },
      "source": [
        "# Part 1\n",
        "\n",
        "We reshape data by turning wide data to long data. We first drop an entirely empty column, then we rename the missing column names, and we continue on from there.\n",
        "\n",
        "Next we answer related questions."
      ]
    },
    {
      "cell_type": "code",
      "metadata": {
        "colab": {
          "base_uri": "https://localhost:8080/",
          "height": 202
        },
        "id": "JzAS2lkgL0oy",
        "outputId": "2c01d07e-4b66-4051-9e01-f67180082ae6"
      },
      "source": [
        "import pandas as pd\n",
        "import numpy as np\n",
        "\n",
        "bridges = pd.read_csv(\"https://raw.githubusercontent.com/MatthewFried/MAT5001/main/M11/M11_Data%20(1).csv\")\n",
        "bridges"
      ],
      "execution_count": 185,
      "outputs": [
        {
          "output_type": "execute_result",
          "data": {
            "text/html": [
              "<div>\n",
              "<style scoped>\n",
              "    .dataframe tbody tr th:only-of-type {\n",
              "        vertical-align: middle;\n",
              "    }\n",
              "\n",
              "    .dataframe tbody tr th {\n",
              "        vertical-align: top;\n",
              "    }\n",
              "\n",
              "    .dataframe thead th {\n",
              "        text-align: right;\n",
              "    }\n",
              "</style>\n",
              "<table border=\"1\" class=\"dataframe\">\n",
              "  <thead>\n",
              "    <tr style=\"text-align: right;\">\n",
              "      <th></th>\n",
              "      <th>Unnamed: 0</th>\n",
              "      <th>Unnamed: 1</th>\n",
              "      <th>Los Angeles</th>\n",
              "      <th>Phoenix</th>\n",
              "      <th>San Diego</th>\n",
              "      <th>San Francisco</th>\n",
              "      <th>Seattle</th>\n",
              "    </tr>\n",
              "  </thead>\n",
              "  <tbody>\n",
              "    <tr>\n",
              "      <th>0</th>\n",
              "      <td>ALASKA</td>\n",
              "      <td>on time</td>\n",
              "      <td>497.0</td>\n",
              "      <td>221.0</td>\n",
              "      <td>212.0</td>\n",
              "      <td>503.0</td>\n",
              "      <td>1841.0</td>\n",
              "    </tr>\n",
              "    <tr>\n",
              "      <th>1</th>\n",
              "      <td>NaN</td>\n",
              "      <td>delayed</td>\n",
              "      <td>62.0</td>\n",
              "      <td>12.0</td>\n",
              "      <td>20.0</td>\n",
              "      <td>102.0</td>\n",
              "      <td>305.0</td>\n",
              "    </tr>\n",
              "    <tr>\n",
              "      <th>2</th>\n",
              "      <td>NaN</td>\n",
              "      <td>NaN</td>\n",
              "      <td>NaN</td>\n",
              "      <td>NaN</td>\n",
              "      <td>NaN</td>\n",
              "      <td>NaN</td>\n",
              "      <td>NaN</td>\n",
              "    </tr>\n",
              "    <tr>\n",
              "      <th>3</th>\n",
              "      <td>AMWEST</td>\n",
              "      <td>on time</td>\n",
              "      <td>694.0</td>\n",
              "      <td>4840.0</td>\n",
              "      <td>383.0</td>\n",
              "      <td>320.0</td>\n",
              "      <td>201.0</td>\n",
              "    </tr>\n",
              "    <tr>\n",
              "      <th>4</th>\n",
              "      <td>NaN</td>\n",
              "      <td>delayed</td>\n",
              "      <td>117.0</td>\n",
              "      <td>415.0</td>\n",
              "      <td>65.0</td>\n",
              "      <td>129.0</td>\n",
              "      <td>61.0</td>\n",
              "    </tr>\n",
              "  </tbody>\n",
              "</table>\n",
              "</div>"
            ],
            "text/plain": [
              "  Unnamed: 0 Unnamed: 1  Los Angeles  ...  San Diego  San Francisco  Seattle\n",
              "0     ALASKA    on time        497.0  ...      212.0          503.0   1841.0\n",
              "1        NaN    delayed         62.0  ...       20.0          102.0    305.0\n",
              "2        NaN        NaN          NaN  ...        NaN            NaN      NaN\n",
              "3     AMWEST    on time        694.0  ...      383.0          320.0    201.0\n",
              "4        NaN    delayed        117.0  ...       65.0          129.0     61.0\n",
              "\n",
              "[5 rows x 7 columns]"
            ]
          },
          "metadata": {
            "tags": []
          },
          "execution_count": 185
        }
      ]
    },
    {
      "cell_type": "code",
      "metadata": {
        "colab": {
          "base_uri": "https://localhost:8080/",
          "height": 171
        },
        "id": "6Nx287W_Jiv0",
        "outputId": "f5298129-484e-4a2e-b9f6-ae2546fca854"
      },
      "source": [
        "#drop row 2 since it was just a visual aid with no information\n",
        "bridges.drop(2,inplace= True)\n",
        "\n",
        "#rename column\n",
        "bridges.rename(columns ={'Unnamed: 0' : 'Airline', 'Unnamed: 1' : 'Delay'}, inplace = True)\n",
        "\n",
        "#fill in the Airline column\n",
        "bridges['Airline'].fillna(method='ffill',inplace=True)\n",
        "\n",
        "#reset the index\n",
        "bridges_0 = bridges.reset_index(drop=True)\n",
        "\n",
        "#check data\n",
        "bridges_0"
      ],
      "execution_count": 186,
      "outputs": [
        {
          "output_type": "execute_result",
          "data": {
            "text/html": [
              "<div>\n",
              "<style scoped>\n",
              "    .dataframe tbody tr th:only-of-type {\n",
              "        vertical-align: middle;\n",
              "    }\n",
              "\n",
              "    .dataframe tbody tr th {\n",
              "        vertical-align: top;\n",
              "    }\n",
              "\n",
              "    .dataframe thead th {\n",
              "        text-align: right;\n",
              "    }\n",
              "</style>\n",
              "<table border=\"1\" class=\"dataframe\">\n",
              "  <thead>\n",
              "    <tr style=\"text-align: right;\">\n",
              "      <th></th>\n",
              "      <th>Airline</th>\n",
              "      <th>Delay</th>\n",
              "      <th>Los Angeles</th>\n",
              "      <th>Phoenix</th>\n",
              "      <th>San Diego</th>\n",
              "      <th>San Francisco</th>\n",
              "      <th>Seattle</th>\n",
              "    </tr>\n",
              "  </thead>\n",
              "  <tbody>\n",
              "    <tr>\n",
              "      <th>0</th>\n",
              "      <td>ALASKA</td>\n",
              "      <td>on time</td>\n",
              "      <td>497.0</td>\n",
              "      <td>221.0</td>\n",
              "      <td>212.0</td>\n",
              "      <td>503.0</td>\n",
              "      <td>1841.0</td>\n",
              "    </tr>\n",
              "    <tr>\n",
              "      <th>1</th>\n",
              "      <td>ALASKA</td>\n",
              "      <td>delayed</td>\n",
              "      <td>62.0</td>\n",
              "      <td>12.0</td>\n",
              "      <td>20.0</td>\n",
              "      <td>102.0</td>\n",
              "      <td>305.0</td>\n",
              "    </tr>\n",
              "    <tr>\n",
              "      <th>2</th>\n",
              "      <td>AMWEST</td>\n",
              "      <td>on time</td>\n",
              "      <td>694.0</td>\n",
              "      <td>4840.0</td>\n",
              "      <td>383.0</td>\n",
              "      <td>320.0</td>\n",
              "      <td>201.0</td>\n",
              "    </tr>\n",
              "    <tr>\n",
              "      <th>3</th>\n",
              "      <td>AMWEST</td>\n",
              "      <td>delayed</td>\n",
              "      <td>117.0</td>\n",
              "      <td>415.0</td>\n",
              "      <td>65.0</td>\n",
              "      <td>129.0</td>\n",
              "      <td>61.0</td>\n",
              "    </tr>\n",
              "  </tbody>\n",
              "</table>\n",
              "</div>"
            ],
            "text/plain": [
              "  Airline    Delay  Los Angeles  Phoenix  San Diego  San Francisco  Seattle\n",
              "0  ALASKA  on time        497.0    221.0      212.0          503.0   1841.0\n",
              "1  ALASKA  delayed         62.0     12.0       20.0          102.0    305.0\n",
              "2  AMWEST  on time        694.0   4840.0      383.0          320.0    201.0\n",
              "3  AMWEST  delayed        117.0    415.0       65.0          129.0     61.0"
            ]
          },
          "metadata": {
            "tags": []
          },
          "execution_count": 186
        }
      ]
    },
    {
      "cell_type": "code",
      "metadata": {
        "colab": {
          "base_uri": "https://localhost:8080/"
        },
        "id": "mLQeqBTlSzI5",
        "outputId": "d6c96d29-616b-433a-bbf1-ad70de043553"
      },
      "source": [
        "#check the data types to see if conversion is necessary\n",
        "#seems to be OK\n",
        "bridges.dtypes"
      ],
      "execution_count": 187,
      "outputs": [
        {
          "output_type": "execute_result",
          "data": {
            "text/plain": [
              "Airline           object\n",
              "Delay             object\n",
              "Los Angeles      float64\n",
              "Phoenix          float64\n",
              "San Diego        float64\n",
              "San Francisco    float64\n",
              "Seattle          float64\n",
              "dtype: object"
            ]
          },
          "metadata": {
            "tags": []
          },
          "execution_count": 187
        }
      ]
    },
    {
      "cell_type": "code",
      "metadata": {
        "colab": {
          "base_uri": "https://localhost:8080/",
          "height": 171
        },
        "id": "9MDyRxgJUwnW",
        "outputId": "a38bb448-7c80-401e-b30a-2819ea6ff13d"
      },
      "source": [
        "#test to see if there is a clearer path to tidy data by breaking up Delay column\n",
        "bridges = pd.get_dummies(bridges_0, prefix=['Delay'], columns=['Delay'])\n",
        "bridges"
      ],
      "execution_count": 188,
      "outputs": [
        {
          "output_type": "execute_result",
          "data": {
            "text/html": [
              "<div>\n",
              "<style scoped>\n",
              "    .dataframe tbody tr th:only-of-type {\n",
              "        vertical-align: middle;\n",
              "    }\n",
              "\n",
              "    .dataframe tbody tr th {\n",
              "        vertical-align: top;\n",
              "    }\n",
              "\n",
              "    .dataframe thead th {\n",
              "        text-align: right;\n",
              "    }\n",
              "</style>\n",
              "<table border=\"1\" class=\"dataframe\">\n",
              "  <thead>\n",
              "    <tr style=\"text-align: right;\">\n",
              "      <th></th>\n",
              "      <th>Airline</th>\n",
              "      <th>Los Angeles</th>\n",
              "      <th>Phoenix</th>\n",
              "      <th>San Diego</th>\n",
              "      <th>San Francisco</th>\n",
              "      <th>Seattle</th>\n",
              "      <th>Delay_delayed</th>\n",
              "      <th>Delay_on time</th>\n",
              "    </tr>\n",
              "  </thead>\n",
              "  <tbody>\n",
              "    <tr>\n",
              "      <th>0</th>\n",
              "      <td>ALASKA</td>\n",
              "      <td>497.0</td>\n",
              "      <td>221.0</td>\n",
              "      <td>212.0</td>\n",
              "      <td>503.0</td>\n",
              "      <td>1841.0</td>\n",
              "      <td>0</td>\n",
              "      <td>1</td>\n",
              "    </tr>\n",
              "    <tr>\n",
              "      <th>1</th>\n",
              "      <td>ALASKA</td>\n",
              "      <td>62.0</td>\n",
              "      <td>12.0</td>\n",
              "      <td>20.0</td>\n",
              "      <td>102.0</td>\n",
              "      <td>305.0</td>\n",
              "      <td>1</td>\n",
              "      <td>0</td>\n",
              "    </tr>\n",
              "    <tr>\n",
              "      <th>2</th>\n",
              "      <td>AMWEST</td>\n",
              "      <td>694.0</td>\n",
              "      <td>4840.0</td>\n",
              "      <td>383.0</td>\n",
              "      <td>320.0</td>\n",
              "      <td>201.0</td>\n",
              "      <td>0</td>\n",
              "      <td>1</td>\n",
              "    </tr>\n",
              "    <tr>\n",
              "      <th>3</th>\n",
              "      <td>AMWEST</td>\n",
              "      <td>117.0</td>\n",
              "      <td>415.0</td>\n",
              "      <td>65.0</td>\n",
              "      <td>129.0</td>\n",
              "      <td>61.0</td>\n",
              "      <td>1</td>\n",
              "      <td>0</td>\n",
              "    </tr>\n",
              "  </tbody>\n",
              "</table>\n",
              "</div>"
            ],
            "text/plain": [
              "  Airline  Los Angeles  Phoenix  ...  Seattle  Delay_delayed  Delay_on time\n",
              "0  ALASKA        497.0    221.0  ...   1841.0              0              1\n",
              "1  ALASKA         62.0     12.0  ...    305.0              1              0\n",
              "2  AMWEST        694.0   4840.0  ...    201.0              0              1\n",
              "3  AMWEST        117.0    415.0  ...     61.0              1              0\n",
              "\n",
              "[4 rows x 8 columns]"
            ]
          },
          "metadata": {
            "tags": []
          },
          "execution_count": 188
        }
      ]
    },
    {
      "cell_type": "code",
      "metadata": {
        "colab": {
          "base_uri": "https://localhost:8080/"
        },
        "id": "jnZYXgyhYSBa",
        "outputId": "c4a6ef52-a8f0-4ea9-e8a2-b318fd7c755c"
      },
      "source": [
        "#test to see if stacked data can assist in cleaning data\n",
        "bridges.stack()"
      ],
      "execution_count": 189,
      "outputs": [
        {
          "output_type": "execute_result",
          "data": {
            "text/plain": [
              "0  Airline          ALASKA\n",
              "   Los Angeles         497\n",
              "   Phoenix             221\n",
              "   San Diego           212\n",
              "   San Francisco       503\n",
              "   Seattle            1841\n",
              "   Delay_delayed         0\n",
              "   Delay_on time         1\n",
              "1  Airline          ALASKA\n",
              "   Los Angeles          62\n",
              "   Phoenix              12\n",
              "   San Diego            20\n",
              "   San Francisco       102\n",
              "   Seattle             305\n",
              "   Delay_delayed         1\n",
              "   Delay_on time         0\n",
              "2  Airline          AMWEST\n",
              "   Los Angeles         694\n",
              "   Phoenix            4840\n",
              "   San Diego           383\n",
              "   San Francisco       320\n",
              "   Seattle             201\n",
              "   Delay_delayed         0\n",
              "   Delay_on time         1\n",
              "3  Airline          AMWEST\n",
              "   Los Angeles         117\n",
              "   Phoenix             415\n",
              "   San Diego            65\n",
              "   San Francisco       129\n",
              "   Seattle              61\n",
              "   Delay_delayed         1\n",
              "   Delay_on time         0\n",
              "dtype: object"
            ]
          },
          "metadata": {
            "tags": []
          },
          "execution_count": 189
        }
      ]
    },
    {
      "cell_type": "code",
      "metadata": {
        "colab": {
          "base_uri": "https://localhost:8080/",
          "height": 907
        },
        "id": "d3xMTeL3WZEd",
        "outputId": "ee7322b2-395d-4b68-b1e9-2a8b508e2d66"
      },
      "source": [
        "#test to see if there is a clearer path to tidy data by using melt\n",
        "melted = pd.melt(bridges,['Airline'])\n",
        "melted"
      ],
      "execution_count": 190,
      "outputs": [
        {
          "output_type": "execute_result",
          "data": {
            "text/html": [
              "<div>\n",
              "<style scoped>\n",
              "    .dataframe tbody tr th:only-of-type {\n",
              "        vertical-align: middle;\n",
              "    }\n",
              "\n",
              "    .dataframe tbody tr th {\n",
              "        vertical-align: top;\n",
              "    }\n",
              "\n",
              "    .dataframe thead th {\n",
              "        text-align: right;\n",
              "    }\n",
              "</style>\n",
              "<table border=\"1\" class=\"dataframe\">\n",
              "  <thead>\n",
              "    <tr style=\"text-align: right;\">\n",
              "      <th></th>\n",
              "      <th>Airline</th>\n",
              "      <th>variable</th>\n",
              "      <th>value</th>\n",
              "    </tr>\n",
              "  </thead>\n",
              "  <tbody>\n",
              "    <tr>\n",
              "      <th>0</th>\n",
              "      <td>ALASKA</td>\n",
              "      <td>Los Angeles</td>\n",
              "      <td>497.0</td>\n",
              "    </tr>\n",
              "    <tr>\n",
              "      <th>1</th>\n",
              "      <td>ALASKA</td>\n",
              "      <td>Los Angeles</td>\n",
              "      <td>62.0</td>\n",
              "    </tr>\n",
              "    <tr>\n",
              "      <th>2</th>\n",
              "      <td>AMWEST</td>\n",
              "      <td>Los Angeles</td>\n",
              "      <td>694.0</td>\n",
              "    </tr>\n",
              "    <tr>\n",
              "      <th>3</th>\n",
              "      <td>AMWEST</td>\n",
              "      <td>Los Angeles</td>\n",
              "      <td>117.0</td>\n",
              "    </tr>\n",
              "    <tr>\n",
              "      <th>4</th>\n",
              "      <td>ALASKA</td>\n",
              "      <td>Phoenix</td>\n",
              "      <td>221.0</td>\n",
              "    </tr>\n",
              "    <tr>\n",
              "      <th>5</th>\n",
              "      <td>ALASKA</td>\n",
              "      <td>Phoenix</td>\n",
              "      <td>12.0</td>\n",
              "    </tr>\n",
              "    <tr>\n",
              "      <th>6</th>\n",
              "      <td>AMWEST</td>\n",
              "      <td>Phoenix</td>\n",
              "      <td>4840.0</td>\n",
              "    </tr>\n",
              "    <tr>\n",
              "      <th>7</th>\n",
              "      <td>AMWEST</td>\n",
              "      <td>Phoenix</td>\n",
              "      <td>415.0</td>\n",
              "    </tr>\n",
              "    <tr>\n",
              "      <th>8</th>\n",
              "      <td>ALASKA</td>\n",
              "      <td>San Diego</td>\n",
              "      <td>212.0</td>\n",
              "    </tr>\n",
              "    <tr>\n",
              "      <th>9</th>\n",
              "      <td>ALASKA</td>\n",
              "      <td>San Diego</td>\n",
              "      <td>20.0</td>\n",
              "    </tr>\n",
              "    <tr>\n",
              "      <th>10</th>\n",
              "      <td>AMWEST</td>\n",
              "      <td>San Diego</td>\n",
              "      <td>383.0</td>\n",
              "    </tr>\n",
              "    <tr>\n",
              "      <th>11</th>\n",
              "      <td>AMWEST</td>\n",
              "      <td>San Diego</td>\n",
              "      <td>65.0</td>\n",
              "    </tr>\n",
              "    <tr>\n",
              "      <th>12</th>\n",
              "      <td>ALASKA</td>\n",
              "      <td>San Francisco</td>\n",
              "      <td>503.0</td>\n",
              "    </tr>\n",
              "    <tr>\n",
              "      <th>13</th>\n",
              "      <td>ALASKA</td>\n",
              "      <td>San Francisco</td>\n",
              "      <td>102.0</td>\n",
              "    </tr>\n",
              "    <tr>\n",
              "      <th>14</th>\n",
              "      <td>AMWEST</td>\n",
              "      <td>San Francisco</td>\n",
              "      <td>320.0</td>\n",
              "    </tr>\n",
              "    <tr>\n",
              "      <th>15</th>\n",
              "      <td>AMWEST</td>\n",
              "      <td>San Francisco</td>\n",
              "      <td>129.0</td>\n",
              "    </tr>\n",
              "    <tr>\n",
              "      <th>16</th>\n",
              "      <td>ALASKA</td>\n",
              "      <td>Seattle</td>\n",
              "      <td>1841.0</td>\n",
              "    </tr>\n",
              "    <tr>\n",
              "      <th>17</th>\n",
              "      <td>ALASKA</td>\n",
              "      <td>Seattle</td>\n",
              "      <td>305.0</td>\n",
              "    </tr>\n",
              "    <tr>\n",
              "      <th>18</th>\n",
              "      <td>AMWEST</td>\n",
              "      <td>Seattle</td>\n",
              "      <td>201.0</td>\n",
              "    </tr>\n",
              "    <tr>\n",
              "      <th>19</th>\n",
              "      <td>AMWEST</td>\n",
              "      <td>Seattle</td>\n",
              "      <td>61.0</td>\n",
              "    </tr>\n",
              "    <tr>\n",
              "      <th>20</th>\n",
              "      <td>ALASKA</td>\n",
              "      <td>Delay_delayed</td>\n",
              "      <td>0.0</td>\n",
              "    </tr>\n",
              "    <tr>\n",
              "      <th>21</th>\n",
              "      <td>ALASKA</td>\n",
              "      <td>Delay_delayed</td>\n",
              "      <td>1.0</td>\n",
              "    </tr>\n",
              "    <tr>\n",
              "      <th>22</th>\n",
              "      <td>AMWEST</td>\n",
              "      <td>Delay_delayed</td>\n",
              "      <td>0.0</td>\n",
              "    </tr>\n",
              "    <tr>\n",
              "      <th>23</th>\n",
              "      <td>AMWEST</td>\n",
              "      <td>Delay_delayed</td>\n",
              "      <td>1.0</td>\n",
              "    </tr>\n",
              "    <tr>\n",
              "      <th>24</th>\n",
              "      <td>ALASKA</td>\n",
              "      <td>Delay_on time</td>\n",
              "      <td>1.0</td>\n",
              "    </tr>\n",
              "    <tr>\n",
              "      <th>25</th>\n",
              "      <td>ALASKA</td>\n",
              "      <td>Delay_on time</td>\n",
              "      <td>0.0</td>\n",
              "    </tr>\n",
              "    <tr>\n",
              "      <th>26</th>\n",
              "      <td>AMWEST</td>\n",
              "      <td>Delay_on time</td>\n",
              "      <td>1.0</td>\n",
              "    </tr>\n",
              "    <tr>\n",
              "      <th>27</th>\n",
              "      <td>AMWEST</td>\n",
              "      <td>Delay_on time</td>\n",
              "      <td>0.0</td>\n",
              "    </tr>\n",
              "  </tbody>\n",
              "</table>\n",
              "</div>"
            ],
            "text/plain": [
              "   Airline       variable   value\n",
              "0   ALASKA    Los Angeles   497.0\n",
              "1   ALASKA    Los Angeles    62.0\n",
              "2   AMWEST    Los Angeles   694.0\n",
              "3   AMWEST    Los Angeles   117.0\n",
              "4   ALASKA        Phoenix   221.0\n",
              "5   ALASKA        Phoenix    12.0\n",
              "6   AMWEST        Phoenix  4840.0\n",
              "7   AMWEST        Phoenix   415.0\n",
              "8   ALASKA      San Diego   212.0\n",
              "9   ALASKA      San Diego    20.0\n",
              "10  AMWEST      San Diego   383.0\n",
              "11  AMWEST      San Diego    65.0\n",
              "12  ALASKA  San Francisco   503.0\n",
              "13  ALASKA  San Francisco   102.0\n",
              "14  AMWEST  San Francisco   320.0\n",
              "15  AMWEST  San Francisco   129.0\n",
              "16  ALASKA        Seattle  1841.0\n",
              "17  ALASKA        Seattle   305.0\n",
              "18  AMWEST        Seattle   201.0\n",
              "19  AMWEST        Seattle    61.0\n",
              "20  ALASKA  Delay_delayed     0.0\n",
              "21  ALASKA  Delay_delayed     1.0\n",
              "22  AMWEST  Delay_delayed     0.0\n",
              "23  AMWEST  Delay_delayed     1.0\n",
              "24  ALASKA  Delay_on time     1.0\n",
              "25  ALASKA  Delay_on time     0.0\n",
              "26  AMWEST  Delay_on time     1.0\n",
              "27  AMWEST  Delay_on time     0.0"
            ]
          },
          "metadata": {
            "tags": []
          },
          "execution_count": 190
        }
      ]
    },
    {
      "cell_type": "markdown",
      "metadata": {
        "id": "rQRM8E6ibL93"
      },
      "source": [
        "##Question 1.2\n",
        "\n",
        "* For each city, which airline had the best on time performance?\n",
        "* Which airline had the best overall on time performance?"
      ]
    },
    {
      "cell_type": "code",
      "metadata": {
        "colab": {
          "base_uri": "https://localhost:8080/"
        },
        "id": "5CBbqhzyZZif",
        "outputId": "29d5bf8c-c3ae-4800-9a28-4ec2cc9257f0"
      },
      "source": [
        "#identify which columns hold the ontime performance, place it in a new dataframe\n",
        "on_time = bridges[bridges['Delay_on time'] == 1]\n",
        "\n",
        "#reset index\n",
        "on_time = on_time.reset_index(drop=True)\n",
        "\n",
        "#list of cities\n",
        "cities = ['Los Angeles',\t'Phoenix',\t'San Diego',\t'San Francisco',\t'Seattle']\n",
        "\n",
        "#identify which row is lower\n",
        "on_time_performance = {}\n",
        "\n",
        "for k in cities:\n",
        "  if (on_time[k].iloc[0] - on_time[k].iloc[1] > 0):\n",
        "    on_time_performance[k] = 'AMEWEST'\n",
        "  else:\n",
        "    on_time_performance[k] ='ALASKA'\n",
        "\n",
        "print(\"Here we display the best on time performance for each city: \")\n",
        "on_time_performance"
      ],
      "execution_count": 191,
      "outputs": [
        {
          "output_type": "stream",
          "text": [
            "Here we display the best on time performance for each city: \n"
          ],
          "name": "stdout"
        },
        {
          "output_type": "execute_result",
          "data": {
            "text/plain": [
              "{'Los Angeles': 'ALASKA',\n",
              " 'Phoenix': 'ALASKA',\n",
              " 'San Diego': 'ALASKA',\n",
              " 'San Francisco': 'AMEWEST',\n",
              " 'Seattle': 'AMEWEST'}"
            ]
          },
          "metadata": {
            "tags": []
          },
          "execution_count": 191
        }
      ]
    },
    {
      "cell_type": "code",
      "metadata": {
        "colab": {
          "base_uri": "https://localhost:8080/"
        },
        "id": "0ByGx7YFh-bu",
        "outputId": "c01fed63-aea9-4279-a3b7-1f8c96827c82"
      },
      "source": [
        "alaska = 0\n",
        "amwest = 0\n",
        "\n",
        "for k in on_time_performance.values():\n",
        "  if (k == 'ALASKA'):\n",
        "    alaska += 1\n",
        "  else:\n",
        "    amwest += 1\n",
        "\n",
        "print(f\"Here are the scores:\\nALASKA\\t%s\\nAMWEST\\t%s\" %(alaska, amwest))"
      ],
      "execution_count": 192,
      "outputs": [
        {
          "output_type": "stream",
          "text": [
            "Here are the scores:\n",
            "ALASKA\t3\n",
            "AMWEST\t2\n"
          ],
          "name": "stdout"
        }
      ]
    },
    {
      "cell_type": "markdown",
      "metadata": {
        "id": "RnAUiWQtlZKk"
      },
      "source": [
        "## Question 1.3\n",
        "\n",
        "> What, if any, changes you would make to the visual presentation of the data if you were then asked to transform your “long” data back into a “wide”\n",
        "format: would you mimic the structure of the graphic shown above? If not, how might you transform your “long” data to “wide” format to make its “wide” presentation easier to understand and work with? Provide an\n",
        "example of your recommendation.\n",
        "\n",
        "**Answer:** It really depends on what one is looking for.  The beauty of pivot tables in Excel is that exploring this question is just a matter of dragging and dropping. Under the circumstances, having data sourced from what looks like a McGraw Hill text, I will assume they were looking for exactly what they have. However, in the interest of not losing credit, I will make a possible transformation, based on potential other scrutiny and analysis one might explore."
      ]
    },
    {
      "cell_type": "code",
      "metadata": {
        "colab": {
          "base_uri": "https://localhost:8080/",
          "height": 171
        },
        "id": "fEnhyhSMmcJc",
        "outputId": "8edf70ba-2311-4920-c6f9-a591a91a19e3"
      },
      "source": [
        "#our current format\n",
        "bridges_0"
      ],
      "execution_count": 193,
      "outputs": [
        {
          "output_type": "execute_result",
          "data": {
            "text/html": [
              "<div>\n",
              "<style scoped>\n",
              "    .dataframe tbody tr th:only-of-type {\n",
              "        vertical-align: middle;\n",
              "    }\n",
              "\n",
              "    .dataframe tbody tr th {\n",
              "        vertical-align: top;\n",
              "    }\n",
              "\n",
              "    .dataframe thead th {\n",
              "        text-align: right;\n",
              "    }\n",
              "</style>\n",
              "<table border=\"1\" class=\"dataframe\">\n",
              "  <thead>\n",
              "    <tr style=\"text-align: right;\">\n",
              "      <th></th>\n",
              "      <th>Airline</th>\n",
              "      <th>Delay</th>\n",
              "      <th>Los Angeles</th>\n",
              "      <th>Phoenix</th>\n",
              "      <th>San Diego</th>\n",
              "      <th>San Francisco</th>\n",
              "      <th>Seattle</th>\n",
              "    </tr>\n",
              "  </thead>\n",
              "  <tbody>\n",
              "    <tr>\n",
              "      <th>0</th>\n",
              "      <td>ALASKA</td>\n",
              "      <td>on time</td>\n",
              "      <td>497.0</td>\n",
              "      <td>221.0</td>\n",
              "      <td>212.0</td>\n",
              "      <td>503.0</td>\n",
              "      <td>1841.0</td>\n",
              "    </tr>\n",
              "    <tr>\n",
              "      <th>1</th>\n",
              "      <td>ALASKA</td>\n",
              "      <td>delayed</td>\n",
              "      <td>62.0</td>\n",
              "      <td>12.0</td>\n",
              "      <td>20.0</td>\n",
              "      <td>102.0</td>\n",
              "      <td>305.0</td>\n",
              "    </tr>\n",
              "    <tr>\n",
              "      <th>2</th>\n",
              "      <td>AMWEST</td>\n",
              "      <td>on time</td>\n",
              "      <td>694.0</td>\n",
              "      <td>4840.0</td>\n",
              "      <td>383.0</td>\n",
              "      <td>320.0</td>\n",
              "      <td>201.0</td>\n",
              "    </tr>\n",
              "    <tr>\n",
              "      <th>3</th>\n",
              "      <td>AMWEST</td>\n",
              "      <td>delayed</td>\n",
              "      <td>117.0</td>\n",
              "      <td>415.0</td>\n",
              "      <td>65.0</td>\n",
              "      <td>129.0</td>\n",
              "      <td>61.0</td>\n",
              "    </tr>\n",
              "  </tbody>\n",
              "</table>\n",
              "</div>"
            ],
            "text/plain": [
              "  Airline    Delay  Los Angeles  Phoenix  San Diego  San Francisco  Seattle\n",
              "0  ALASKA  on time        497.0    221.0      212.0          503.0   1841.0\n",
              "1  ALASKA  delayed         62.0     12.0       20.0          102.0    305.0\n",
              "2  AMWEST  on time        694.0   4840.0      383.0          320.0    201.0\n",
              "3  AMWEST  delayed        117.0    415.0       65.0          129.0     61.0"
            ]
          },
          "metadata": {
            "tags": []
          },
          "execution_count": 193
        }
      ]
    },
    {
      "cell_type": "code",
      "metadata": {
        "colab": {
          "base_uri": "https://localhost:8080/",
          "height": 263
        },
        "id": "0bjjB8hmmLFD",
        "outputId": "9dc4ac0b-3df1-4b10-82f5-5ec94f3d78ea"
      },
      "source": [
        "#reformat so that the cities are rows and the Delay is next to each other all done by the lower portion displayed Airline\n",
        "pivoted = bridges_0.pivot('Airline',cities,'Delay')\n",
        "pivoted"
      ],
      "execution_count": 194,
      "outputs": [
        {
          "output_type": "execute_result",
          "data": {
            "text/html": [
              "<div>\n",
              "<style scoped>\n",
              "    .dataframe tbody tr th:only-of-type {\n",
              "        vertical-align: middle;\n",
              "    }\n",
              "\n",
              "    .dataframe tbody tr th {\n",
              "        vertical-align: top;\n",
              "    }\n",
              "\n",
              "    .dataframe thead tr th {\n",
              "        text-align: left;\n",
              "    }\n",
              "\n",
              "    .dataframe thead tr:last-of-type th {\n",
              "        text-align: right;\n",
              "    }\n",
              "</style>\n",
              "<table border=\"1\" class=\"dataframe\">\n",
              "  <thead>\n",
              "    <tr>\n",
              "      <th>Los Angeles</th>\n",
              "      <th>497.0</th>\n",
              "      <th>62.0</th>\n",
              "      <th>694.0</th>\n",
              "      <th>117.0</th>\n",
              "    </tr>\n",
              "    <tr>\n",
              "      <th>Phoenix</th>\n",
              "      <th>221.0</th>\n",
              "      <th>12.0</th>\n",
              "      <th>4840.0</th>\n",
              "      <th>415.0</th>\n",
              "    </tr>\n",
              "    <tr>\n",
              "      <th>San Diego</th>\n",
              "      <th>212.0</th>\n",
              "      <th>20.0</th>\n",
              "      <th>383.0</th>\n",
              "      <th>65.0</th>\n",
              "    </tr>\n",
              "    <tr>\n",
              "      <th>San Francisco</th>\n",
              "      <th>503.0</th>\n",
              "      <th>102.0</th>\n",
              "      <th>320.0</th>\n",
              "      <th>129.0</th>\n",
              "    </tr>\n",
              "    <tr>\n",
              "      <th>Seattle</th>\n",
              "      <th>1841.0</th>\n",
              "      <th>305.0</th>\n",
              "      <th>201.0</th>\n",
              "      <th>61.0</th>\n",
              "    </tr>\n",
              "    <tr>\n",
              "      <th>Airline</th>\n",
              "      <th></th>\n",
              "      <th></th>\n",
              "      <th></th>\n",
              "      <th></th>\n",
              "    </tr>\n",
              "  </thead>\n",
              "  <tbody>\n",
              "    <tr>\n",
              "      <th>ALASKA</th>\n",
              "      <td>on time</td>\n",
              "      <td>delayed</td>\n",
              "      <td>NaN</td>\n",
              "      <td>NaN</td>\n",
              "    </tr>\n",
              "    <tr>\n",
              "      <th>AMWEST</th>\n",
              "      <td>NaN</td>\n",
              "      <td>NaN</td>\n",
              "      <td>on time</td>\n",
              "      <td>delayed</td>\n",
              "    </tr>\n",
              "  </tbody>\n",
              "</table>\n",
              "</div>"
            ],
            "text/plain": [
              "Los Angeles      497.0    62.0     694.0    117.0\n",
              "Phoenix         221.0    12.0     4840.0   415.0 \n",
              "San Diego        212.0    20.0     383.0    65.0 \n",
              "San Francisco    503.0    102.0    320.0    129.0\n",
              "Seattle         1841.0   305.0    201.0    61.0  \n",
              "Airline                                          \n",
              "ALASKA         on time  delayed      NaN      NaN\n",
              "AMWEST             NaN      NaN  on time  delayed"
            ]
          },
          "metadata": {
            "tags": []
          },
          "execution_count": 194
        }
      ]
    },
    {
      "cell_type": "markdown",
      "metadata": {
        "id": "Qn-sxxW3nZ6i"
      },
      "source": [
        "#Part 2\n",
        "\n",
        "Solve accompanying problem."
      ]
    },
    {
      "cell_type": "code",
      "metadata": {
        "colab": {
          "base_uri": "https://localhost:8080/",
          "height": 202
        },
        "id": "yQ5k_pOon1c7",
        "outputId": "4e57bd2f-5406-4cd8-de7f-99bcdf4bf8a8"
      },
      "source": [
        "#get data\n",
        "df = pd.read_csv('https://raw.githubusercontent.com/MatthewFried/MAT5001/main/M11/Bridges.csv')\n",
        "df.sample(5)"
      ],
      "execution_count": 195,
      "outputs": [
        {
          "output_type": "execute_result",
          "data": {
            "text/html": [
              "<div>\n",
              "<style scoped>\n",
              "    .dataframe tbody tr th:only-of-type {\n",
              "        vertical-align: middle;\n",
              "    }\n",
              "\n",
              "    .dataframe tbody tr th {\n",
              "        vertical-align: top;\n",
              "    }\n",
              "\n",
              "    .dataframe thead th {\n",
              "        text-align: right;\n",
              "    }\n",
              "</style>\n",
              "<table border=\"1\" class=\"dataframe\">\n",
              "  <thead>\n",
              "    <tr style=\"text-align: right;\">\n",
              "      <th></th>\n",
              "      <th>Identifier</th>\n",
              "      <th>River</th>\n",
              "      <th>Location</th>\n",
              "      <th>Erected</th>\n",
              "      <th>Purpose</th>\n",
              "      <th>Length</th>\n",
              "      <th>Lanes</th>\n",
              "      <th>Clear</th>\n",
              "      <th>Through_or_Deck</th>\n",
              "      <th>Material</th>\n",
              "      <th>Span</th>\n",
              "      <th>Rel</th>\n",
              "      <th>Type</th>\n",
              "    </tr>\n",
              "  </thead>\n",
              "  <tbody>\n",
              "    <tr>\n",
              "      <th>104</th>\n",
              "      <td>E91</td>\n",
              "      <td>O</td>\n",
              "      <td>44</td>\n",
              "      <td>1975</td>\n",
              "      <td>HIGHWAY</td>\n",
              "      <td>3756</td>\n",
              "      <td>6</td>\n",
              "      <td>G</td>\n",
              "      <td>THROUGH</td>\n",
              "      <td>STEEL</td>\n",
              "      <td>LONG</td>\n",
              "      <td>F</td>\n",
              "      <td>ARCH</td>\n",
              "    </tr>\n",
              "    <tr>\n",
              "      <th>50</th>\n",
              "      <td>E49</td>\n",
              "      <td>A</td>\n",
              "      <td>34</td>\n",
              "      <td>1902</td>\n",
              "      <td>HIGHWAY</td>\n",
              "      <td>1850</td>\n",
              "      <td>2</td>\n",
              "      <td>G</td>\n",
              "      <td>THROUGH</td>\n",
              "      <td>STEEL</td>\n",
              "      <td>MEDIUM</td>\n",
              "      <td>F</td>\n",
              "      <td>CANTILEV</td>\n",
              "    </tr>\n",
              "    <tr>\n",
              "      <th>41</th>\n",
              "      <td>E42</td>\n",
              "      <td>M</td>\n",
              "      <td>9</td>\n",
              "      <td>1895</td>\n",
              "      <td>HIGHWAY</td>\n",
              "      <td>2367</td>\n",
              "      <td>2</td>\n",
              "      <td>G</td>\n",
              "      <td>THROUGH</td>\n",
              "      <td>STEEL</td>\n",
              "      <td>LONG</td>\n",
              "      <td>F</td>\n",
              "      <td>SIMPLE-T</td>\n",
              "    </tr>\n",
              "    <tr>\n",
              "      <th>4</th>\n",
              "      <td>E6</td>\n",
              "      <td>M</td>\n",
              "      <td>23</td>\n",
              "      <td>1838</td>\n",
              "      <td>HIGHWAY</td>\n",
              "      <td>?</td>\n",
              "      <td>2</td>\n",
              "      <td>N</td>\n",
              "      <td>THROUGH</td>\n",
              "      <td>WOOD</td>\n",
              "      <td>?</td>\n",
              "      <td>S</td>\n",
              "      <td>WOOD</td>\n",
              "    </tr>\n",
              "    <tr>\n",
              "      <th>84</th>\n",
              "      <td>E76</td>\n",
              "      <td>M</td>\n",
              "      <td>6</td>\n",
              "      <td>1931</td>\n",
              "      <td>HIGHWAY</td>\n",
              "      <td>1500</td>\n",
              "      <td>4</td>\n",
              "      <td>G</td>\n",
              "      <td>THROUGH</td>\n",
              "      <td>STEEL</td>\n",
              "      <td>LONG</td>\n",
              "      <td>F</td>\n",
              "      <td>SUSPEN</td>\n",
              "    </tr>\n",
              "  </tbody>\n",
              "</table>\n",
              "</div>"
            ],
            "text/plain": [
              "    Identifier River Location  Erected  ... Material    Span Rel      Type\n",
              "104        E91     O       44     1975  ...    STEEL    LONG   F      ARCH\n",
              "50         E49     A       34     1902  ...    STEEL  MEDIUM   F  CANTILEV\n",
              "41         E42     M        9     1895  ...    STEEL    LONG   F  SIMPLE-T\n",
              "4           E6     M       23     1838  ...     WOOD       ?   S      WOOD\n",
              "84         E76     M        6     1931  ...    STEEL    LONG   F    SUSPEN\n",
              "\n",
              "[5 rows x 13 columns]"
            ]
          },
          "metadata": {
            "tags": []
          },
          "execution_count": 195
        }
      ]
    },
    {
      "cell_type": "markdown",
      "metadata": {
        "id": "J3vfPP5Atkm_"
      },
      "source": [
        "###Task 2.1\n",
        "\n",
        "For each river, your output should include the Purpose, Material, and count (aka ‘How Many?’), similar to the output shown in the graphic below for River 'A', and your report should include similar content for each of the rivers contained within the data set."
      ]
    },
    {
      "cell_type": "code",
      "metadata": {
        "colab": {
          "base_uri": "https://localhost:8080/"
        },
        "id": "CnoXsPmfquQ_",
        "outputId": "c1ba3f88-bdea-4bf9-e2bf-04e2704c3c6a"
      },
      "source": [
        "#not sure if giving it a name \"How Many?\" is necessary or not, so putting in as a print\n",
        "#output in one line by using groupby with three keys and finding the count of any of the columns\n",
        "print(\"\\t\\t\\tHow many?\\n\", df['Identifier'].groupby([df['River'], df['Purpose'],df['Material']]).count())"
      ],
      "execution_count": 196,
      "outputs": [
        {
          "output_type": "stream",
          "text": [
            "\t\t\tHow many?\n",
            " River  Purpose   Material\n",
            "A      AQUEDUCT  IRON         1\n",
            "                 WOOD         3\n",
            "       HIGHWAY   ?            1\n",
            "                 IRON         2\n",
            "                 STEEL       21\n",
            "                 WOOD         8\n",
            "       RR        IRON         1\n",
            "                 STEEL        9\n",
            "                 WOOD         2\n",
            "       WALK      STEEL        1\n",
            "M      HIGHWAY   IRON         4\n",
            "                 STEEL       19\n",
            "                 WOOD         3\n",
            "       RR        IRON         2\n",
            "                 STEEL       13\n",
            "O      HIGHWAY   ?            1\n",
            "                 IRON         1\n",
            "                 STEEL        9\n",
            "       RR        STEEL        4\n",
            "Y      HIGHWAY   STEEL        2\n",
            "       RR        STEEL        1\n",
            "Name: Identifier, dtype: int64\n"
          ],
          "name": "stdout"
        }
      ]
    },
    {
      "cell_type": "markdown",
      "metadata": {
        "id": "H-x-GCJRtw8z"
      },
      "source": [
        "###Task 2.2\n",
        "\n",
        "Generate a second report that shows the average length for each ‘Purpose’/’Material’ bridge grouping within the data set. Recall that the ‘Length’ attribute is not provided to us in a numeric format and also contains\n",
        "many missing values. Clean up the contents of that column and convert it to numeric format before attempting to generate your report"
      ]
    },
    {
      "cell_type": "code",
      "metadata": {
        "colab": {
          "base_uri": "https://localhost:8080/"
        },
        "id": "xJ6PsCrytSuI",
        "outputId": "0d9ed469-06c0-4ead-ae6b-973830f9fb02"
      },
      "source": [
        "#we first confirm that the Length column is an object\n",
        "df.info()"
      ],
      "execution_count": 197,
      "outputs": [
        {
          "output_type": "stream",
          "text": [
            "<class 'pandas.core.frame.DataFrame'>\n",
            "RangeIndex: 108 entries, 0 to 107\n",
            "Data columns (total 13 columns):\n",
            " #   Column           Non-Null Count  Dtype \n",
            "---  ------           --------------  ----- \n",
            " 0   Identifier       108 non-null    object\n",
            " 1   River            108 non-null    object\n",
            " 2   Location         108 non-null    object\n",
            " 3   Erected          108 non-null    int64 \n",
            " 4   Purpose          108 non-null    object\n",
            " 5   Length           108 non-null    object\n",
            " 6   Lanes            108 non-null    object\n",
            " 7   Clear            108 non-null    object\n",
            " 8   Through_or_Deck  108 non-null    object\n",
            " 9   Material         108 non-null    object\n",
            " 10  Span             108 non-null    object\n",
            " 11  Rel              108 non-null    object\n",
            " 12  Type             108 non-null    object\n",
            "dtypes: int64(1), object(12)\n",
            "memory usage: 11.1+ KB\n"
          ],
          "name": "stdout"
        }
      ]
    },
    {
      "cell_type": "code",
      "metadata": {
        "id": "KVy1l7RVuOHz"
      },
      "source": [
        "#we replace question marks with NaNs\n",
        "df['Length'] = df['Length'].apply(lambda x: np.nan if x == '?' else x) \n",
        "\n",
        "#convert to numbers\n",
        "df[\"Length\"] = pd.to_numeric(df[\"Length\"])"
      ],
      "execution_count": 198,
      "outputs": []
    },
    {
      "cell_type": "code",
      "metadata": {
        "colab": {
          "base_uri": "https://localhost:8080/"
        },
        "id": "OVd9sjfAunyX",
        "outputId": "a587de63-3119-44a3-d100-e91bf4253337"
      },
      "source": [
        "#we implement the same procedure as above, but only use two keys\n",
        "print(\"\\t\\t\\tAverage Length\\n\", df['Length'].groupby([df['Purpose'], df['Material']]).mean())"
      ],
      "execution_count": 199,
      "outputs": [
        {
          "output_type": "stream",
          "text": [
            "\t\t\tAverage Length\n",
            " Purpose   Material\n",
            "AQUEDUCT  IRON        1000.000000\n",
            "          WOOD        1092.000000\n",
            "HIGHWAY   ?                   NaN\n",
            "          IRON        1216.666667\n",
            "          STEEL       1557.804348\n",
            "          WOOD        1053.375000\n",
            "RR        IRON        1100.000000\n",
            "          STEEL       1946.850000\n",
            "          WOOD                NaN\n",
            "WALK      STEEL               NaN\n",
            "Name: Length, dtype: float64\n"
          ],
          "name": "stdout"
        }
      ]
    },
    {
      "cell_type": "markdown",
      "metadata": {
        "id": "Pf3oRJfhyM63"
      },
      "source": [
        "###Part 2.3\n",
        "\n",
        "Break the data up into the suggested chart."
      ]
    },
    {
      "cell_type": "code",
      "metadata": {
        "colab": {
          "base_uri": "https://localhost:8080/",
          "height": 202
        },
        "id": "96ogbY-pxvB_",
        "outputId": "c261c524-3d63-4af0-947a-419509d57b13"
      },
      "source": [
        "# define a function that specifies the aggregating functions we want to apply\n",
        "# to the Length contained within each of our data1 quartile cuts which we make below\n",
        "# Note the use of a dict object\n",
        "def get_stats(group):\n",
        "    return {'Average Length': group.mean(), 'Count': group.count(), 'Max Length': group.max(), 'Min Length': group.min()}\n",
        "\n",
        "# group the Length column's values relative to the quartile cuts after making said quartile cuts\n",
        "quartiles = pd.cut(df.Erected, 4)\n",
        "grouped = df['Length'].groupby(pd.cut(df.Erected, 4))\n",
        "\n",
        "# apply the get_stats function to the grouped values\n",
        "# In the results we see the quartile cuts are used as the row index labels\n",
        "grouped.apply(get_stats).unstack()"
      ],
      "execution_count": 200,
      "outputs": [
        {
          "output_type": "execute_result",
          "data": {
            "text/html": [
              "<div>\n",
              "<style scoped>\n",
              "    .dataframe tbody tr th:only-of-type {\n",
              "        vertical-align: middle;\n",
              "    }\n",
              "\n",
              "    .dataframe tbody tr th {\n",
              "        vertical-align: top;\n",
              "    }\n",
              "\n",
              "    .dataframe thead th {\n",
              "        text-align: right;\n",
              "    }\n",
              "</style>\n",
              "<table border=\"1\" class=\"dataframe\">\n",
              "  <thead>\n",
              "    <tr style=\"text-align: right;\">\n",
              "      <th></th>\n",
              "      <th>Average Length</th>\n",
              "      <th>Count</th>\n",
              "      <th>Max Length</th>\n",
              "      <th>Min Length</th>\n",
              "    </tr>\n",
              "    <tr>\n",
              "      <th>Erected</th>\n",
              "      <th></th>\n",
              "      <th></th>\n",
              "      <th></th>\n",
              "      <th></th>\n",
              "    </tr>\n",
              "  </thead>\n",
              "  <tbody>\n",
              "    <tr>\n",
              "      <th>(1817.832, 1860.0]</th>\n",
              "      <td>1094.625000</td>\n",
              "      <td>8.0</td>\n",
              "      <td>1500.0</td>\n",
              "      <td>990.0</td>\n",
              "    </tr>\n",
              "    <tr>\n",
              "      <th>(1860.0, 1902.0]</th>\n",
              "      <td>1603.347826</td>\n",
              "      <td>23.0</td>\n",
              "      <td>4558.0</td>\n",
              "      <td>1000.0</td>\n",
              "    </tr>\n",
              "    <tr>\n",
              "      <th>(1902.0, 1944.0]</th>\n",
              "      <td>1676.181818</td>\n",
              "      <td>33.0</td>\n",
              "      <td>3000.0</td>\n",
              "      <td>860.0</td>\n",
              "    </tr>\n",
              "    <tr>\n",
              "      <th>(1944.0, 1986.0]</th>\n",
              "      <td>1530.411765</td>\n",
              "      <td>17.0</td>\n",
              "      <td>3756.0</td>\n",
              "      <td>804.0</td>\n",
              "    </tr>\n",
              "  </tbody>\n",
              "</table>\n",
              "</div>"
            ],
            "text/plain": [
              "                    Average Length  Count  Max Length  Min Length\n",
              "Erected                                                          \n",
              "(1817.832, 1860.0]     1094.625000    8.0      1500.0       990.0\n",
              "(1860.0, 1902.0]       1603.347826   23.0      4558.0      1000.0\n",
              "(1902.0, 1944.0]       1676.181818   33.0      3000.0       860.0\n",
              "(1944.0, 1986.0]       1530.411765   17.0      3756.0       804.0"
            ]
          },
          "metadata": {
            "tags": []
          },
          "execution_count": 200
        }
      ]
    },
    {
      "cell_type": "markdown",
      "metadata": {
        "id": "4sAHyOdcy1Do"
      },
      "source": [
        "Commentary: Super impressive! But I can't say I ever would have figured this out with directly following class notes."
      ]
    }
  ]
}