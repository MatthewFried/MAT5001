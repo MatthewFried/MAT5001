{
  "nbformat": 4,
  "nbformat_minor": 0,
  "metadata": {
    "colab": {
      "name": "M_Fried_FinalProjectProposal.ipynb",
      "provenance": []
    },
    "kernelspec": {
      "name": "python3",
      "display_name": "Python 3"
    },
    "language_info": {
      "name": "python"
    }
  },
  "cells": [
    {
      "cell_type": "markdown",
      "metadata": {
        "id": "QYV72V9-nPAk"
      },
      "source": [
        "# Final Project Proposal\n",
        "\n",
        "<br>\n",
        "</br>\n",
        "\n",
        "##Introduction\n",
        "\n",
        "Weather forecasting is the application of science and technology to predict the atmosphere's conditions for a given location and time. There are a variety of different vital factors beyond just temperature. This includes barometric pressure, current weather conditions, sky condition or cloud cover, atmospheric pressure, pressure tendency, relative humidity, mean wind direction, maximum gust value, dew point, and many more.\n",
        "\n",
        "Weather forecasting heavily relies on computer computation with minimal human input. Although pattern recognition skills and knowledge of model biases require human information, the bulk of the work is done by machines nowadays. There is also inherent inaccuracy due to chaos that even the massive computational power required cannot fully distill. As forecasts become further out, that immeasurable chaos creates less accuracy. However, ensemble and consensus models can still help to mitigate said inaccuracies.\n",
        "\n",
        "Weather warnings are essential to protect life and property. As such, this is an important topic to study. Forecasts also assist in agriculture, relating to precipitation and more.\n",
        "\n",
        "In 2009 the US spent approximately $5.1 billion on weather forecasting. As such, the interest in its study seems clear."
      ]
    },
    {
      "cell_type": "markdown",
      "metadata": {
        "id": "ieYitrO2qFXj"
      },
      "source": [
        "## Research Question and Data\n",
        "\n",
        "We will attempt to predict the significant factors that influence the weather, such as temperature, pressure, and precipitation. Our question is: can we reasonably expect those factors?\n",
        "\n",
        "We will use our knowledge of data science (via Python) to download the data and analyze all the variables, searching for which variables influence others the most. This could be used to assist people in planning vacations, sports, and other outdoor activities.\n",
        "\n",
        "This could also be used to help farmers and other agricultural fields in optimizing their output.\n",
        "\n",
        "We will use data from several sources downloading CSV files and using web APIs from:\n",
        "* visual crossing weather (https://www.visualcrossing.com/weather-data). We will download data using the web api provided on the website and we will download data via CSV.\n",
        "* open weather map (https://openweathermap.org/api) We will download data via the API.\n",
        "* and world weather online (https://www.worldweatheronline.com/developer/), which again, is downloadable via the API.\n",
        "\n",
        "We will download the data, put it into a NoSQL database (MongoDB), and analyze the data in Colab (using Python)."
      ]
    },
    {
      "cell_type": "markdown",
      "metadata": {
        "id": "3Tc6dhV-tNZd"
      },
      "source": [
        "### Approach\n",
        "\n",
        "We will store the data in a database (as mentioned above - MongoDB).  We plan to do an entire EDA (exploratory data analysis) that includes searching for relationships among variables, testing for multi-collinearity, independence, showing charts, doing regressions, and much more.\n",
        "\n",
        "Our primary goal is to create regressions, run nearest-neighbor models, and fully bring to light a procedure that sifts out the noise from the information in weather data, allowing us to find, at the least, general trends and extrapolations that can be used for prediction.\n",
        "\n",
        "(Here the I in team is ME, so I will be doing it alone.)"
      ]
    }
  ]
}