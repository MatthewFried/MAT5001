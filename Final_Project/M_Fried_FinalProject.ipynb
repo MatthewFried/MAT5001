{
  "nbformat": 4,
  "nbformat_minor": 0,
  "metadata": {
    "colab": {
      "name": "M_Fried_FinalProject.ipynb",
      "provenance": []
    },
    "kernelspec": {
      "name": "python3",
      "display_name": "Python 3"
    },
    "language_info": {
      "name": "python"
    }
  },
  "cells": [
    {
      "cell_type": "markdown",
      "metadata": {
        "id": "oQygR5hm7shI"
      },
      "source": [
        "# Final Project - Weather Forecasting\n",
        "\n"
      ]
    },
    {
      "cell_type": "markdown",
      "metadata": {
        "id": "jloZbbvASl8o"
      },
      "source": [
        "## Abstract\n",
        "\n",
        "We will use two different data sets to identify significant factors that contribute to temperature.  We will upload the data, clean it, verify the format, perform an EDA, prepare the data further, and then do two different analyses. The first data set will use linear regression, while the second data set will use a tree regressor.  Our outcome is that predicting a month's temperature (the API data) is easy and reasonable, while predicting the temperature on a longer time frame (the CSV data of 20 years) is much less so."
      ]
    },
    {
      "cell_type": "markdown",
      "metadata": {
        "id": "75tEDQI3M2Rm"
      },
      "source": [
        "## Introduction\n",
        "\n",
        "Weather forecasting is the application of science and technology to predict the atmosphere's conditions for a given location and time. There are a variety of different vital factors beyond just temperature. This includes barometric pressure, current weather conditions, sky condition or cloud cover, atmospheric pressure, pressure tendency, relative humidity, mean wind direction, maximum gust value, dew point, and many more.\n",
        "\n",
        "The weather of a region has a considerable impact on an ecosystem's water, sunlight, and temperature.  It influences plant life and wildlife and can have dangerous consequences related to storms and natural disasters.\n",
        "\n",
        "Variations in long-term weather patterns are the key determinant in an ecosystem.  It influences every factor for the population therein.  Weather also controls the distribution of rain on the earth, a necessary prerequisite for survival.\n",
        "\n",
        "Weather forecasting heavily relies on computer computation with minimal human input.  Moreover, as such, this is an important topic to explore via Python.\n",
        "\n",
        "### Research Question\n",
        "We want to figure out factors that influence the temperature.\n",
        "\n",
        "This could assist in event planning, which is heavily reliant on the weather.  This could also assist in business decisions, such as costs related to heat and air-conditioning.  Also, we could use this to predict weather changes in environmental protection planning.\n",
        "\n",
        "### Data to be Used\n",
        "\n",
        "We have two datasets.  Firstly, we have the WorldWeatherOnline.com API data, which we use as a wrapper to import information into Colab directly.  And secondly, we use data via OpenWeatherMap.org from Jan 1, 2003 until April 29, 2021 downloaded via CSV.  Since each dataset covers a different range and has different attributes, we take advantage of the datasets to make two attempts at predicting temperature. \n",
        "\n",
        "We will import the data sets (one via CSV the other via API) and then use MongoDB to test the structure of our data, use statistical analysis and graphics to describe and validate our data, use reshaping operations such as converting columns to data format, include data-appropriate data preparation and feature engineering, group and aggregate the data, use graphics, and come to a conclusion about predicting weather based on rigorous analysis and meaningful metrics."
      ]
    },
    {
      "cell_type": "markdown",
      "metadata": {
        "id": "Cb1dJkHNSL53"
      },
      "source": [
        "## Research Approach\n",
        "\n",
        "\n",
        "We took two data sets, one for a month and the other for about 18 years.  We used all the tools we have learned to analyze them.  We started by uploading the data, as explained below, then we did a full EDA, looking at box plots, histograms, correlations, and more.  We used grouping and pivot tables to search for further insights into the data, and verify the integrity of the data as well.  \n",
        "\n",
        "We used several feature engineering techniques such as RFE, backward selection, and more, and then found the most relevant aspects of our data.  We then proceeded to do a linear regression, showing that our monthly data is quite predictable.\n",
        "\n",
        "On the longer term data, the EDA was similar, but we use a RandomForestTreeRegressor to test the data."
      ]
    },
    {
      "cell_type": "markdown",
      "metadata": {
        "id": "IMqGhmQ6WI2s"
      },
      "source": [
        "# EDA"
      ]
    },
    {
      "cell_type": "markdown",
      "metadata": {
        "id": "JHhT0llBQwN7"
      },
      "source": [
        "### API Data\n",
        "\n",
        "We gather our information from **WorldWeatherOnline.com**.  We use the API with a wrapper to gather the information.  Initiallly, we tried to gather our information without the warpper, i.e. directly from the API, however, we ran into several stumbling blocks related to converting said data into a dataframe.  The API adds comments and has a nested form, thus, rather than struggle with it, we employed one of several free wrappers to download the data.  The wrapper was found at this [link](https://medium.com/@David.W1/worldweatherpy-a-python-package-for-weather-data-extraction-b710d8244854).\n",
        "\n",
        "\n",
        "Our initial, failed attempt at accessing the API directly looked something like the below.\n",
        "\n",
        "```\n",
        "r = requests.get(\"http://api.worldweatheronline.com/premium/v1/weather.ashx?key=fb0ad708586b47e895b23242210205&q=40.70,-73.65&num_of_days=2&date=2021-04-28&cc=no&fx=no&show_comments=no&format=json\")\n",
        "x = r.json()\n",
        "\n",
        "def jprint(obj):\n",
        "    # create a formatted string of the Python JSON object\n",
        "    text = json.dumps(obj, sort_keys=True, indent=4)\n",
        "    print(text)\n",
        "\n",
        "jprint(x)\n",
        "```"
      ]
    },
    {
      "cell_type": "code",
      "metadata": {
        "id": "-KBhMRtdWfhu",
        "colab": {
          "base_uri": "https://localhost:8080/"
        },
        "outputId": "db589989-9c54-40ee-f533-a3d5572bdcc0"
      },
      "source": [
        "!pip install WorldWeatherPy"
      ],
      "execution_count": 116,
      "outputs": [
        {
          "output_type": "stream",
          "text": [
            "Requirement already satisfied: WorldWeatherPy in /usr/local/lib/python3.7/dist-packages (0.0.3)\n",
            "Requirement already satisfied: pandas in /usr/local/lib/python3.7/dist-packages (from WorldWeatherPy) (1.1.5)\n",
            "Requirement already satisfied: requests in /usr/local/lib/python3.7/dist-packages (from WorldWeatherPy) (2.23.0)\n",
            "Requirement already satisfied: numpy>=1.15.4 in /usr/local/lib/python3.7/dist-packages (from pandas->WorldWeatherPy) (1.19.5)\n",
            "Requirement already satisfied: python-dateutil>=2.7.3 in /usr/local/lib/python3.7/dist-packages (from pandas->WorldWeatherPy) (2.8.1)\n",
            "Requirement already satisfied: pytz>=2017.2 in /usr/local/lib/python3.7/dist-packages (from pandas->WorldWeatherPy) (2018.9)\n",
            "Requirement already satisfied: idna<3,>=2.5 in /usr/local/lib/python3.7/dist-packages (from requests->WorldWeatherPy) (2.10)\n",
            "Requirement already satisfied: chardet<4,>=3.0.2 in /usr/local/lib/python3.7/dist-packages (from requests->WorldWeatherPy) (3.0.4)\n",
            "Requirement already satisfied: certifi>=2017.4.17 in /usr/local/lib/python3.7/dist-packages (from requests->WorldWeatherPy) (2020.12.5)\n",
            "Requirement already satisfied: urllib3!=1.25.0,!=1.25.1,<1.26,>=1.21.1 in /usr/local/lib/python3.7/dist-packages (from requests->WorldWeatherPy) (1.24.3)\n",
            "Requirement already satisfied: six>=1.5 in /usr/local/lib/python3.7/dist-packages (from python-dateutil>=2.7.3->pandas->WorldWeatherPy) (1.15.0)\n"
          ],
          "name": "stdout"
        }
      ]
    },
    {
      "cell_type": "code",
      "metadata": {
        "id": "44rdq5ym7_Sg"
      },
      "source": [
        "import numpy as np\n",
        "import pandas as pd\n",
        "import requests\n",
        "import json\n",
        "import io\n",
        "from WorldWeatherPy import DetermineListOfAttributes\n",
        "from WorldWeatherPy import HistoricalLocationWeather\n",
        "from WorldWeatherPy import RetrieveByAttribute\n",
        "import pymongo\n",
        "import sys\n",
        "import os"
      ],
      "execution_count": 117,
      "outputs": []
    },
    {
      "cell_type": "markdown",
      "metadata": {
        "id": "6YBhRZEbWN--"
      },
      "source": [
        "Above we import all necessary libraries, while below we set up the API (including the key) to be used to read the data."
      ]
    },
    {
      "cell_type": "code",
      "metadata": {
        "colab": {
          "base_uri": "https://localhost:8080/"
        },
        "id": "nXSwQmXFQFKC",
        "outputId": "dcff71dd-ea97-4637-c5ee-1a36bd58e5a8"
      },
      "source": [
        "frequency=1\n",
        "start_date = '2021-04-1'\n",
        "end_date = '2021-04-29'\n",
        "api_key = 'fb0ad708586b47e895b23242210205'\n",
        "location_list = '40.70,-73.65'\n",
        "city = 'west+hempstead,ny'\n",
        "\n",
        "dataset = HistoricalLocationWeather(api_key, city, start_date, end_date, frequency).retrieve_hist_data()\n",
        "dataset.shape"
      ],
      "execution_count": 118,
      "outputs": [
        {
          "output_type": "stream",
          "text": [
            "\n",
            "\n",
            "Retrieving weather data for west+hempstead,ny\n",
            "\n",
            "\n",
            "Retrieving data for west+hempstead,ny from: 2021-04-01 to: 2021-04-29\n",
            "Time elapsed (hh:mm:ss.ms) 0:00:02.137004\n"
          ],
          "name": "stdout"
        },
        {
          "output_type": "execute_result",
          "data": {
            "text/plain": [
              "(696, 24)"
            ]
          },
          "metadata": {
            "tags": []
          },
          "execution_count": 118
        }
      ]
    },
    {
      "cell_type": "markdown",
      "metadata": {
        "id": "Fe2Sv9lhWY-U"
      },
      "source": [
        "The API has returned the below columns.  Although most of the columns should be straightforward, we still summarize some of the relevant ideas via [this website](https://www.online-sciences.com/earth-and-motion/the-weather-factors-and-the-importance-of-the-weather-prediction/).  We also refer the reader to an excellent article on [National Geographic](https://www.nationalgeographic.org/encyclopedia/weather/) which is far beyond the scope of this project.\n",
        "\n",
        "<br>\n",
        "</br>\n",
        "\n",
        "**The temperature** can be measured by the mercuric thermometer and the digital thermometer, There is a maximum temperature which is the temperature expected during the daytime and there is a minimum temperature which is the temperature expected at night. \n",
        "\n",
        "**The atmospheric pressure**: There are regions which have high atmospheric pressure and there are others that have low atmospheric pressure, You can measure the atmospheric pressure by the barometer.  \n",
        "\n",
        "**The wind**: The wind is the movement of the air from the regions of the high atmospheric pressure to the regions of the low atmospheric pressure. \n",
        "\n",
        "The rise of the sea waves is caused by wind speed. The wind direction is determined by the wind vane, and the wind speed is measured by the anemometer.\n",
        "\n",
        "**The clouds and the rain**: When you look at the sky, you notice that the clouds increase in the coastal regions, and the sky is clear in the desert regions.\n",
        "\n",
        "The clouds are formed when the water in the seas, the lakes and the oceans evaporate by the effect of the sun rays to form the water vapour. which rises in the sky, then it cooled and condensed to form the clouds. \n",
        "\n",
        "The rain is formed when the clouds move by the effect of the winds, and the volume of the water drops in the clouds increases, then the air can not carry them, So the rains fall."
      ]
    },
    {
      "cell_type": "code",
      "metadata": {
        "colab": {
          "base_uri": "https://localhost:8080/",
          "height": 413
        },
        "id": "ztEvRTY8QjfU",
        "outputId": "29466a0c-bc71-4774-eca7-1152d3b70538"
      },
      "source": [
        "dataset.head()"
      ],
      "execution_count": 119,
      "outputs": [
        {
          "output_type": "execute_result",
          "data": {
            "text/html": [
              "<div>\n",
              "<style scoped>\n",
              "    .dataframe tbody tr th:only-of-type {\n",
              "        vertical-align: middle;\n",
              "    }\n",
              "\n",
              "    .dataframe tbody tr th {\n",
              "        vertical-align: top;\n",
              "    }\n",
              "\n",
              "    .dataframe thead th {\n",
              "        text-align: right;\n",
              "    }\n",
              "</style>\n",
              "<table border=\"1\" class=\"dataframe\">\n",
              "  <thead>\n",
              "    <tr style=\"text-align: right;\">\n",
              "      <th></th>\n",
              "      <th>maxtempC</th>\n",
              "      <th>mintempC</th>\n",
              "      <th>totalSnow_cm</th>\n",
              "      <th>sunHour</th>\n",
              "      <th>uvIndex</th>\n",
              "      <th>moon_illumination</th>\n",
              "      <th>moonrise</th>\n",
              "      <th>moonset</th>\n",
              "      <th>sunrise</th>\n",
              "      <th>sunset</th>\n",
              "      <th>DewPointC</th>\n",
              "      <th>FeelsLikeC</th>\n",
              "      <th>HeatIndexC</th>\n",
              "      <th>WindChillC</th>\n",
              "      <th>WindGustKmph</th>\n",
              "      <th>cloudcover</th>\n",
              "      <th>humidity</th>\n",
              "      <th>precipMM</th>\n",
              "      <th>pressure</th>\n",
              "      <th>tempC</th>\n",
              "      <th>visibility</th>\n",
              "      <th>winddirDegree</th>\n",
              "      <th>windspeedKmph</th>\n",
              "      <th>city</th>\n",
              "    </tr>\n",
              "    <tr>\n",
              "      <th>date_time</th>\n",
              "      <th></th>\n",
              "      <th></th>\n",
              "      <th></th>\n",
              "      <th></th>\n",
              "      <th></th>\n",
              "      <th></th>\n",
              "      <th></th>\n",
              "      <th></th>\n",
              "      <th></th>\n",
              "      <th></th>\n",
              "      <th></th>\n",
              "      <th></th>\n",
              "      <th></th>\n",
              "      <th></th>\n",
              "      <th></th>\n",
              "      <th></th>\n",
              "      <th></th>\n",
              "      <th></th>\n",
              "      <th></th>\n",
              "      <th></th>\n",
              "      <th></th>\n",
              "      <th></th>\n",
              "      <th></th>\n",
              "      <th></th>\n",
              "    </tr>\n",
              "  </thead>\n",
              "  <tbody>\n",
              "    <tr>\n",
              "      <th>2021-04-01 00:00:00</th>\n",
              "      <td>10</td>\n",
              "      <td>5</td>\n",
              "      <td>0.0</td>\n",
              "      <td>6.4</td>\n",
              "      <td>2</td>\n",
              "      <td>63</td>\n",
              "      <td>No moonrise</td>\n",
              "      <td>09:09 AM</td>\n",
              "      <td>06:38 AM</td>\n",
              "      <td>07:20 PM</td>\n",
              "      <td>11</td>\n",
              "      <td>8</td>\n",
              "      <td>10</td>\n",
              "      <td>8</td>\n",
              "      <td>19</td>\n",
              "      <td>100</td>\n",
              "      <td>98</td>\n",
              "      <td>1.4</td>\n",
              "      <td>1010</td>\n",
              "      <td>8</td>\n",
              "      <td>5</td>\n",
              "      <td>174</td>\n",
              "      <td>11</td>\n",
              "      <td>west+hempstead,ny</td>\n",
              "    </tr>\n",
              "    <tr>\n",
              "      <th>2021-04-01 01:00:00</th>\n",
              "      <td>10</td>\n",
              "      <td>5</td>\n",
              "      <td>0.0</td>\n",
              "      <td>6.4</td>\n",
              "      <td>2</td>\n",
              "      <td>63</td>\n",
              "      <td>No moonrise</td>\n",
              "      <td>09:09 AM</td>\n",
              "      <td>06:38 AM</td>\n",
              "      <td>07:20 PM</td>\n",
              "      <td>11</td>\n",
              "      <td>9</td>\n",
              "      <td>10</td>\n",
              "      <td>9</td>\n",
              "      <td>18</td>\n",
              "      <td>100</td>\n",
              "      <td>98</td>\n",
              "      <td>0.7</td>\n",
              "      <td>1008</td>\n",
              "      <td>9</td>\n",
              "      <td>3</td>\n",
              "      <td>189</td>\n",
              "      <td>10</td>\n",
              "      <td>west+hempstead,ny</td>\n",
              "    </tr>\n",
              "    <tr>\n",
              "      <th>2021-04-01 02:00:00</th>\n",
              "      <td>10</td>\n",
              "      <td>5</td>\n",
              "      <td>0.0</td>\n",
              "      <td>6.4</td>\n",
              "      <td>2</td>\n",
              "      <td>63</td>\n",
              "      <td>No moonrise</td>\n",
              "      <td>09:09 AM</td>\n",
              "      <td>06:38 AM</td>\n",
              "      <td>07:20 PM</td>\n",
              "      <td>11</td>\n",
              "      <td>9</td>\n",
              "      <td>11</td>\n",
              "      <td>9</td>\n",
              "      <td>17</td>\n",
              "      <td>100</td>\n",
              "      <td>98</td>\n",
              "      <td>0.0</td>\n",
              "      <td>1007</td>\n",
              "      <td>10</td>\n",
              "      <td>2</td>\n",
              "      <td>203</td>\n",
              "      <td>10</td>\n",
              "      <td>west+hempstead,ny</td>\n",
              "    </tr>\n",
              "    <tr>\n",
              "      <th>2021-04-01 03:00:00</th>\n",
              "      <td>10</td>\n",
              "      <td>5</td>\n",
              "      <td>0.0</td>\n",
              "      <td>6.4</td>\n",
              "      <td>2</td>\n",
              "      <td>63</td>\n",
              "      <td>No moonrise</td>\n",
              "      <td>09:09 AM</td>\n",
              "      <td>06:38 AM</td>\n",
              "      <td>07:20 PM</td>\n",
              "      <td>11</td>\n",
              "      <td>10</td>\n",
              "      <td>11</td>\n",
              "      <td>10</td>\n",
              "      <td>17</td>\n",
              "      <td>100</td>\n",
              "      <td>97</td>\n",
              "      <td>0.0</td>\n",
              "      <td>1006</td>\n",
              "      <td>11</td>\n",
              "      <td>1</td>\n",
              "      <td>218</td>\n",
              "      <td>10</td>\n",
              "      <td>west+hempstead,ny</td>\n",
              "    </tr>\n",
              "    <tr>\n",
              "      <th>2021-04-01 04:00:00</th>\n",
              "      <td>10</td>\n",
              "      <td>5</td>\n",
              "      <td>0.0</td>\n",
              "      <td>6.4</td>\n",
              "      <td>2</td>\n",
              "      <td>63</td>\n",
              "      <td>No moonrise</td>\n",
              "      <td>09:09 AM</td>\n",
              "      <td>06:38 AM</td>\n",
              "      <td>07:20 PM</td>\n",
              "      <td>10</td>\n",
              "      <td>9</td>\n",
              "      <td>11</td>\n",
              "      <td>9</td>\n",
              "      <td>19</td>\n",
              "      <td>100</td>\n",
              "      <td>95</td>\n",
              "      <td>0.0</td>\n",
              "      <td>1005</td>\n",
              "      <td>11</td>\n",
              "      <td>2</td>\n",
              "      <td>253</td>\n",
              "      <td>12</td>\n",
              "      <td>west+hempstead,ny</td>\n",
              "    </tr>\n",
              "  </tbody>\n",
              "</table>\n",
              "</div>"
            ],
            "text/plain": [
              "                    maxtempC mintempC  ... windspeedKmph               city\n",
              "date_time                              ...                                 \n",
              "2021-04-01 00:00:00       10        5  ...            11  west+hempstead,ny\n",
              "2021-04-01 01:00:00       10        5  ...            10  west+hempstead,ny\n",
              "2021-04-01 02:00:00       10        5  ...            10  west+hempstead,ny\n",
              "2021-04-01 03:00:00       10        5  ...            10  west+hempstead,ny\n",
              "2021-04-01 04:00:00       10        5  ...            12  west+hempstead,ny\n",
              "\n",
              "[5 rows x 24 columns]"
            ]
          },
          "metadata": {
            "tags": []
          },
          "execution_count": 119
        }
      ]
    },
    {
      "cell_type": "markdown",
      "metadata": {
        "id": "p6RH1Z9xHTE9"
      },
      "source": [
        "Here we drop several columns from our dataset.  The columns moonrise, moonset, sunrise, and sunset are datapoints that are not relevant to our specific quetion about predicted temperature, since we are working on hourly metrics, and the scale of these is daily.  It is also irrelevant durinig certain hours.  As such, we recognize that while these metrics are another route of inquiry, we will hold off on them for another time.\n",
        "\n",
        "Also, the precipMM and totalSnow_cm are infrequent enough, that we will leave them for another line of inquiry as well.  The city column is dropped because it is the same everywhere, and through our expert knowledge gained through such sites as [this](http://euanmearns.com/do-clouds-control-temperature-or-does-temperature-control-clouds/), we conclude with the same outcome the author of the linked article has: *temperatures control clouds, and not the other way round.* And, as such drop cloud cover as well.\n",
        "\n",
        "We also exclude FeelLikeC, due to it being almost the same as tempC, as can be shown from any correlation analysis or expert knowledge.\n",
        "\n"
      ]
    },
    {
      "cell_type": "code",
      "metadata": {
        "colab": {
          "base_uri": "https://localhost:8080/"
        },
        "id": "4Glr12wUYwlK",
        "outputId": "7638b557-bb35-4d1f-8cea-97974766ee9f"
      },
      "source": [
        "#drop all the data that we don't need\n",
        "dataset.drop(['moon_illumination','moonrise','moonset','sunrise',\t'sunset','city','precipMM','cloudcover','totalSnow_cm','FeelsLikeC'],axis =1,inplace=True)\n",
        "\n",
        "#check for nulls or missing data\n",
        "dataset.isnull().sum()"
      ],
      "execution_count": 120,
      "outputs": [
        {
          "output_type": "execute_result",
          "data": {
            "text/plain": [
              "maxtempC         0\n",
              "mintempC         0\n",
              "sunHour          0\n",
              "uvIndex          0\n",
              "DewPointC        0\n",
              "HeatIndexC       0\n",
              "WindChillC       0\n",
              "WindGustKmph     0\n",
              "humidity         0\n",
              "pressure         0\n",
              "tempC            0\n",
              "visibility       0\n",
              "winddirDegree    0\n",
              "windspeedKmph    0\n",
              "dtype: int64"
            ]
          },
          "metadata": {
            "tags": []
          },
          "execution_count": 120
        }
      ]
    },
    {
      "cell_type": "markdown",
      "metadata": {
        "id": "hw3ggX_uJM0E"
      },
      "source": [
        "Here we check for any other type of missing values outside of just using the isnull() function."
      ]
    },
    {
      "cell_type": "code",
      "metadata": {
        "colab": {
          "base_uri": "https://localhost:8080/"
        },
        "id": "_nNfRt6Wbc5Y",
        "outputId": "85af6078-19dd-40f7-b5e2-9c890137eb1e"
      },
      "source": [
        "#check for other possible missing values\n",
        "\n",
        "def missingVals(df,val):\n",
        "  print('Missing Vals: ' + val +'\\n')\n",
        "  for attr in df: \n",
        "    c = df[df[attr] == val]\n",
        "    if not c.empty:\n",
        "        print(attr, ': ', len(c))\n",
        "\n",
        "missing_vals = ['?','-','None', 'NaN','0']\n",
        "for k in missing_vals:\n",
        "  missingVals(dataset,k)"
      ],
      "execution_count": 121,
      "outputs": [
        {
          "output_type": "stream",
          "text": [
            "Missing Vals: ?\n",
            "\n",
            "Missing Vals: -\n",
            "\n",
            "Missing Vals: None\n",
            "\n",
            "Missing Vals: NaN\n",
            "\n",
            "Missing Vals: 0\n",
            "\n",
            "DewPointC :  12\n",
            "WindChillC :  10\n"
          ],
          "name": "stdout"
        }
      ]
    },
    {
      "cell_type": "markdown",
      "metadata": {
        "id": "bQ2YvVGrcZth"
      },
      "source": [
        "We see here that no missing values were found for other symbols.  And where 0s were found, it is sensible that they should be there.  "
      ]
    },
    {
      "cell_type": "markdown",
      "metadata": {
        "id": "bP1rqPz_JXUM"
      },
      "source": [
        "Since we will be doing analysis on the data, we need to check what data type each value is.  We find below that everything is an object, which means we will need to convert it to a float."
      ]
    },
    {
      "cell_type": "code",
      "metadata": {
        "colab": {
          "base_uri": "https://localhost:8080/"
        },
        "id": "4y0SVamgZpyu",
        "outputId": "efefeb7f-0cb3-407c-c41b-4bf17646a985"
      },
      "source": [
        "#check the datatype and convert if necessary\n",
        "print(dataset.dtypes)\n",
        "dataset = dataset.astype(float)"
      ],
      "execution_count": 122,
      "outputs": [
        {
          "output_type": "stream",
          "text": [
            "maxtempC         object\n",
            "mintempC         object\n",
            "sunHour          object\n",
            "uvIndex          object\n",
            "DewPointC        object\n",
            "HeatIndexC       object\n",
            "WindChillC       object\n",
            "WindGustKmph     object\n",
            "humidity         object\n",
            "pressure         object\n",
            "tempC            object\n",
            "visibility       object\n",
            "winddirDegree    object\n",
            "windspeedKmph    object\n",
            "dtype: object\n"
          ],
          "name": "stdout"
        }
      ]
    },
    {
      "cell_type": "code",
      "metadata": {
        "colab": {
          "base_uri": "https://localhost:8080/",
          "height": 284
        },
        "id": "WaIO_2RFYHMY",
        "outputId": "87eb6ecf-2455-497c-985b-d1038c5ec646"
      },
      "source": [
        "dataset.describe()"
      ],
      "execution_count": 123,
      "outputs": [
        {
          "output_type": "execute_result",
          "data": {
            "text/html": [
              "<div>\n",
              "<style scoped>\n",
              "    .dataframe tbody tr th:only-of-type {\n",
              "        vertical-align: middle;\n",
              "    }\n",
              "\n",
              "    .dataframe tbody tr th {\n",
              "        vertical-align: top;\n",
              "    }\n",
              "\n",
              "    .dataframe thead th {\n",
              "        text-align: right;\n",
              "    }\n",
              "</style>\n",
              "<table border=\"1\" class=\"dataframe\">\n",
              "  <thead>\n",
              "    <tr style=\"text-align: right;\">\n",
              "      <th></th>\n",
              "      <th>maxtempC</th>\n",
              "      <th>mintempC</th>\n",
              "      <th>sunHour</th>\n",
              "      <th>uvIndex</th>\n",
              "      <th>DewPointC</th>\n",
              "      <th>HeatIndexC</th>\n",
              "      <th>WindChillC</th>\n",
              "      <th>WindGustKmph</th>\n",
              "      <th>humidity</th>\n",
              "      <th>pressure</th>\n",
              "      <th>tempC</th>\n",
              "      <th>visibility</th>\n",
              "      <th>winddirDegree</th>\n",
              "      <th>windspeedKmph</th>\n",
              "    </tr>\n",
              "  </thead>\n",
              "  <tbody>\n",
              "    <tr>\n",
              "      <th>count</th>\n",
              "      <td>696.000000</td>\n",
              "      <td>696.000000</td>\n",
              "      <td>696.000000</td>\n",
              "      <td>696.000000</td>\n",
              "      <td>696.000000</td>\n",
              "      <td>696.000000</td>\n",
              "      <td>696.000000</td>\n",
              "      <td>696.000000</td>\n",
              "      <td>696.000000</td>\n",
              "      <td>696.000000</td>\n",
              "      <td>696.000000</td>\n",
              "      <td>696.000000</td>\n",
              "      <td>696.000000</td>\n",
              "      <td>696.000000</td>\n",
              "    </tr>\n",
              "    <tr>\n",
              "      <th>mean</th>\n",
              "      <td>13.793103</td>\n",
              "      <td>7.620690</td>\n",
              "      <td>9.768966</td>\n",
              "      <td>3.448276</td>\n",
              "      <td>3.277299</td>\n",
              "      <td>10.850575</td>\n",
              "      <td>8.797414</td>\n",
              "      <td>22.462644</td>\n",
              "      <td>62.376437</td>\n",
              "      <td>1013.176724</td>\n",
              "      <td>10.727011</td>\n",
              "      <td>9.396552</td>\n",
              "      <td>226.645115</td>\n",
              "      <td>16.714080</td>\n",
              "    </tr>\n",
              "    <tr>\n",
              "      <th>std</th>\n",
              "      <td>3.980204</td>\n",
              "      <td>3.190783</td>\n",
              "      <td>2.494417</td>\n",
              "      <td>0.968673</td>\n",
              "      <td>6.050802</td>\n",
              "      <td>4.198057</td>\n",
              "      <td>5.441968</td>\n",
              "      <td>9.492369</td>\n",
              "      <td>18.206465</td>\n",
              "      <td>5.795466</td>\n",
              "      <td>4.108271</td>\n",
              "      <td>1.494619</td>\n",
              "      <td>86.259816</td>\n",
              "      <td>7.320426</td>\n",
              "    </tr>\n",
              "    <tr>\n",
              "      <th>min</th>\n",
              "      <td>5.000000</td>\n",
              "      <td>1.000000</td>\n",
              "      <td>6.400000</td>\n",
              "      <td>2.000000</td>\n",
              "      <td>-13.000000</td>\n",
              "      <td>1.000000</td>\n",
              "      <td>-5.000000</td>\n",
              "      <td>2.000000</td>\n",
              "      <td>22.000000</td>\n",
              "      <td>1001.000000</td>\n",
              "      <td>1.000000</td>\n",
              "      <td>1.000000</td>\n",
              "      <td>17.000000</td>\n",
              "      <td>2.000000</td>\n",
              "    </tr>\n",
              "    <tr>\n",
              "      <th>25%</th>\n",
              "      <td>10.000000</td>\n",
              "      <td>6.000000</td>\n",
              "      <td>6.600000</td>\n",
              "      <td>3.000000</td>\n",
              "      <td>0.000000</td>\n",
              "      <td>8.000000</td>\n",
              "      <td>5.000000</td>\n",
              "      <td>14.750000</td>\n",
              "      <td>50.000000</td>\n",
              "      <td>1009.000000</td>\n",
              "      <td>8.000000</td>\n",
              "      <td>10.000000</td>\n",
              "      <td>168.750000</td>\n",
              "      <td>11.000000</td>\n",
              "    </tr>\n",
              "    <tr>\n",
              "      <th>50%</th>\n",
              "      <td>14.000000</td>\n",
              "      <td>8.000000</td>\n",
              "      <td>10.400000</td>\n",
              "      <td>4.000000</td>\n",
              "      <td>4.000000</td>\n",
              "      <td>11.000000</td>\n",
              "      <td>9.000000</td>\n",
              "      <td>22.000000</td>\n",
              "      <td>62.000000</td>\n",
              "      <td>1014.000000</td>\n",
              "      <td>11.000000</td>\n",
              "      <td>10.000000</td>\n",
              "      <td>247.000000</td>\n",
              "      <td>15.000000</td>\n",
              "    </tr>\n",
              "    <tr>\n",
              "      <th>75%</th>\n",
              "      <td>16.000000</td>\n",
              "      <td>10.000000</td>\n",
              "      <td>11.600000</td>\n",
              "      <td>4.000000</td>\n",
              "      <td>7.000000</td>\n",
              "      <td>13.000000</td>\n",
              "      <td>12.000000</td>\n",
              "      <td>30.000000</td>\n",
              "      <td>78.000000</td>\n",
              "      <td>1017.000000</td>\n",
              "      <td>13.000000</td>\n",
              "      <td>10.000000</td>\n",
              "      <td>303.000000</td>\n",
              "      <td>22.000000</td>\n",
              "    </tr>\n",
              "    <tr>\n",
              "      <th>max</th>\n",
              "      <td>25.000000</td>\n",
              "      <td>14.000000</td>\n",
              "      <td>13.900000</td>\n",
              "      <td>6.000000</td>\n",
              "      <td>15.000000</td>\n",
              "      <td>26.000000</td>\n",
              "      <td>25.000000</td>\n",
              "      <td>44.000000</td>\n",
              "      <td>98.000000</td>\n",
              "      <td>1026.000000</td>\n",
              "      <td>25.000000</td>\n",
              "      <td>10.000000</td>\n",
              "      <td>349.000000</td>\n",
              "      <td>36.000000</td>\n",
              "    </tr>\n",
              "  </tbody>\n",
              "</table>\n",
              "</div>"
            ],
            "text/plain": [
              "         maxtempC    mintempC  ...  winddirDegree  windspeedKmph\n",
              "count  696.000000  696.000000  ...     696.000000     696.000000\n",
              "mean    13.793103    7.620690  ...     226.645115      16.714080\n",
              "std      3.980204    3.190783  ...      86.259816       7.320426\n",
              "min      5.000000    1.000000  ...      17.000000       2.000000\n",
              "25%     10.000000    6.000000  ...     168.750000      11.000000\n",
              "50%     14.000000    8.000000  ...     247.000000      15.000000\n",
              "75%     16.000000   10.000000  ...     303.000000      22.000000\n",
              "max     25.000000   14.000000  ...     349.000000      36.000000\n",
              "\n",
              "[8 rows x 14 columns]"
            ]
          },
          "metadata": {
            "tags": []
          },
          "execution_count": 123
        }
      ]
    },
    {
      "cell_type": "markdown",
      "metadata": {
        "id": "oOh8EZFoJqfQ"
      },
      "source": [
        "Here we see all the major statistics for our numerical data.  It is interesting to note how low the standard deviation in many of the categories.  "
      ]
    },
    {
      "cell_type": "markdown",
      "metadata": {
        "id": "DNJxYeC1KSIs"
      },
      "source": [
        "Below we see the histrogram and boxplot for all of our data."
      ]
    },
    {
      "cell_type": "code",
      "metadata": {
        "colab": {
          "base_uri": "https://localhost:8080/",
          "height": 1000
        },
        "id": "jP8ihfbgc1X2",
        "outputId": "b892fdc1-7e47-4526-ad07-2fe46238788b"
      },
      "source": [
        "import matplotlib.pyplot as plt\n",
        "import seaborn as sns\n",
        "\n",
        "the_plots = ['maxtempC','mintempC','sunHour','uvIndex','DewPointC','HeatIndexC','WindChillC','WindGustKmph',\t'humidity',\t'pressure',\t'tempC'\t,'visibility',\t'winddirDegree',\t'windspeedKmph']\n",
        "\n",
        "for k in the_plots:\n",
        "  plt.figure(figsize = (8,4))\n",
        "  plt.suptitle('Plot', size = 15)\n",
        "  plt.subplot(1,2,1)\n",
        "  plt.title('Histogram')\n",
        "  sns.histplot(x = dataset[k], kde = True)\n",
        "  plt.subplot(1,2,2)\n",
        "  plt.title('Box Plot')\n",
        "  sns.boxenplot(x = dataset[k])\n",
        "  plt.tight_layout()\n"
      ],
      "execution_count": 124,
      "outputs": [
        {
          "output_type": "display_data",
          "data": {
            "image/png": "[encoded data removed]",
            "text/plain": [
              "<Figure size 576x288 with 2 Axes>"
            ]
          },
          "metadata": {
            "tags": [],
            "needs_background": "light"
          }
        },
        {
          "output_type": "display_data",
          "data": {
            "image/png": "[encoded data removed]",
            "text/plain": [
              "<Figure size 576x288 with 2 Axes>"
            ]
          },
          "metadata": {
            "tags": [],
            "needs_background": "light"
          }
        },
        {
          "output_type": "display_data",
          "data": {
            "image/png": "[encoded data removed]",
            "text/plain": [
              "<Figure size 576x288 with 2 Axes>"
            ]
          },
          "metadata": {
            "tags": [],
            "needs_background": "light"
          }
        },
        {
          "output_type": "display_data",
          "data": {
            "image/png": "[encoded data removed]",
            "text/plain": [
              "<Figure size 576x288 with 2 Axes>"
            ]
          },
          "metadata": {
            "tags": [],
            "needs_background": "light"
          }
        },
        {
          "output_type": "display_data",
          "data": {
            "image/png": "[encoded data removed]",
            "text/plain": [
              "<Figure size 576x288 with 2 Axes>"
            ]
          },
          "metadata": {
            "tags": [],
            "needs_background": "light"
          }
        },
        {
          "output_type": "display_data",
          "data": {
            "image/png": "[encoded data removed]",
            "text/plain": [
              "<Figure size 576x288 with 2 Axes>"
            ]
          },
          "metadata": {
            "tags": [],
            "needs_background": "light"
          }
        },
        {
          "output_type": "display_data",
          "data": {
            "image/png": "[encoded data removed]",
            "text/plain": [
              "<Figure size 576x288 with 2 Axes>"
            ]
          },
          "metadata": {
            "tags": [],
            "needs_background": "light"
          }
        },
        {
          "output_type": "display_data",
          "data": {
            "image/png": "[encoded data removed]",
            "text/plain": [
              "<Figure size 576x288 with 2 Axes>"
            ]
          },
          "metadata": {
            "tags": [],
            "needs_background": "light"
          }
        },
        {
          "output_type": "display_data",
          "data": {
            "image/png": "[encoded data removed]",
            "text/plain": [
              "<Figure size 576x288 with 2 Axes>"
            ]
          },
          "metadata": {
            "tags": [],
            "needs_background": "light"
          }
        },
        {
          "output_type": "display_data",
          "data": {
            "image/png": "[encoded data removed]",
            "text/plain": [
              "<Figure size 576x288 with 2 Axes>"
            ]
          },
          "metadata": {
            "tags": [],
            "needs_background": "light"
          }
        },
        {
          "output_type": "display_data",
          "data": {
            "image/png": "[encoded data removed]",
            "text/plain": [
              "<Figure size 576x288 with 2 Axes>"
            ]
          },
          "metadata": {
            "tags": [],
            "needs_background": "light"
          }
        },
        {
          "output_type": "display_data",
          "data": {
            "image/png": "[encoded data removed]",
            "text/plain": [
              "<Figure size 576x288 with 2 Axes>"
            ]
          },
          "metadata": {
            "tags": [],
            "needs_background": "light"
          }
        },
        {
          "output_type": "display_data",
          "data": {
            "image/png": "[encoded data removed]",
            "text/plain": [
              "<Figure size 576x288 with 2 Axes>"
            ]
          },
          "metadata": {
            "tags": [],
            "needs_background": "light"
          }
        },
        {
          "output_type": "display_data",
          "data": {
            "image/png": "[encoded data removed]",
            "text/plain": [
              "<Figure size 576x288 with 2 Axes>"
            ]
          },
          "metadata": {
            "tags": [],
            "needs_background": "light"
          }
        }
      ]
    },
    {
      "cell_type": "markdown",
      "metadata": {
        "id": "oSYSzPnEKtmq"
      },
      "source": [
        "We note that sunhour, uvindex, and visibility have boxplots that differ widely form the rest, with few categories (outside of the above noted ones) having a large number of outliers or a mult-model distribution.  "
      ]
    },
    {
      "cell_type": "code",
      "metadata": {
        "colab": {
          "base_uri": "https://localhost:8080/",
          "height": 952
        },
        "id": "sXhLLyhpgefW",
        "outputId": "8203c0a5-f620-4676-f8ed-6c1cff99cd7f"
      },
      "source": [
        "#get correlation matrix between the numeric variables and plot it using seaborn\n",
        "\n",
        "#set figure size\n",
        "plt.figure(figsize=(15, 15)) \n",
        "\n",
        "#get correlation matrix\n",
        "corrMatrix = dataset.corr() \n",
        "\n",
        "#graph correlation matrix\n",
        "sns.heatmap(corrMatrix, annot=True) \n",
        "plt.title('Correlation Matrix/Heat Map') \n",
        "\n",
        "# fix for mpl bug that cuts off top/bottom of seaborn viz\n",
        "b, t = plt.ylim() # discover the values for bottom and top\n",
        "b += 0.5 # Add 0.5 to the bottom\n",
        "t -= 0.5 # Subtract 0.5 from the top\n",
        "plt.ylim(b, t) # update the ylim(bottom, top) values\n",
        "plt.show()"
      ],
      "execution_count": 125,
      "outputs": [
        {
          "output_type": "display_data",
          "data": {
            "image/png": "[encoded data removed]",
            "text/plain": [
              "<Figure size 1080x1080 with 2 Axes>"
            ]
          },
          "metadata": {
            "tags": [],
            "needs_background": "light"
          }
        }
      ]
    },
    {
      "cell_type": "markdown",
      "metadata": {
        "id": "pO4fv8CILU02"
      },
      "source": [
        "Here we have the correlation matrix.  There are many points that are highly correlated, but none too suprising. For instance, windspeed and windgust should rightly be correlated, as well as max and min temp with feels_like and heatIndex.  While there may be some important relationships here, we will keep this as a reference while going further, noting that it may be a multi-collinearity issue with certain factors such as temp and feelsLike, maxtemp and mintemp, as well as windspeed and windgust."
      ]
    },
    {
      "cell_type": "markdown",
      "metadata": {
        "id": "5llLe-6YtkK8"
      },
      "source": [
        "Below we test some alternative representations of our data using grouping."
      ]
    },
    {
      "cell_type": "code",
      "metadata": {
        "colab": {
          "base_uri": "https://localhost:8080/"
        },
        "id": "Ei6UjN_6tvAf",
        "outputId": "3cdb9700-17fa-4b99-ed29-e39ec466aed7"
      },
      "source": [
        "#here we look at WinChill and humidity against the temperature.\n",
        "#this is just exploratory, to see if anything interesting comes out of it\n",
        "#we use the mean in order to simplify our result\n",
        "group_it = dataset['tempC'].groupby([dataset['WindChillC'],dataset['humidity']]).mean()\n",
        "group_it"
      ],
      "execution_count": 126,
      "outputs": [
        {
          "output_type": "execute_result",
          "data": {
            "text/plain": [
              "WindChillC  humidity\n",
              "-5.0        45.0         1.0\n",
              "            47.0         1.0\n",
              "            49.0         1.0\n",
              "            51.0         1.0\n",
              "-4.0        41.0         1.0\n",
              "                        ... \n",
              " 23.0       57.0        23.0\n",
              " 24.0       50.0        24.0\n",
              "            51.0        24.0\n",
              "            52.0        24.0\n",
              " 25.0       49.0        25.0\n",
              "Name: tempC, Length: 475, dtype: float64"
            ]
          },
          "metadata": {
            "tags": []
          },
          "execution_count": 126
        }
      ]
    },
    {
      "cell_type": "markdown",
      "metadata": {
        "id": "tMglGQy0u2m9"
      },
      "source": [
        "The above doesn't indicate anything further than a range of humidities associated with different windchills - and an obviously associated temperature to windchill."
      ]
    },
    {
      "cell_type": "markdown",
      "metadata": {
        "id": "069kmAQxvLkn"
      },
      "source": [
        "Below we break our studied feature into quartiles, do better understand it.  Although this could give us a good idea of the range, we don't see anything new here.  If we were missing values, this would be an excellent tool for imputation - i.e. using quartile modes or medians to imput given other charcteristics as well. "
      ]
    },
    {
      "cell_type": "code",
      "metadata": {
        "colab": {
          "base_uri": "https://localhost:8080/"
        },
        "id": "2KTsFqIGumao",
        "outputId": "bc5fd451-fa81-4975-a728-f7770ee21e42"
      },
      "source": [
        "quartiles = pd.cut(dataset.tempC, 4)\n",
        "quartiles"
      ],
      "execution_count": 127,
      "outputs": [
        {
          "output_type": "execute_result",
          "data": {
            "text/plain": [
              "date_time\n",
              "2021-04-01 00:00:00     (7.0, 13.0]\n",
              "2021-04-01 01:00:00     (7.0, 13.0]\n",
              "2021-04-01 02:00:00     (7.0, 13.0]\n",
              "2021-04-01 03:00:00     (7.0, 13.0]\n",
              "2021-04-01 04:00:00     (7.0, 13.0]\n",
              "                           ...     \n",
              "2021-04-29 19:00:00    (13.0, 19.0]\n",
              "2021-04-29 20:00:00    (13.0, 19.0]\n",
              "2021-04-29 21:00:00    (13.0, 19.0]\n",
              "2021-04-29 22:00:00     (7.0, 13.0]\n",
              "2021-04-29 23:00:00     (7.0, 13.0]\n",
              "Name: tempC, Length: 696, dtype: category\n",
              "Categories (4, interval[float64]): [(0.976, 7.0] < (7.0, 13.0] < (13.0, 19.0] < (19.0, 25.0]]"
            ]
          },
          "metadata": {
            "tags": []
          },
          "execution_count": 127
        }
      ]
    },
    {
      "cell_type": "markdown",
      "metadata": {
        "id": "FkYrrXy0HLTA"
      },
      "source": [
        "# Feature Engineering and Data Preparation\n",
        "\n",
        "Below we use different feature engineering techniques to further identify important features of our EDA.  Above we noted relevant ideas, and here we test them out, alongside addressing potential data integrity issues.\n",
        "\n",
        "We investigate several different measures (K-Best, RFE, Backward Selection, and Lasso).  We find the three greatest features for each method, then we compare the results in the next step."
      ]
    },
    {
      "cell_type": "markdown",
      "metadata": {
        "id": "H7SqUDJcZs2l"
      },
      "source": [
        "### K-Best with an F-Regression\n",
        "\n",
        "An F-test is any statistical test in which the test statistic has an F-distribution under the null hypothesis. It is most often used when comparing statistical models that have been fitted to a data set, in order to identify the model that best fits the population from which the data were sampled. (Wiki)\n",
        "\n",
        "The F-distribution is formed by the ratio of two independent chi-square variables divided by their respective degrees of freedom. Since F is formed by chi-square, many of the chi-square properties carry over to the F distribution.\n",
        "\n",
        "* The F-values are all non-negative\n",
        "* The distribution is non-symmetric\n",
        "* The mean is approximately 1\n",
        "* There are two independent degrees of freedom, one for the numerator, and one for the denominator.\n",
        "* There are many different F distributions, one for each pair of degrees of freedom.\n",
        "\n",
        "The F-test is designed to test if two population variances are equal. It does this by comparing the ratio of two variances. So, if the variances are equal, the ratio of the variances will be 1. ([link](https://people.richland.edu/james/lecture/m170/ch13-f.html))\n",
        "\n",
        "In general, one would expect that p-values are used to find features that are significantly better, but it seems the scikit-learn implementation is effectively the same as just choosing the best k cases in a regression analysis of each variable against our target."
      ]
    },
    {
      "cell_type": "code",
      "metadata": {
        "colab": {
          "base_uri": "https://localhost:8080/"
        },
        "id": "D8cXRMPkHEHa",
        "outputId": "924ee04d-213e-44d6-db0d-143567eabf70"
      },
      "source": [
        "from sklearn.feature_selection import SelectKBest\n",
        "from sklearn.feature_selection import f_regression\n",
        "\n",
        "target = dataset['tempC']\n",
        "features = dataset.drop('tempC',axis=1).copy()\n",
        "feature_names = ['maxtempC'\t,'mintempC',\t'sunHour',\t'uvIndex',\t'DewPointC'\t,'FeelsLikeC',\t'HeatIndexC',\t'WindChillC',\t'WindGustKmph',\t'humidity'\t,'pressure',\t'visibility',\t'winddirDegree',\t'windspeedKmph']\n",
        "\n",
        "selection_kBest = SelectKBest(f_regression,k = 3).fit(features,target)\n",
        "\n",
        "#find which columns were chosen\n",
        "features_kbest = selection_kBest.get_support()\n",
        "print(\"Overall features: \", dataset.columns,'\\n')\n",
        "print(\"Chosen features: \", features.columns[features_kbest],'\\n')\n",
        "\n",
        "selection_kBest.scores_"
      ],
      "execution_count": 128,
      "outputs": [
        {
          "output_type": "stream",
          "text": [
            "Overall features:  Index(['maxtempC', 'mintempC', 'sunHour', 'uvIndex', 'DewPointC', 'HeatIndexC',\n",
            "       'WindChillC', 'WindGustKmph', 'humidity', 'pressure', 'tempC',\n",
            "       'visibility', 'winddirDegree', 'windspeedKmph'],\n",
            "      dtype='object') \n",
            "\n",
            "Chosen features:  Index(['maxtempC', 'HeatIndexC', 'WindChillC'], dtype='object') \n",
            "\n"
          ],
          "name": "stdout"
        },
        {
          "output_type": "execute_result",
          "data": {
            "text/plain": [
              "array([8.82941826e+02, 8.21678830e+02, 6.39317964e+01, 4.74218530e+02,\n",
              "       4.61123002e+02, 5.02744334e+04, 2.07367127e+04, 2.20021580e+01,\n",
              "       4.49870275e-02, 4.15408770e+00, 3.71374092e+00, 2.44791044e+01,\n",
              "       8.93563156e+01])"
            ]
          },
          "metadata": {
            "tags": []
          },
          "execution_count": 128
        }
      ]
    },
    {
      "cell_type": "code",
      "metadata": {
        "colab": {
          "base_uri": "https://localhost:8080/"
        },
        "id": "KB3bmCvFaBgA",
        "outputId": "6464a1d5-107e-4d98-dc88-69f0059f92cc"
      },
      "source": [
        "#see which feature is associated with which score\n",
        "scores = pd.DataFrame({'Feature Name' : features.columns, 'Score' : selection_kBest.scores_}).sort_values(by='Score',ascending=False)\n",
        "print(scores)"
      ],
      "execution_count": 129,
      "outputs": [
        {
          "output_type": "stream",
          "text": [
            "     Feature Name         Score\n",
            "5      HeatIndexC  50274.433407\n",
            "6      WindChillC  20736.712653\n",
            "0        maxtempC    882.941826\n",
            "1        mintempC    821.678830\n",
            "3         uvIndex    474.218530\n",
            "4       DewPointC    461.123002\n",
            "12  windspeedKmph     89.356316\n",
            "2         sunHour     63.931796\n",
            "11  winddirDegree     24.479104\n",
            "7    WindGustKmph     22.002158\n",
            "9        pressure      4.154088\n",
            "10     visibility      3.713741\n",
            "8        humidity      0.044987\n"
          ],
          "name": "stdout"
        }
      ]
    },
    {
      "cell_type": "code",
      "metadata": {
        "colab": {
          "base_uri": "https://localhost:8080/"
        },
        "id": "e7LQv16yaF7t",
        "outputId": "4fe1f4f3-6c46-493d-84d0-2f4d9fd0f6db"
      },
      "source": [
        "univariate_analysis_df = pd.DataFrame({'Chosen' : features.columns[features_kbest]})\n",
        "print(univariate_analysis_df)"
      ],
      "execution_count": 130,
      "outputs": [
        {
          "output_type": "stream",
          "text": [
            "       Chosen\n",
            "0    maxtempC\n",
            "1  HeatIndexC\n",
            "2  WindChillC\n"
          ],
          "name": "stdout"
        }
      ]
    },
    {
      "cell_type": "markdown",
      "metadata": {
        "id": "QfXbQ0DlaPEB"
      },
      "source": [
        "Using the K-Best with an F-regressor, we find that the 3 most influential factors here are maxtempC, HeatIndexC, and WindChillC.  The third of these is somewhat surprising, given all the other features which would seemingly have a greater relationship."
      ]
    },
    {
      "cell_type": "markdown",
      "metadata": {
        "id": "HvWgqFcGcYbp"
      },
      "source": [
        "### RFE - Recursive Feature Elimination\n",
        "\n",
        "RFE is a feature selection algorithm.  It is a wrapper-type feature selection algorithm. This means that a different machine learning algorithm is given and used in the core of the method.  It is wrapped by RFE, and used to help select features. This is in contrast to filter-based feature selections that score each feature and select those features with the largest (or smallest) score.\n",
        "\n",
        "Technically, RFE is a wrapper-style feature selection algorithm that also uses filter-based feature selection internally.\n",
        "\n",
        "RFE works by searching for a subset of features by starting with all features in the training dataset and successfully removing features until the desired number remains.\n",
        "\n",
        "This is achieved by fitting the given machine learning algorithm used in the core of the model, ranking features by importance, discarding the least important features, and re-fitting the model. This process is repeated until a specified number of features remains.\n",
        "\n",
        "When the full model is created, a measure of variable importance is computed that ranks the predictors from most important to least.  At each stage of the search, the least important predictors are iteratively eliminated prior to rebuilding the model. ([link](https://machinelearningmastery.com/rfe-feature-selection-in-python/#:~:text=Recursive%20Feature%20Elimination%2C%20or%20RFE%20for%20short%2C%20is%20a%20feature,columns%2C%20like%20an%20excel%20spreadsheet.&text=Feature%20selection%20refers%20to%20techniques,(columns)%20for%20a%20dataset))"
      ]
    },
    {
      "cell_type": "code",
      "metadata": {
        "colab": {
          "base_uri": "https://localhost:8080/"
        },
        "id": "c-7KEhuwcZr4",
        "outputId": "18a83e83-8ad5-4109-d988-9115780098fb"
      },
      "source": [
        "from sklearn.linear_model import LinearRegression\n",
        "from sklearn.feature_selection import RFE\n",
        "\n",
        "#to wrap on RFE\n",
        "lr = LinearRegression()\n",
        "\n",
        "#prune one feature on each iteration\n",
        "#select 3\n",
        "rfe = RFE(estimator = lr, n_features_to_select = 3, step = 1)\n",
        "\n",
        "rfe.fit(features,target)\n",
        "\n",
        "rfe_features = features.columns[rfe.support_]\n",
        "print(rfe_features)"
      ],
      "execution_count": 131,
      "outputs": [
        {
          "output_type": "stream",
          "text": [
            "Index(['uvIndex', 'HeatIndexC', 'WindChillC'], dtype='object')\n"
          ],
          "name": "stdout"
        }
      ]
    },
    {
      "cell_type": "code",
      "metadata": {
        "colab": {
          "base_uri": "https://localhost:8080/"
        },
        "id": "avB68UNnchZo",
        "outputId": "9994b7af-2fc6-48ee-f502-92a35c898784"
      },
      "source": [
        "rfe_output = pd.DataFrame({'Features' : features.columns, \"Rank\" : rfe.ranking_}).sort_values(by=\"Rank\")\n",
        "\n",
        "#output the entire list\n",
        "print(rfe_output)"
      ],
      "execution_count": 132,
      "outputs": [
        {
          "output_type": "stream",
          "text": [
            "         Features  Rank\n",
            "3         uvIndex     1\n",
            "5      HeatIndexC     1\n",
            "6      WindChillC     1\n",
            "10     visibility     2\n",
            "12  windspeedKmph     3\n",
            "0        maxtempC     4\n",
            "7    WindGustKmph     5\n",
            "4       DewPointC     6\n",
            "8        humidity     7\n",
            "2         sunHour     8\n",
            "9        pressure     9\n",
            "1        mintempC    10\n",
            "11  winddirDegree    11\n"
          ],
          "name": "stdout"
        }
      ]
    },
    {
      "cell_type": "markdown",
      "metadata": {
        "id": "BN8JeIfVbXki"
      },
      "source": [
        "###Forward and Backward Selection\n",
        "\n",
        "Backward elimination process - [link](https://towardsdatascience.com/backward-elimination-for-feature-selection-in-machine-learning-c6a3a8f8cef4)\n",
        "\n",
        "Forward elimination process - [link](https://towardsdatascience.com/using-forward-selection-to-filter-out-unnecessary-features-in-a-machine-learning-dataset-e36c62431781)\n",
        "\n",
        "Forward Selection: Forward selection is an iterative method in which we start with having no feature in the model. In each iteration, we keep adding the feature which best improves our model till an addition of a new variable does not improve the performance of the model.\n",
        "\n",
        "Backward Elimination: In backward elimination, we start with all the features and removes the least significant feature at each iteration which improves the performance of the model. We repeat this until no improvement is observed on removal of features. [link](https://www.analyticsvidhya.com/blog/2016/12/introduction-to-feature-selection-methods-with-an-example-or-how-to-select-the-right-variables/#:~:text=Forward%20Selection%3A%20Forward%20selection%20is,the%20performance%20of%20the%20model.)"
      ]
    },
    {
      "cell_type": "code",
      "metadata": {
        "colab": {
          "base_uri": "https://localhost:8080/"
        },
        "id": "IVmDfUNibZnZ",
        "outputId": "6531d3ed-495d-4f49-9fa1-9bf96d6422e7"
      },
      "source": [
        "from mlxtend.feature_selection import SequentialFeatureSelector\n",
        "from sklearn.linear_model import LinearRegression\n",
        "\n",
        "target = dataset['tempC']\n",
        "features = dataset.drop('tempC',axis=1).copy()\n",
        "feature_names = ['maxtempC'\t,'mintempC',\t'sunHour',\t'uvIndex',\t'DewPointC'\t,'FeelsLikeC',\t'HeatIndexC',\t'WindChillC',\t'WindGustKmph',\t'humidity'\t,'pressure',\t'visibility',\t'winddirDegree',\t'windspeedKmph']\n",
        "\n",
        "#backward selection\n",
        "feature_selector = SequentialFeatureSelector(LinearRegression(),k_features =3, forward=False,scoring='neg_mean_squared_error',cv=4)\n",
        "\n",
        "#this step is strange, but we are using features.values and target.values to convert the data to numpy in order to run\n",
        "feature_filtered = feature_selector.fit(features.values, target.values)\n",
        "\n",
        "#list which features are included\n",
        "backward_features = list(feature_filtered.k_feature_names_)\n",
        "print(backward_features, '\\n')\n",
        "\n",
        "original_features = pd.DataFrame({'Features' : features.columns})\n",
        "print(original_features)"
      ],
      "execution_count": 133,
      "outputs": [
        {
          "output_type": "stream",
          "text": [
            "['5', '6', '12'] \n",
            "\n",
            "         Features\n",
            "0        maxtempC\n",
            "1        mintempC\n",
            "2         sunHour\n",
            "3         uvIndex\n",
            "4       DewPointC\n",
            "5      HeatIndexC\n",
            "6      WindChillC\n",
            "7    WindGustKmph\n",
            "8        humidity\n",
            "9        pressure\n",
            "10     visibility\n",
            "11  winddirDegree\n",
            "12  windspeedKmph\n"
          ],
          "name": "stdout"
        }
      ]
    },
    {
      "cell_type": "code",
      "metadata": {
        "colab": {
          "base_uri": "https://localhost:8080/"
        },
        "id": "z6AubSEQb9fX",
        "outputId": "eb813945-7414-4d4e-9b5c-87d2033d7add"
      },
      "source": [
        "#get a list of the actual names \n",
        "#convert it to a dataFrame\n",
        "\n",
        "backward_df = []\n",
        "\n",
        "for k in backward_features:\n",
        "  backward_df.append(original_features['Features'].loc[int(k)])\n",
        "\n",
        "backward_df = pd.DataFrame({'Backward': backward_df})\n",
        "print(backward_df)"
      ],
      "execution_count": 134,
      "outputs": [
        {
          "output_type": "stream",
          "text": [
            "        Backward\n",
            "0     HeatIndexC\n",
            "1     WindChillC\n",
            "2  windspeedKmph\n"
          ],
          "name": "stdout"
        }
      ]
    },
    {
      "cell_type": "markdown",
      "metadata": {
        "id": "Ao8IYscucCPf"
      },
      "source": [
        "###Lasso Regression\n",
        "\n",
        "The LASSO (Least Absolute Shrinkage and Selection Operator) is a regression method that involves penalizing the absolute size of the regression coefficients.\n",
        "\n",
        "By penalizing (or equivalently constraining the sum of the absolute values of the estimates) you end up in a situation where some of the parameter estimates may be exactly zero. The larger the penalty applied, the further estimates are shrunk towards zero.\n",
        "\n",
        "This is convenient when we want some automatic feature/variable selection, or when dealing with highly correlated predictors"
      ]
    },
    {
      "cell_type": "code",
      "metadata": {
        "colab": {
          "base_uri": "https://localhost:8080/"
        },
        "id": "4ORq6iN9cEt7",
        "outputId": "0d933d3e-7ea3-40c6-f823-cf743cecf09c"
      },
      "source": [
        "from sklearn.linear_model import Lasso\n",
        "\n",
        "#1.0 is the strongest regularization\n",
        "#the most important features are those far away from zero\n",
        "lasso = Lasso(alpha=1.0).fit(features,target)\n",
        "\n",
        "lasso_info = pd.DataFrame({'Features' :features.columns, 'LassoCoef':lasso.coef_}).sort_values(by='LassoCoef',ascending = False)\n",
        "\n",
        "print(lasso_info)"
      ],
      "execution_count": 135,
      "outputs": [
        {
          "output_type": "stream",
          "text": [
            "         Features  LassoCoef\n",
            "6      WindChillC   0.714468\n",
            "7    WindGustKmph   0.040176\n",
            "5      HeatIndexC   0.021251\n",
            "0        maxtempC   0.000000\n",
            "1        mintempC   0.000000\n",
            "2         sunHour   0.000000\n",
            "3         uvIndex   0.000000\n",
            "4       DewPointC   0.000000\n",
            "9        pressure  -0.000000\n",
            "10     visibility   0.000000\n",
            "11  winddirDegree   0.000000\n",
            "12  windspeedKmph   0.000000\n",
            "8        humidity  -0.002572\n"
          ],
          "name": "stdout"
        }
      ]
    },
    {
      "cell_type": "code",
      "metadata": {
        "colab": {
          "base_uri": "https://localhost:8080/"
        },
        "id": "cMvDbEDLcIWQ",
        "outputId": "ed989f7d-fa0b-4a6a-e19c-0c0b773f2bc2"
      },
      "source": [
        "#use the absolute values\n",
        "lasso_info['LassoCoef'] = abs(lasso_info['LassoCoef'])\n",
        "lasso_df = lasso_info.sort_values(by='LassoCoef',ascending=False)\n",
        "print(lasso_df)"
      ],
      "execution_count": 136,
      "outputs": [
        {
          "output_type": "stream",
          "text": [
            "         Features  LassoCoef\n",
            "6      WindChillC   0.714468\n",
            "7    WindGustKmph   0.040176\n",
            "5      HeatIndexC   0.021251\n",
            "8        humidity   0.002572\n",
            "0        maxtempC   0.000000\n",
            "1        mintempC   0.000000\n",
            "2         sunHour   0.000000\n",
            "3         uvIndex   0.000000\n",
            "4       DewPointC   0.000000\n",
            "9        pressure   0.000000\n",
            "10     visibility   0.000000\n",
            "11  winddirDegree   0.000000\n",
            "12  windspeedKmph   0.000000\n"
          ],
          "name": "stdout"
        }
      ]
    },
    {
      "cell_type": "code",
      "metadata": {
        "colab": {
          "base_uri": "https://localhost:8080/"
        },
        "id": "cPn2tLkLcLsS",
        "outputId": "86978dbd-bb70-44d9-b0cc-e511bf06c24f"
      },
      "source": [
        "#get all the different tables of chosen options\n",
        "\n",
        "univariate_analysis_df = pd.DataFrame({'Univariate' : features.columns[features_kbest]})\n",
        "rfe_analysis_df = pd.DataFrame({'RFE' : rfe_output['Features'].head(3).values})\n",
        "backward_analysis_df = backward_df\n",
        "lasso_analysis_df = pd.DataFrame({'Lasso' : lasso_df['Features'].head(3).values})\n",
        "\n",
        "selected = [univariate_analysis_df,rfe_analysis_df,backward_analysis_df, lasso_analysis_df]\n",
        "final_df = pd.concat(selected, axis=1)\n",
        "\n",
        "print(final_df)"
      ],
      "execution_count": 137,
      "outputs": [
        {
          "output_type": "stream",
          "text": [
            "   Univariate         RFE       Backward         Lasso\n",
            "0    maxtempC     uvIndex     HeatIndexC    WindChillC\n",
            "1  HeatIndexC  HeatIndexC     WindChillC  WindGustKmph\n",
            "2  WindChillC  WindChillC  windspeedKmph    HeatIndexC\n"
          ],
          "name": "stdout"
        }
      ]
    },
    {
      "cell_type": "markdown",
      "metadata": {
        "id": "tsbVcnFBaovm"
      },
      "source": [
        "## Prepped Data Review\n",
        "\n",
        "Here we review where we are up to.  Our EDA indicated several interesting relationships, explained the distributions and outliers, and tabulated the cleanliness of our data. \n",
        "\n",
        "In the feature engineering stage we came out with three important factors that seem to influence our data set.  We will test these in our regression."
      ]
    },
    {
      "cell_type": "markdown",
      "metadata": {
        "id": "LD5xKWHycqpk"
      },
      "source": [
        "# Investigative Analysis & Results\n"
      ]
    },
    {
      "cell_type": "code",
      "metadata": {
        "id": "M0i1nV2Zcscn"
      },
      "source": [
        "from sklearn.model_selection import train_test_split\n",
        "from sklearn.metrics import r2_score, mean_squared_error\n",
        "\n",
        "def score(name,X,y):\n",
        "  X_train,X_test,y_train,y_test = train_test_split(X,y,test_size=.2)\n",
        "  le = LinearRegression(normalize=True).fit(X_train,y_train)\n",
        "  print(name)\n",
        "  print('Training score:\\t ', le.score(X_train,y_train))\n",
        "\n",
        "  y_pred = le.predict(X_test)\n",
        "  print('r2_score:\\t ', r2_score(y_test,y_pred))"
      ],
      "execution_count": 138,
      "outputs": []
    },
    {
      "cell_type": "code",
      "metadata": {
        "colab": {
          "base_uri": "https://localhost:8080/"
        },
        "id": "wLk1Dtr7c0oE",
        "outputId": "3f47f4b2-c6a0-4a0d-bc69-d305da99bde2"
      },
      "source": [
        "#print out all the values\n",
        "#reminder: features is still all the values outside of Price and target is Price\n",
        "\n",
        "for k in final_df.columns:\n",
        "  score(k,features[final_df[k].values],target)\n",
        "  print()"
      ],
      "execution_count": 139,
      "outputs": [
        {
          "output_type": "stream",
          "text": [
            "Univariate\n",
            "Training score:\t  0.9866424834344357\n",
            "r2_score:\t  0.9953847701130787\n",
            "\n",
            "RFE\n",
            "Training score:\t  0.9896593395629009\n",
            "r2_score:\t  0.984946842592513\n",
            "\n",
            "Backward\n",
            "Training score:\t  0.9911616605134845\n",
            "r2_score:\t  0.9890442666850983\n",
            "\n",
            "Lasso\n",
            "Training score:\t  0.9895828412249509\n",
            "r2_score:\t  0.9906423812078905\n",
            "\n"
          ],
          "name": "stdout"
        }
      ]
    },
    {
      "cell_type": "markdown",
      "metadata": {
        "id": "V5rJusjWeExH"
      },
      "source": [
        "Given the above, we find that there are a number of possibilities, all equally good, to predict temperature.  \n",
        "\n",
        "```\n",
        "   Univariate         RFE       Backward         Lasso\n",
        "0    maxtempC     uvIndex     HeatIndexC    WindChillC\n",
        "1  HeatIndexC  HeatIndexC     WindChillC  WindGustKmph\n",
        "2  WindChillC  WindChillC  windspeedKmph    HeatIndexC\n",
        "```\n",
        "While maxtemp and HeatIndex are clear, it is most interesting to note that each potential model still had a 98% predictability with some form of windchill (or windspeed) over other potential metrics such as mintemp, etc.\n",
        "\n",
        "Thus, we see that temperature is easily predictable."
      ]
    },
    {
      "cell_type": "markdown",
      "metadata": {
        "id": "LXbYZLm6eufm"
      },
      "source": [
        "Before concluding our remarks, we do a similar investigation into another data set that we are using.  However, below we attempt a RandomTreeRegressor and are not met with the same results.\n",
        "\n",
        "**Much of the analysis is the same as above, thus, unless there is a new point or new angle, it is not repeated.**"
      ]
    },
    {
      "cell_type": "markdown",
      "metadata": {
        "id": "bGOQ4V9SYSvU"
      },
      "source": [
        "### CSV Data\n",
        "\n",
        "The data for the CSV download was taken from **OpenWeatherMap.org**.  It is data from Jan 1, 2003 until April 29, 2021. Since we have different times and dates for our two datasets, we will be working on them separately, rather than putting them together. \n",
        "\n",
        "Although above we looked for temperature, here we look for feels_like. The correlation between the two is .95, so we assume it is comparable to the previous case."
      ]
    },
    {
      "cell_type": "code",
      "metadata": {
        "colab": {
          "base_uri": "https://localhost:8080/",
          "height": 212
        },
        "id": "-cfpy_Z3YblS",
        "outputId": "8e842109-f416-41d9-cea2-cc691fa69bf1"
      },
      "source": [
        "df_csv = pd.read_csv('https://raw.githubusercontent.com/MatthewFried/MAT5001/main/Final_Project/weather_data.csv')\n",
        "print(df_csv.shape)\n",
        "df_csv.head()"
      ],
      "execution_count": 140,
      "outputs": [
        {
          "output_type": "stream",
          "text": [
            "(170243, 16)\n"
          ],
          "name": "stdout"
        },
        {
          "output_type": "execute_result",
          "data": {
            "text/html": [
              "<div>\n",
              "<style scoped>\n",
              "    .dataframe tbody tr th:only-of-type {\n",
              "        vertical-align: middle;\n",
              "    }\n",
              "\n",
              "    .dataframe tbody tr th {\n",
              "        vertical-align: top;\n",
              "    }\n",
              "\n",
              "    .dataframe thead th {\n",
              "        text-align: right;\n",
              "    }\n",
              "</style>\n",
              "<table border=\"1\" class=\"dataframe\">\n",
              "  <thead>\n",
              "    <tr style=\"text-align: right;\">\n",
              "      <th></th>\n",
              "      <th>dt</th>\n",
              "      <th>dt_iso</th>\n",
              "      <th>timezone</th>\n",
              "      <th>city_name</th>\n",
              "      <th>lat</th>\n",
              "      <th>lon</th>\n",
              "      <th>temp</th>\n",
              "      <th>feels_like</th>\n",
              "      <th>temp_min</th>\n",
              "      <th>temp_max</th>\n",
              "      <th>pressure</th>\n",
              "      <th>humidity</th>\n",
              "      <th>wind_speed</th>\n",
              "      <th>wind_deg</th>\n",
              "      <th>weather_main</th>\n",
              "      <th>weather_description</th>\n",
              "    </tr>\n",
              "  </thead>\n",
              "  <tbody>\n",
              "    <tr>\n",
              "      <th>0</th>\n",
              "      <td>1041379200</td>\n",
              "      <td>2003-01-01 00:00:00 +0000 UTC</td>\n",
              "      <td>-18000</td>\n",
              "      <td>West Hempstead</td>\n",
              "      <td>40.704824</td>\n",
              "      <td>-73.650129</td>\n",
              "      <td>6.62</td>\n",
              "      <td>3.34</td>\n",
              "      <td>3.9</td>\n",
              "      <td>10.6</td>\n",
              "      <td>1014</td>\n",
              "      <td>100</td>\n",
              "      <td>3.56</td>\n",
              "      <td>205</td>\n",
              "      <td>Mist</td>\n",
              "      <td>mist</td>\n",
              "    </tr>\n",
              "    <tr>\n",
              "      <th>1</th>\n",
              "      <td>1041379200</td>\n",
              "      <td>2003-01-01 00:00:00 +0000 UTC</td>\n",
              "      <td>-18000</td>\n",
              "      <td>West Hempstead</td>\n",
              "      <td>40.704824</td>\n",
              "      <td>-73.650129</td>\n",
              "      <td>6.62</td>\n",
              "      <td>3.34</td>\n",
              "      <td>3.9</td>\n",
              "      <td>10.6</td>\n",
              "      <td>1014</td>\n",
              "      <td>100</td>\n",
              "      <td>3.56</td>\n",
              "      <td>205</td>\n",
              "      <td>Fog</td>\n",
              "      <td>fog</td>\n",
              "    </tr>\n",
              "    <tr>\n",
              "      <th>2</th>\n",
              "      <td>1041382800</td>\n",
              "      <td>2003-01-01 01:00:00 +0000 UTC</td>\n",
              "      <td>-18000</td>\n",
              "      <td>West Hempstead</td>\n",
              "      <td>40.704824</td>\n",
              "      <td>-73.650129</td>\n",
              "      <td>6.53</td>\n",
              "      <td>4.26</td>\n",
              "      <td>4.0</td>\n",
              "      <td>9.4</td>\n",
              "      <td>1015</td>\n",
              "      <td>100</td>\n",
              "      <td>2.10</td>\n",
              "      <td>260</td>\n",
              "      <td>Mist</td>\n",
              "      <td>mist</td>\n",
              "    </tr>\n",
              "    <tr>\n",
              "      <th>3</th>\n",
              "      <td>1041382800</td>\n",
              "      <td>2003-01-01 01:00:00 +0000 UTC</td>\n",
              "      <td>-18000</td>\n",
              "      <td>West Hempstead</td>\n",
              "      <td>40.704824</td>\n",
              "      <td>-73.650129</td>\n",
              "      <td>6.53</td>\n",
              "      <td>4.26</td>\n",
              "      <td>4.0</td>\n",
              "      <td>9.4</td>\n",
              "      <td>1015</td>\n",
              "      <td>100</td>\n",
              "      <td>2.10</td>\n",
              "      <td>260</td>\n",
              "      <td>Fog</td>\n",
              "      <td>fog</td>\n",
              "    </tr>\n",
              "    <tr>\n",
              "      <th>4</th>\n",
              "      <td>1041386400</td>\n",
              "      <td>2003-01-01 02:00:00 +0000 UTC</td>\n",
              "      <td>-18000</td>\n",
              "      <td>West Hempstead</td>\n",
              "      <td>40.704824</td>\n",
              "      <td>-73.650129</td>\n",
              "      <td>6.33</td>\n",
              "      <td>2.74</td>\n",
              "      <td>2.0</td>\n",
              "      <td>9.4</td>\n",
              "      <td>1014</td>\n",
              "      <td>100</td>\n",
              "      <td>3.92</td>\n",
              "      <td>232</td>\n",
              "      <td>Mist</td>\n",
              "      <td>mist</td>\n",
              "    </tr>\n",
              "  </tbody>\n",
              "</table>\n",
              "</div>"
            ],
            "text/plain": [
              "           dt                         dt_iso  ...  weather_main weather_description\n",
              "0  1041379200  2003-01-01 00:00:00 +0000 UTC  ...          Mist                mist\n",
              "1  1041379200  2003-01-01 00:00:00 +0000 UTC  ...           Fog                 fog\n",
              "2  1041382800  2003-01-01 01:00:00 +0000 UTC  ...          Mist                mist\n",
              "3  1041382800  2003-01-01 01:00:00 +0000 UTC  ...           Fog                 fog\n",
              "4  1041386400  2003-01-01 02:00:00 +0000 UTC  ...          Mist                mist\n",
              "\n",
              "[5 rows x 16 columns]"
            ]
          },
          "metadata": {
            "tags": []
          },
          "execution_count": 140
        }
      ]
    },
    {
      "cell_type": "markdown",
      "metadata": {
        "id": "wq5ZOWqzynku"
      },
      "source": [
        "### MongoDB\n",
        "\n",
        "Although we have no reason to use a DBMS due to directly downloading the data via CSV and uploading it to github, we still show how connecting to MongoDB would work.\n",
        "\n",
        "```\n",
        "#use pymongo to connect to mongoDB\n",
        " import pymongo\n",
        "\n",
        " #connec to the client\n",
        " client = pymongo.MongoClient() \n",
        "\n",
        "#list the existing database\n",
        "client.list_database_names()\n",
        "\n",
        "#choose the database we want\n",
        "local_db = client.df_csv\n",
        "\n",
        "#look at the tables in our database (called collections)\n",
        "local_db.list_collection_names()\n",
        "\n",
        "#select the collection within the database\n",
        "test = loca_db.test\n",
        "\n",
        "#convert entire collection to Pandas dataframe\n",
        "test = pd.DataFrame(list(test.find()))\n",
        "```"
      ]
    },
    {
      "cell_type": "markdown",
      "metadata": {
        "id": "Jfwikxp5FqXK"
      },
      "source": [
        "### Convert to Date Format\n",
        "\n",
        "The below code extracts from the dt_iso column just the date (which is under the title: 'using a reshaping operation', in the project guidelines).  While it works, it took over twenty minutes to run, so we leave it here as a reference, rather than include it directly.  It will not affect any stated goals, as such we don't hesitate to smooth out our process.\n",
        "\n",
        "```\n",
        "import re\n",
        "from datetime import datetime\n",
        "\n",
        "for index, row in df_csv.iterrows():\n",
        "  text = df_csv.loc[index,'dt_iso']\n",
        "  df_csv.loc[index, \"dt_iso\"] = str(datetime.strptime((re.search(r'\\d{4}-\\d{2}-\\d{2}', text)).group(), '%Y-%m-%d').date())\n",
        "  ```"
      ]
    },
    {
      "cell_type": "code",
      "metadata": {
        "colab": {
          "base_uri": "https://localhost:8080/"
        },
        "id": "gLLCLMbAh3TB",
        "outputId": "58094745-9a51-4d1e-de37-0fb39433db41"
      },
      "source": [
        "#drop several categories that are either irrelevant or repetitive\n",
        "df_csv.drop(['timezone','city_name','lat','lon','dt'],axis = 1,inplace=True)\n",
        "\n",
        "#note those columns which are categorical\n",
        "cat_columns = ['weather_main', 'weather_description']\n",
        "\n",
        "#note those columns which should be numeric\n",
        "num_columns = ['temp',\t'feels_like',\t'temp_min',\t'temp_max',\t'pressure',\t'humidity',\t'wind_speed','wind_deg']\n",
        "\n",
        "#check the datatypes\n",
        "df_csv.dtypes"
      ],
      "execution_count": 141,
      "outputs": [
        {
          "output_type": "execute_result",
          "data": {
            "text/plain": [
              "dt_iso                  object\n",
              "temp                   float64\n",
              "feels_like             float64\n",
              "temp_min               float64\n",
              "temp_max               float64\n",
              "pressure                 int64\n",
              "humidity                 int64\n",
              "wind_speed             float64\n",
              "wind_deg                 int64\n",
              "weather_main            object\n",
              "weather_description     object\n",
              "dtype: object"
            ]
          },
          "metadata": {
            "tags": []
          },
          "execution_count": 141
        }
      ]
    },
    {
      "cell_type": "code",
      "metadata": {
        "colab": {
          "base_uri": "https://localhost:8080/"
        },
        "id": "0FI_B19ljFRS",
        "outputId": "5f66697f-9cab-4f36-9091-c61e95b560e3"
      },
      "source": [
        "#check for missing values\n",
        "\n",
        "print(df_csv.isnull().sum())\n",
        "print()\n",
        "\n",
        "missing_vals = ['?','-','None', 'NaN','0']\n",
        "for k in missing_vals:\n",
        "  missingVals(df_csv,k)"
      ],
      "execution_count": 142,
      "outputs": [
        {
          "output_type": "stream",
          "text": [
            "dt_iso                 0\n",
            "temp                   0\n",
            "feels_like             0\n",
            "temp_min               0\n",
            "temp_max               0\n",
            "pressure               0\n",
            "humidity               0\n",
            "wind_speed             0\n",
            "wind_deg               0\n",
            "weather_main           0\n",
            "weather_description    0\n",
            "dtype: int64\n",
            "\n",
            "Missing Vals: ?\n",
            "\n",
            "Missing Vals: -\n",
            "\n",
            "Missing Vals: None\n",
            "\n",
            "Missing Vals: NaN\n",
            "\n",
            "Missing Vals: 0\n",
            "\n"
          ],
          "name": "stdout"
        }
      ]
    },
    {
      "cell_type": "code",
      "metadata": {
        "colab": {
          "base_uri": "https://localhost:8080/",
          "height": 284
        },
        "id": "_9oPZTPgtIoX",
        "outputId": "931fa36d-cccd-4ec9-e320-63157a075754"
      },
      "source": [
        "df_csv.describe()"
      ],
      "execution_count": 143,
      "outputs": [
        {
          "output_type": "execute_result",
          "data": {
            "text/html": [
              "<div>\n",
              "<style scoped>\n",
              "    .dataframe tbody tr th:only-of-type {\n",
              "        vertical-align: middle;\n",
              "    }\n",
              "\n",
              "    .dataframe tbody tr th {\n",
              "        vertical-align: top;\n",
              "    }\n",
              "\n",
              "    .dataframe thead th {\n",
              "        text-align: right;\n",
              "    }\n",
              "</style>\n",
              "<table border=\"1\" class=\"dataframe\">\n",
              "  <thead>\n",
              "    <tr style=\"text-align: right;\">\n",
              "      <th></th>\n",
              "      <th>temp</th>\n",
              "      <th>feels_like</th>\n",
              "      <th>temp_min</th>\n",
              "      <th>temp_max</th>\n",
              "      <th>pressure</th>\n",
              "      <th>humidity</th>\n",
              "      <th>wind_speed</th>\n",
              "      <th>wind_deg</th>\n",
              "    </tr>\n",
              "  </thead>\n",
              "  <tbody>\n",
              "    <tr>\n",
              "      <th>count</th>\n",
              "      <td>170243.000000</td>\n",
              "      <td>170243.000000</td>\n",
              "      <td>170243.000000</td>\n",
              "      <td>170243.000000</td>\n",
              "      <td>170243.000000</td>\n",
              "      <td>170243.000000</td>\n",
              "      <td>170243.000000</td>\n",
              "      <td>170243.000000</td>\n",
              "    </tr>\n",
              "    <tr>\n",
              "      <th>mean</th>\n",
              "      <td>12.485676</td>\n",
              "      <td>8.774091</td>\n",
              "      <td>10.770105</td>\n",
              "      <td>14.006698</td>\n",
              "      <td>1016.360696</td>\n",
              "      <td>67.813014</td>\n",
              "      <td>5.083030</td>\n",
              "      <td>196.312183</td>\n",
              "    </tr>\n",
              "    <tr>\n",
              "      <th>std</th>\n",
              "      <td>9.482830</td>\n",
              "      <td>12.193699</td>\n",
              "      <td>9.077181</td>\n",
              "      <td>9.629523</td>\n",
              "      <td>8.110662</td>\n",
              "      <td>20.364596</td>\n",
              "      <td>2.633921</td>\n",
              "      <td>104.300511</td>\n",
              "    </tr>\n",
              "    <tr>\n",
              "      <th>min</th>\n",
              "      <td>-16.830000</td>\n",
              "      <td>-30.940000</td>\n",
              "      <td>-18.300000</td>\n",
              "      <td>-15.510000</td>\n",
              "      <td>965.000000</td>\n",
              "      <td>7.000000</td>\n",
              "      <td>0.020000</td>\n",
              "      <td>0.000000</td>\n",
              "    </tr>\n",
              "    <tr>\n",
              "      <th>25%</th>\n",
              "      <td>4.990000</td>\n",
              "      <td>-0.990000</td>\n",
              "      <td>3.880000</td>\n",
              "      <td>6.330000</td>\n",
              "      <td>1011.000000</td>\n",
              "      <td>52.000000</td>\n",
              "      <td>3.100000</td>\n",
              "      <td>110.000000</td>\n",
              "    </tr>\n",
              "    <tr>\n",
              "      <th>50%</th>\n",
              "      <td>12.560000</td>\n",
              "      <td>8.440000</td>\n",
              "      <td>10.620000</td>\n",
              "      <td>14.000000</td>\n",
              "      <td>1016.000000</td>\n",
              "      <td>69.000000</td>\n",
              "      <td>4.600000</td>\n",
              "      <td>200.000000</td>\n",
              "    </tr>\n",
              "    <tr>\n",
              "      <th>75%</th>\n",
              "      <td>20.660000</td>\n",
              "      <td>19.430000</td>\n",
              "      <td>18.890000</td>\n",
              "      <td>22.200000</td>\n",
              "      <td>1022.000000</td>\n",
              "      <td>86.000000</td>\n",
              "      <td>6.700000</td>\n",
              "      <td>290.000000</td>\n",
              "    </tr>\n",
              "    <tr>\n",
              "      <th>max</th>\n",
              "      <td>37.080000</td>\n",
              "      <td>38.510000</td>\n",
              "      <td>32.780000</td>\n",
              "      <td>39.440000</td>\n",
              "      <td>1045.000000</td>\n",
              "      <td>100.000000</td>\n",
              "      <td>23.200000</td>\n",
              "      <td>360.000000</td>\n",
              "    </tr>\n",
              "  </tbody>\n",
              "</table>\n",
              "</div>"
            ],
            "text/plain": [
              "                temp     feels_like  ...     wind_speed       wind_deg\n",
              "count  170243.000000  170243.000000  ...  170243.000000  170243.000000\n",
              "mean       12.485676       8.774091  ...       5.083030     196.312183\n",
              "std         9.482830      12.193699  ...       2.633921     104.300511\n",
              "min       -16.830000     -30.940000  ...       0.020000       0.000000\n",
              "25%         4.990000      -0.990000  ...       3.100000     110.000000\n",
              "50%        12.560000       8.440000  ...       4.600000     200.000000\n",
              "75%        20.660000      19.430000  ...       6.700000     290.000000\n",
              "max        37.080000      38.510000  ...      23.200000     360.000000\n",
              "\n",
              "[8 rows x 8 columns]"
            ]
          },
          "metadata": {
            "tags": []
          },
          "execution_count": 143
        }
      ]
    },
    {
      "cell_type": "markdown",
      "metadata": {
        "id": "rIb8Z3qVfLdC"
      },
      "source": [
        "Since we are given about twenty years of data, we see the standard deviation is larger than the previous data set."
      ]
    },
    {
      "cell_type": "code",
      "metadata": {
        "colab": {
          "base_uri": "https://localhost:8080/",
          "height": 606
        },
        "id": "eqWGOBmRpepM",
        "outputId": "3ba01908-af01-4ed5-b7ef-f830d6f10d2c"
      },
      "source": [
        "import warnings\n",
        "warnings.filterwarnings('ignore')\n",
        "\n",
        "fig, ax = plt.subplots(1, 2, figsize=(25, 10))\n",
        "for variable, subplot in zip(cat_columns, ax.flatten()):\n",
        "    sns.countplot(df_csv[variable], ax=subplot)"
      ],
      "execution_count": 144,
      "outputs": [
        {
          "output_type": "display_data",
          "data": {
            "image/png": "[encoded data removed]",
            "text/plain": [
              "<Figure size 1800x720 with 2 Axes>"
            ]
          },
          "metadata": {
            "tags": [],
            "needs_background": "light"
          }
        }
      ]
    },
    {
      "cell_type": "code",
      "metadata": {
        "colab": {
          "base_uri": "https://localhost:8080/"
        },
        "id": "VqCPA27kq1FW",
        "outputId": "36b76dcb-b9aa-4277-dd39-5f696dee1f63"
      },
      "source": [
        "#check each categorical value\n",
        "vals = df_csv[['weather_main', 'weather_description']]\n",
        "for x in range(2):\n",
        "    print(vals.columns[x] + \":\")\n",
        "    print(vals[vals.columns[x]].unique())\n",
        "    print(\"\")"
      ],
      "execution_count": 145,
      "outputs": [
        {
          "output_type": "stream",
          "text": [
            "weather_main:\n",
            "['Mist' 'Fog' 'Clouds' 'Rain' 'Snow' 'Drizzle' 'Clear' 'Haze'\n",
            " 'Thunderstorm' 'Squall' 'Smoke']\n",
            "\n",
            "weather_description:\n",
            "['mist' 'fog' 'broken clouds' 'scattered clouds' 'overcast clouds'\n",
            " 'light rain' 'moderate rain' 'heavy intensity rain' 'light snow'\n",
            " 'light intensity drizzle' 'snow' 'few clouds' 'sky is clear' 'haze'\n",
            " 'heavy snow' 'thunderstorm' 'thunderstorm with heavy rain'\n",
            " 'heavy intesity shower rain' 'thunderstorm with rain'\n",
            " 'light intensity shower rain' 'very heavy rain' 'shower rain'\n",
            " 'freezing rain' 'light rain and snow' 'rain and snow'\n",
            " 'thunderstorm with light rain' 'drizzle' 'squalls' 'smoke'\n",
            " 'proximity thunderstorm']\n",
            "\n"
          ],
          "name": "stdout"
        }
      ]
    },
    {
      "cell_type": "markdown",
      "metadata": {
        "id": "TsBepDiuv2B5"
      },
      "source": [
        "Below we look at a pivot table, curious if this will give us insight."
      ]
    },
    {
      "cell_type": "code",
      "metadata": {
        "colab": {
          "base_uri": "https://localhost:8080/",
          "height": 402
        },
        "id": "7FRXhoc_v8wt",
        "outputId": "c31610ff-0e7c-4d1b-dc9a-558aca52c50e"
      },
      "source": [
        "df_csv.pivot_table(['temp'],index=['weather_main'])"
      ],
      "execution_count": 146,
      "outputs": [
        {
          "output_type": "execute_result",
          "data": {
            "text/html": [
              "<div>\n",
              "<style scoped>\n",
              "    .dataframe tbody tr th:only-of-type {\n",
              "        vertical-align: middle;\n",
              "    }\n",
              "\n",
              "    .dataframe tbody tr th {\n",
              "        vertical-align: top;\n",
              "    }\n",
              "\n",
              "    .dataframe thead th {\n",
              "        text-align: right;\n",
              "    }\n",
              "</style>\n",
              "<table border=\"1\" class=\"dataframe\">\n",
              "  <thead>\n",
              "    <tr style=\"text-align: right;\">\n",
              "      <th></th>\n",
              "      <th>temp</th>\n",
              "    </tr>\n",
              "    <tr>\n",
              "      <th>weather_main</th>\n",
              "      <th></th>\n",
              "    </tr>\n",
              "  </thead>\n",
              "  <tbody>\n",
              "    <tr>\n",
              "      <th>Clear</th>\n",
              "      <td>9.675238</td>\n",
              "    </tr>\n",
              "    <tr>\n",
              "      <th>Clouds</th>\n",
              "      <td>13.037746</td>\n",
              "    </tr>\n",
              "    <tr>\n",
              "      <th>Drizzle</th>\n",
              "      <td>10.180949</td>\n",
              "    </tr>\n",
              "    <tr>\n",
              "      <th>Fog</th>\n",
              "      <td>12.701807</td>\n",
              "    </tr>\n",
              "    <tr>\n",
              "      <th>Haze</th>\n",
              "      <td>21.785759</td>\n",
              "    </tr>\n",
              "    <tr>\n",
              "      <th>Mist</th>\n",
              "      <td>12.252922</td>\n",
              "    </tr>\n",
              "    <tr>\n",
              "      <th>Rain</th>\n",
              "      <td>12.685833</td>\n",
              "    </tr>\n",
              "    <tr>\n",
              "      <th>Smoke</th>\n",
              "      <td>17.092212</td>\n",
              "    </tr>\n",
              "    <tr>\n",
              "      <th>Snow</th>\n",
              "      <td>-1.213040</td>\n",
              "    </tr>\n",
              "    <tr>\n",
              "      <th>Squall</th>\n",
              "      <td>24.110000</td>\n",
              "    </tr>\n",
              "    <tr>\n",
              "      <th>Thunderstorm</th>\n",
              "      <td>20.928345</td>\n",
              "    </tr>\n",
              "  </tbody>\n",
              "</table>\n",
              "</div>"
            ],
            "text/plain": [
              "                   temp\n",
              "weather_main           \n",
              "Clear          9.675238\n",
              "Clouds        13.037746\n",
              "Drizzle       10.180949\n",
              "Fog           12.701807\n",
              "Haze          21.785759\n",
              "Mist          12.252922\n",
              "Rain          12.685833\n",
              "Smoke         17.092212\n",
              "Snow          -1.213040\n",
              "Squall        24.110000\n",
              "Thunderstorm  20.928345"
            ]
          },
          "metadata": {
            "tags": []
          },
          "execution_count": 146
        }
      ]
    },
    {
      "cell_type": "markdown",
      "metadata": {
        "id": "2BLD028gwypj"
      },
      "source": [
        "The above confirms for us the typical temperature average distribution we would expect for different weather patterns.  This helps us with the data integrity."
      ]
    },
    {
      "cell_type": "code",
      "metadata": {
        "colab": {
          "base_uri": "https://localhost:8080/",
          "height": 607
        },
        "id": "QohGyyJcrxig",
        "outputId": "d1dbe5fc-11e9-4681-b71f-0f0ca08ef9c9"
      },
      "source": [
        "#histograms\n",
        "df_csv.hist(bins=50, figsize=(15,10))\n",
        "plt.show()"
      ],
      "execution_count": 147,
      "outputs": [
        {
          "output_type": "display_data",
          "data": {
            "image/png": "[encoded data removed]",
            "text/plain": [
              "<Figure size 1080x720 with 9 Axes>"
            ]
          },
          "metadata": {
            "tags": [],
            "needs_background": "light"
          }
        }
      ]
    },
    {
      "cell_type": "markdown",
      "metadata": {
        "id": "6qvnXX3yfUPW"
      },
      "source": [
        "We see that humitidy, wind speed, and wind_deg stand out as not being normal."
      ]
    },
    {
      "cell_type": "markdown",
      "metadata": {
        "id": "CiXK1ji8fcuY"
      },
      "source": [
        "Below we use one_hot encoding in order to do the tree regressor."
      ]
    },
    {
      "cell_type": "code",
      "metadata": {
        "colab": {
          "base_uri": "https://localhost:8080/",
          "height": 568
        },
        "id": "qUI1SB-_vZNe",
        "outputId": "bdbb6ff6-1f3d-4124-d647-d347e8ee0094"
      },
      "source": [
        "#we are going to do a tree regressor\n",
        "#we need to convert the categorical data via get_dummies to do so\n",
        "one_hot = pd.get_dummies(df_csv[['weather_main', 'weather_description']])\n",
        "\n",
        "#drop weather_main and weather_description from df_csv\n",
        "df_csv.drop(['weather_main', 'weather_description'],axis=1,inplace=True)\n",
        "\n",
        "#put the two dataframes together\n",
        "test = pd.concat([df_csv,one_hot],axis=1, join = \"inner\")\n",
        "\n",
        "#show what we have\n",
        "test.head()"
      ],
      "execution_count": 148,
      "outputs": [
        {
          "output_type": "execute_result",
          "data": {
            "text/html": [
              "<div>\n",
              "<style scoped>\n",
              "    .dataframe tbody tr th:only-of-type {\n",
              "        vertical-align: middle;\n",
              "    }\n",
              "\n",
              "    .dataframe tbody tr th {\n",
              "        vertical-align: top;\n",
              "    }\n",
              "\n",
              "    .dataframe thead th {\n",
              "        text-align: right;\n",
              "    }\n",
              "</style>\n",
              "<table border=\"1\" class=\"dataframe\">\n",
              "  <thead>\n",
              "    <tr style=\"text-align: right;\">\n",
              "      <th></th>\n",
              "      <th>dt_iso</th>\n",
              "      <th>temp</th>\n",
              "      <th>feels_like</th>\n",
              "      <th>temp_min</th>\n",
              "      <th>temp_max</th>\n",
              "      <th>pressure</th>\n",
              "      <th>humidity</th>\n",
              "      <th>wind_speed</th>\n",
              "      <th>wind_deg</th>\n",
              "      <th>weather_main_Clear</th>\n",
              "      <th>weather_main_Clouds</th>\n",
              "      <th>weather_main_Drizzle</th>\n",
              "      <th>weather_main_Fog</th>\n",
              "      <th>weather_main_Haze</th>\n",
              "      <th>weather_main_Mist</th>\n",
              "      <th>weather_main_Rain</th>\n",
              "      <th>weather_main_Smoke</th>\n",
              "      <th>weather_main_Snow</th>\n",
              "      <th>weather_main_Squall</th>\n",
              "      <th>weather_main_Thunderstorm</th>\n",
              "      <th>weather_description_broken clouds</th>\n",
              "      <th>weather_description_drizzle</th>\n",
              "      <th>weather_description_few clouds</th>\n",
              "      <th>weather_description_fog</th>\n",
              "      <th>weather_description_freezing rain</th>\n",
              "      <th>weather_description_haze</th>\n",
              "      <th>weather_description_heavy intensity rain</th>\n",
              "      <th>weather_description_heavy intesity shower rain</th>\n",
              "      <th>weather_description_heavy snow</th>\n",
              "      <th>weather_description_light intensity drizzle</th>\n",
              "      <th>weather_description_light intensity shower rain</th>\n",
              "      <th>weather_description_light rain</th>\n",
              "      <th>weather_description_light rain and snow</th>\n",
              "      <th>weather_description_light snow</th>\n",
              "      <th>weather_description_mist</th>\n",
              "      <th>weather_description_moderate rain</th>\n",
              "      <th>weather_description_overcast clouds</th>\n",
              "      <th>weather_description_proximity thunderstorm</th>\n",
              "      <th>weather_description_rain and snow</th>\n",
              "      <th>weather_description_scattered clouds</th>\n",
              "      <th>weather_description_shower rain</th>\n",
              "      <th>weather_description_sky is clear</th>\n",
              "      <th>weather_description_smoke</th>\n",
              "      <th>weather_description_snow</th>\n",
              "      <th>weather_description_squalls</th>\n",
              "      <th>weather_description_thunderstorm</th>\n",
              "      <th>weather_description_thunderstorm with heavy rain</th>\n",
              "      <th>weather_description_thunderstorm with light rain</th>\n",
              "      <th>weather_description_thunderstorm with rain</th>\n",
              "      <th>weather_description_very heavy rain</th>\n",
              "    </tr>\n",
              "  </thead>\n",
              "  <tbody>\n",
              "    <tr>\n",
              "      <th>0</th>\n",
              "      <td>2003-01-01 00:00:00 +0000 UTC</td>\n",
              "      <td>6.62</td>\n",
              "      <td>3.34</td>\n",
              "      <td>3.9</td>\n",
              "      <td>10.6</td>\n",
              "      <td>1014</td>\n",
              "      <td>100</td>\n",
              "      <td>3.56</td>\n",
              "      <td>205</td>\n",
              "      <td>0</td>\n",
              "      <td>0</td>\n",
              "      <td>0</td>\n",
              "      <td>0</td>\n",
              "      <td>0</td>\n",
              "      <td>1</td>\n",
              "      <td>0</td>\n",
              "      <td>0</td>\n",
              "      <td>0</td>\n",
              "      <td>0</td>\n",
              "      <td>0</td>\n",
              "      <td>0</td>\n",
              "      <td>0</td>\n",
              "      <td>0</td>\n",
              "      <td>0</td>\n",
              "      <td>0</td>\n",
              "      <td>0</td>\n",
              "      <td>0</td>\n",
              "      <td>0</td>\n",
              "      <td>0</td>\n",
              "      <td>0</td>\n",
              "      <td>0</td>\n",
              "      <td>0</td>\n",
              "      <td>0</td>\n",
              "      <td>0</td>\n",
              "      <td>1</td>\n",
              "      <td>0</td>\n",
              "      <td>0</td>\n",
              "      <td>0</td>\n",
              "      <td>0</td>\n",
              "      <td>0</td>\n",
              "      <td>0</td>\n",
              "      <td>0</td>\n",
              "      <td>0</td>\n",
              "      <td>0</td>\n",
              "      <td>0</td>\n",
              "      <td>0</td>\n",
              "      <td>0</td>\n",
              "      <td>0</td>\n",
              "      <td>0</td>\n",
              "      <td>0</td>\n",
              "    </tr>\n",
              "    <tr>\n",
              "      <th>1</th>\n",
              "      <td>2003-01-01 00:00:00 +0000 UTC</td>\n",
              "      <td>6.62</td>\n",
              "      <td>3.34</td>\n",
              "      <td>3.9</td>\n",
              "      <td>10.6</td>\n",
              "      <td>1014</td>\n",
              "      <td>100</td>\n",
              "      <td>3.56</td>\n",
              "      <td>205</td>\n",
              "      <td>0</td>\n",
              "      <td>0</td>\n",
              "      <td>0</td>\n",
              "      <td>1</td>\n",
              "      <td>0</td>\n",
              "      <td>0</td>\n",
              "      <td>0</td>\n",
              "      <td>0</td>\n",
              "      <td>0</td>\n",
              "      <td>0</td>\n",
              "      <td>0</td>\n",
              "      <td>0</td>\n",
              "      <td>0</td>\n",
              "      <td>0</td>\n",
              "      <td>1</td>\n",
              "      <td>0</td>\n",
              "      <td>0</td>\n",
              "      <td>0</td>\n",
              "      <td>0</td>\n",
              "      <td>0</td>\n",
              "      <td>0</td>\n",
              "      <td>0</td>\n",
              "      <td>0</td>\n",
              "      <td>0</td>\n",
              "      <td>0</td>\n",
              "      <td>0</td>\n",
              "      <td>0</td>\n",
              "      <td>0</td>\n",
              "      <td>0</td>\n",
              "      <td>0</td>\n",
              "      <td>0</td>\n",
              "      <td>0</td>\n",
              "      <td>0</td>\n",
              "      <td>0</td>\n",
              "      <td>0</td>\n",
              "      <td>0</td>\n",
              "      <td>0</td>\n",
              "      <td>0</td>\n",
              "      <td>0</td>\n",
              "      <td>0</td>\n",
              "      <td>0</td>\n",
              "    </tr>\n",
              "    <tr>\n",
              "      <th>2</th>\n",
              "      <td>2003-01-01 01:00:00 +0000 UTC</td>\n",
              "      <td>6.53</td>\n",
              "      <td>4.26</td>\n",
              "      <td>4.0</td>\n",
              "      <td>9.4</td>\n",
              "      <td>1015</td>\n",
              "      <td>100</td>\n",
              "      <td>2.10</td>\n",
              "      <td>260</td>\n",
              "      <td>0</td>\n",
              "      <td>0</td>\n",
              "      <td>0</td>\n",
              "      <td>0</td>\n",
              "      <td>0</td>\n",
              "      <td>1</td>\n",
              "      <td>0</td>\n",
              "      <td>0</td>\n",
              "      <td>0</td>\n",
              "      <td>0</td>\n",
              "      <td>0</td>\n",
              "      <td>0</td>\n",
              "      <td>0</td>\n",
              "      <td>0</td>\n",
              "      <td>0</td>\n",
              "      <td>0</td>\n",
              "      <td>0</td>\n",
              "      <td>0</td>\n",
              "      <td>0</td>\n",
              "      <td>0</td>\n",
              "      <td>0</td>\n",
              "      <td>0</td>\n",
              "      <td>0</td>\n",
              "      <td>0</td>\n",
              "      <td>0</td>\n",
              "      <td>1</td>\n",
              "      <td>0</td>\n",
              "      <td>0</td>\n",
              "      <td>0</td>\n",
              "      <td>0</td>\n",
              "      <td>0</td>\n",
              "      <td>0</td>\n",
              "      <td>0</td>\n",
              "      <td>0</td>\n",
              "      <td>0</td>\n",
              "      <td>0</td>\n",
              "      <td>0</td>\n",
              "      <td>0</td>\n",
              "      <td>0</td>\n",
              "      <td>0</td>\n",
              "      <td>0</td>\n",
              "    </tr>\n",
              "    <tr>\n",
              "      <th>3</th>\n",
              "      <td>2003-01-01 01:00:00 +0000 UTC</td>\n",
              "      <td>6.53</td>\n",
              "      <td>4.26</td>\n",
              "      <td>4.0</td>\n",
              "      <td>9.4</td>\n",
              "      <td>1015</td>\n",
              "      <td>100</td>\n",
              "      <td>2.10</td>\n",
              "      <td>260</td>\n",
              "      <td>0</td>\n",
              "      <td>0</td>\n",
              "      <td>0</td>\n",
              "      <td>1</td>\n",
              "      <td>0</td>\n",
              "      <td>0</td>\n",
              "      <td>0</td>\n",
              "      <td>0</td>\n",
              "      <td>0</td>\n",
              "      <td>0</td>\n",
              "      <td>0</td>\n",
              "      <td>0</td>\n",
              "      <td>0</td>\n",
              "      <td>0</td>\n",
              "      <td>1</td>\n",
              "      <td>0</td>\n",
              "      <td>0</td>\n",
              "      <td>0</td>\n",
              "      <td>0</td>\n",
              "      <td>0</td>\n",
              "      <td>0</td>\n",
              "      <td>0</td>\n",
              "      <td>0</td>\n",
              "      <td>0</td>\n",
              "      <td>0</td>\n",
              "      <td>0</td>\n",
              "      <td>0</td>\n",
              "      <td>0</td>\n",
              "      <td>0</td>\n",
              "      <td>0</td>\n",
              "      <td>0</td>\n",
              "      <td>0</td>\n",
              "      <td>0</td>\n",
              "      <td>0</td>\n",
              "      <td>0</td>\n",
              "      <td>0</td>\n",
              "      <td>0</td>\n",
              "      <td>0</td>\n",
              "      <td>0</td>\n",
              "      <td>0</td>\n",
              "      <td>0</td>\n",
              "    </tr>\n",
              "    <tr>\n",
              "      <th>4</th>\n",
              "      <td>2003-01-01 02:00:00 +0000 UTC</td>\n",
              "      <td>6.33</td>\n",
              "      <td>2.74</td>\n",
              "      <td>2.0</td>\n",
              "      <td>9.4</td>\n",
              "      <td>1014</td>\n",
              "      <td>100</td>\n",
              "      <td>3.92</td>\n",
              "      <td>232</td>\n",
              "      <td>0</td>\n",
              "      <td>0</td>\n",
              "      <td>0</td>\n",
              "      <td>0</td>\n",
              "      <td>0</td>\n",
              "      <td>1</td>\n",
              "      <td>0</td>\n",
              "      <td>0</td>\n",
              "      <td>0</td>\n",
              "      <td>0</td>\n",
              "      <td>0</td>\n",
              "      <td>0</td>\n",
              "      <td>0</td>\n",
              "      <td>0</td>\n",
              "      <td>0</td>\n",
              "      <td>0</td>\n",
              "      <td>0</td>\n",
              "      <td>0</td>\n",
              "      <td>0</td>\n",
              "      <td>0</td>\n",
              "      <td>0</td>\n",
              "      <td>0</td>\n",
              "      <td>0</td>\n",
              "      <td>0</td>\n",
              "      <td>0</td>\n",
              "      <td>1</td>\n",
              "      <td>0</td>\n",
              "      <td>0</td>\n",
              "      <td>0</td>\n",
              "      <td>0</td>\n",
              "      <td>0</td>\n",
              "      <td>0</td>\n",
              "      <td>0</td>\n",
              "      <td>0</td>\n",
              "      <td>0</td>\n",
              "      <td>0</td>\n",
              "      <td>0</td>\n",
              "      <td>0</td>\n",
              "      <td>0</td>\n",
              "      <td>0</td>\n",
              "      <td>0</td>\n",
              "    </tr>\n",
              "  </tbody>\n",
              "</table>\n",
              "</div>"
            ],
            "text/plain": [
              "                          dt_iso  ...  weather_description_very heavy rain\n",
              "0  2003-01-01 00:00:00 +0000 UTC  ...                                    0\n",
              "1  2003-01-01 00:00:00 +0000 UTC  ...                                    0\n",
              "2  2003-01-01 01:00:00 +0000 UTC  ...                                    0\n",
              "3  2003-01-01 01:00:00 +0000 UTC  ...                                    0\n",
              "4  2003-01-01 02:00:00 +0000 UTC  ...                                    0\n",
              "\n",
              "[5 rows x 50 columns]"
            ]
          },
          "metadata": {
            "tags": []
          },
          "execution_count": 148
        }
      ]
    },
    {
      "cell_type": "code",
      "metadata": {
        "colab": {
          "base_uri": "https://localhost:8080/"
        },
        "id": "09-aaTNcr4K1",
        "outputId": "e6a6ad7a-d71d-42f4-f3bb-2d9a3da3a93e"
      },
      "source": [
        "from sklearn.model_selection import train_test_split\n",
        "from sklearn.ensemble import RandomForestRegressor\n",
        "from sklearn.model_selection import cross_val_score\n",
        "from sklearn.metrics import mean_squared_error, mean_absolute_error, r2_score\n",
        "\n",
        "#we drop anything that would be \"too much\" concurrent information when looking for \"feels_like\" or is irrelevant\n",
        "test.drop(['dt_iso','temp','temp_min','temp_max'],axis=1,inplace=True)\n",
        "\n",
        "#use randomforestregressor to see if our model is reasonable\n",
        "df = test.copy()\n",
        "X = df.drop(['feels_like'], axis = 1)\n",
        "y = df_csv['feels_like']\n",
        "\n",
        "X_train, X_test, y_train, y_test = train_test_split(X, y, test_size=0.2, random_state=26)\n",
        "\n",
        "df_model1 = RandomForestRegressor().fit(X_train , y_train)\n",
        "accuracies = cross_val_score(estimator = df_model1, X = X_train, y = y_train, cv = 5,verbose = 1)\n",
        "y_pred = df_model1.predict(X_test)\n",
        "print('')\n",
        "print('###### Random Forest ######')\n",
        "print('Score : %.4f' % df_model1.score(X_test, y_test))\n",
        "print(accuracies)\n",
        "\n",
        "mse = mean_squared_error(y_test, y_pred)\n",
        "mae = mean_absolute_error(y_test, y_pred)\n",
        "rmse = mean_squared_error(y_test, y_pred)**0.5\n",
        "r2 = r2_score(y_test, y_pred)\n",
        "\n",
        "print('MSE    : %0.2f ' % mse)\n",
        "print('MAE    : %0.2f ' % mae)\n",
        "print('RMSE   : %0.2f ' % rmse)\n",
        "print('R2     : %0.2f ' % r2)"
      ],
      "execution_count": 279,
      "outputs": [
        {
          "output_type": "stream",
          "text": [
            "[Parallel(n_jobs=1)]: Using backend SequentialBackend with 1 concurrent workers.\n",
            "[Parallel(n_jobs=1)]: Done   5 out of   5 | elapsed:  5.0min finished\n"
          ],
          "name": "stderr"
        },
        {
          "output_type": "stream",
          "text": [
            "\n",
            "###### Random Forest ######\n",
            "Score : 0.5163\n",
            "[0.50741525 0.50224674 0.50580511 0.50475887 0.50570573]\n",
            "MSE    : 71.47 \n",
            "MAE    : 6.56 \n",
            "RMSE   : 8.45 \n",
            "R2     : 0.52 \n"
          ],
          "name": "stdout"
        }
      ]
    },
    {
      "cell_type": "markdown",
      "metadata": {
        "id": "lFhV_MPkbbdb"
      },
      "source": [
        "# Conclusion\n",
        "\n",
        "Our results speak for themselves:\n",
        "\n",
        "```\n",
        "###### Random Forest ######\n",
        "Score : 0.5163\n",
        "[0.50741525 0.50224674 0.50580511 0.50475887 0.50570573]\n",
        "MSE    : 71.47 \n",
        "MAE    : 6.56 \n",
        "RMSE   : 8.45 \n",
        "R2     : 0.52 \n",
        "```\n",
        "We attempted to predict what the temperature feels like using anything but the temperature, and it seems that it is no better than a random guess.  Factors such as pressure, humidity,\twind_speed,\twind_deg, and weather description do not seem to assist in predicting what the temperature will feel like.\n",
        "\n",
        "Overall we have found an interesting phenomenon: twenty years of data, even using an incredible powerful ensemble model regressor, is not as easy to predict as a shorter timeframe (i.e. a month)."
      ]
    }
  ]
}