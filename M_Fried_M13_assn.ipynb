{
  "nbformat": 4,
  "nbformat_minor": 0,
  "metadata": {
    "colab": {
      "name": "M_Fried_M13_assn.ipynb",
      "provenance": []
    },
    "kernelspec": {
      "name": "python3",
      "display_name": "Python 3"
    },
    "language_info": {
      "name": "python"
    }
  },
  "cells": [
    {
      "cell_type": "markdown",
      "metadata": {
        "id": "k7hwc49GDvBZ"
      },
      "source": [
        "#Data Retrieval\n",
        "\n",
        "We are working on loading data from PostgreSQL into Python, then putting the data into MongoDB.  PostgreSQL is a SQL-type database while MongoDB is a noSQL database.  We are using Python to retrieve the entire content of the Customer and Invoice tables from the Chinook database, then we will place the data into a pandas dataframe.  \n",
        "\n",
        "Directly below we load data from PostgreSQL into Python as a list of tuples."
      ]
    },
    {
      "cell_type": "markdown",
      "metadata": {
        "id": "xHAS8V56E30q"
      },
      "source": [
        "## Step 1 of Assignmnet - Explanation\n",
        "\n",
        "**PostgreSQL to Python to MongoDB to Pandas**\n",
        "\n",
        "We take the PostgreSQL data and use an intermediary step of loading it into Python via the psycopg2 library.  This means we first connect to PostgreSQL and then use .cursor() from our connection to load all the information from each table using a select * statement, execute the code, and store it in a variable called invoice or customer, respectively.\n",
        "\n",
        "From there, we use pymongo MongoClient to create a client and create holders db to hold the Chinook database.  We use mycol_1 to store the collection of Invoice and mycol_2 to store the collection of Customer.\n",
        "\n",
        "Then, in order to migrate from MongoDB to Pandas we use our invoice and customer variables to convert them into a list after using the find({}) function, upon which we convert it into a pandas dataframe."
      ]
    },
    {
      "cell_type": "markdown",
      "metadata": {
        "id": "7ftXdHuIGdSe"
      },
      "source": [
        "## Step 2 of Assignment"
      ]
    },
    {
      "cell_type": "code",
      "metadata": {
        "id": "nmX-jZgNASyf"
      },
      "source": [
        "#The psycopg2 is a Python module to work with the PostgreSQL database.\n",
        "import psycopg2\n",
        "\n",
        "#The connect() method creates a new database session and returns a connection object. \n",
        "connection = psycopg2.connect(user=\"sysadmin\", password=\"1234\", host=\"8.8.8.8\", port=\"5432\", database=\"chinook_db\")\n",
        "    \n",
        "#From the connection, we get the cursor object. \n",
        "#The cursor is used to traverse the records from the result set. \n",
        "cursor = connection.cursor()\n",
        "\n",
        "#We call the execute() method of the cursor and execute the SQL statement.\n",
        "#The fetchall() fetches all the rows of a query result, returning them as a list of tuples.\n",
        "#get Invoice data\n",
        "postgreSQL_select_Query = \"select * from Invoice\"\n",
        "cursor.execute(postgreSQL_select_Query)\n",
        "invoice = cursor.fetchall()\n",
        "\n",
        "#get customer data\n",
        "postgreSQL_select_Query = \"select * from Customer\"\n",
        "cursor.execute(postgreSQL_select_Query)\n",
        "customer = cursor.fetchall()"
      ],
      "execution_count": null,
      "outputs": []
    },
    {
      "cell_type": "markdown",
      "metadata": {
        "id": "KXQCBaxsEEQu"
      },
      "source": [
        "###Place in MongoDB\n",
        "\n",
        "Convert loaded data into MongoDB"
      ]
    },
    {
      "cell_type": "code",
      "metadata": {
        "id": "YLt80cH9B_DG"
      },
      "source": [
        "#use the mongo library\n",
        "from pymongo import MongoClient\n",
        "\n",
        "#create a client\n",
        "client = MongoClient()\n",
        "\n",
        "#create a database\n",
        "db = client['Chinook']\n",
        "\n",
        "#create a collection for each table that was in the database\n",
        "mycol_1 = db[\"Invoice\"]\n",
        "invoice = mycol_1.insert_many(invoice)\n",
        "\n",
        "mycol_2 = db[\"Customer\"]\n",
        "customer = mycol_2.insert_many(customer)"
      ],
      "execution_count": null,
      "outputs": []
    },
    {
      "cell_type": "markdown",
      "metadata": {
        "id": "_TBiEe-ZGjF9"
      },
      "source": [
        "## Step 3 of Assignment"
      ]
    },
    {
      "cell_type": "markdown",
      "metadata": {
        "id": "hY_hPz76HIPG"
      },
      "source": [
        "###Mongo to Pandas\n",
        "\n",
        "Here we convert the mongoDB info to a pandas dataframe."
      ]
    },
    {
      "cell_type": "code",
      "metadata": {
        "id": "JKCzoZjtHOu4"
      },
      "source": [
        "import pandas as pd\n",
        "\n",
        "#here we convert the collection from mongo to a list as explained in class\n",
        "df_1 = pd.DataFrame(list(invoice.find({}))\n",
        "df_2 = pd.DataFrame(list(customer.find({}))"
      ],
      "execution_count": null,
      "outputs": []
    }
  ]
}